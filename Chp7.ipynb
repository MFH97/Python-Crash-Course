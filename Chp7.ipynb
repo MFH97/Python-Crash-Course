{
  "nbformat": 4,
  "nbformat_minor": 0,
  "metadata": {
    "colab": {
      "provenance": [],
      "authorship_tag": "ABX9TyN2ZffVFVgRE/lgE3aWiuXu",
      "include_colab_link": true
    },
    "kernelspec": {
      "name": "python3",
      "display_name": "Python 3"
    },
    "language_info": {
      "name": "python"
    }
  },
  "cells": [
    {
      "cell_type": "markdown",
      "metadata": {
        "id": "view-in-github",
        "colab_type": "text"
      },
      "source": [
        "<a href=\"https://colab.research.google.com/github/MFH97/Python-Crash-Course/blob/main/Chp7.ipynb\" target=\"_parent\"><img src=\"https://colab.research.google.com/assets/colab-badge.svg\" alt=\"Open In Colab\"/></a>"
      ]
    },
    {
      "cell_type": "markdown",
      "source": [
        "# User Input & While Loops\n",
        "\n",
        "How the input() function works\n",
        "The input() function pauses your\n",
        " program and waits for the user to enter\n",
        "some text. Once Python receives the user’s input, it stores it in a variable to make it convenient for you to work with.\n",
        "\n",
        "For example, the following program asks the user to enter some text,\n",
        "then displays that message back to the user:"
      ],
      "metadata": {
        "id": "dQxpDF4yFke1"
      }
    },
    {
      "cell_type": "code",
      "execution_count": 1,
      "metadata": {
        "colab": {
          "base_uri": "https://localhost:8080/"
        },
        "id": "uzvjdoPQFL3A",
        "outputId": "7a37ef9a-d3df-4413-d17b-07d6f7afb1d4"
      },
      "outputs": [
        {
          "output_type": "stream",
          "name": "stdout",
          "text": [
            "Tell me something, and i will repeat it back to you: Hello\n",
            "Hello\n"
          ]
        }
      ],
      "source": [
        "message = input(\"Tell me something, and i will repeat it back to you: \")\n",
        "print(message)"
      ]
    },
    {
      "cell_type": "markdown",
      "source": [
        "The input() function takes one argument: the prompt, or instructions,\n",
        "that we want to display to the user so they know what to do. In this example,\n",
        "when Python runs the first line, the user sees the prompt Tell me something,\n",
        "and I will repeat it back to you: . The program waits while the user enters\n",
        "their response and continues after the user presses enter. The response is\n",
        "stored in the  variable message, then print(message) displays the input back to the user."
      ],
      "metadata": {
        "id": "XCHmAGviGl2z"
      }
    },
    {
      "cell_type": "code",
      "source": [
        "name = input(\"Please enter your name: \")\n",
        "print (\"Greetings! \" + name)"
      ],
      "metadata": {
        "colab": {
          "base_uri": "https://localhost:8080/"
        },
        "id": "EdM4YQldHWcD",
        "outputId": "88b8cd81-ed84-4e05-f40f-f99b40981a63"
      },
      "execution_count": 2,
      "outputs": [
        {
          "output_type": "stream",
          "name": "stdout",
          "text": [
            "Please enter your name: Fahiq\n",
            "Greetings! Fahiq\n"
          ]
        }
      ]
    },
    {
      "cell_type": "code",
      "source": [
        "prompt = \"Say something to me.\"\n",
        "prompt  +=\"\\nWhat is your first name? \"\n",
        "name = input(prompt)\n",
        "print(\"\\nHello, \" + name + \"!\")"
      ],
      "metadata": {
        "colab": {
          "base_uri": "https://localhost:8080/"
        },
        "id": "NYqf1jxFHhIb",
        "outputId": "0652508c-33d0-43a2-b055-daf1cc208e11"
      },
      "execution_count": 5,
      "outputs": [
        {
          "output_type": "stream",
          "name": "stdout",
          "text": [
            "Say something to me.\n",
            "What is your first name? Mike\n",
            "\n",
            "Hello, Mike!\n"
          ]
        }
      ]
    },
    {
      "cell_type": "markdown",
      "source": [
        "When you use the input() function, Python interprets everything the user\n",
        "enters as a **string**."
      ],
      "metadata": {
        "id": "QI2C1kNfH2-r"
      }
    },
    {
      "cell_type": "code",
      "source": [
        "#cant compare string & int\n",
        "age = input(\"How old are you? \")\n",
        "print(age)\n",
        "age >=18"
      ],
      "metadata": {
        "colab": {
          "base_uri": "https://localhost:8080/",
          "height": 211
        },
        "id": "tMIQXe_0HwY6",
        "outputId": "93964b4a-10bc-45e3-a004-b2ed6fb2c6df"
      },
      "execution_count": 8,
      "outputs": [
        {
          "output_type": "stream",
          "name": "stdout",
          "text": [
            "How old are you? 9\n",
            "9\n"
          ]
        },
        {
          "output_type": "error",
          "ename": "TypeError",
          "evalue": "'>=' not supported between instances of 'str' and 'int'",
          "traceback": [
            "\u001b[0;31m---------------------------------------------------------------------------\u001b[0m",
            "\u001b[0;31mTypeError\u001b[0m                                 Traceback (most recent call last)",
            "\u001b[0;32m<ipython-input-8-af53ae4831d8>\u001b[0m in \u001b[0;36m<cell line: 4>\u001b[0;34m()\u001b[0m\n\u001b[1;32m      2\u001b[0m \u001b[0mage\u001b[0m \u001b[0;34m=\u001b[0m \u001b[0minput\u001b[0m\u001b[0;34m(\u001b[0m\u001b[0;34m\"How old are you? \"\u001b[0m\u001b[0;34m)\u001b[0m\u001b[0;34m\u001b[0m\u001b[0;34m\u001b[0m\u001b[0m\n\u001b[1;32m      3\u001b[0m \u001b[0mprint\u001b[0m\u001b[0;34m(\u001b[0m\u001b[0mage\u001b[0m\u001b[0;34m)\u001b[0m\u001b[0;34m\u001b[0m\u001b[0;34m\u001b[0m\u001b[0m\n\u001b[0;32m----> 4\u001b[0;31m \u001b[0mage\u001b[0m \u001b[0;34m>=\u001b[0m\u001b[0;36m18\u001b[0m\u001b[0;34m\u001b[0m\u001b[0;34m\u001b[0m\u001b[0m\n\u001b[0m",
            "\u001b[0;31mTypeError\u001b[0m: '>=' not supported between instances of 'str' and 'int'"
          ]
        }
      ]
    },
    {
      "cell_type": "markdown",
      "source": [
        "When you use a numerical input to campare the value 18. Python produces an error because it can’t compare a string to an integer."
      ],
      "metadata": {
        "id": "g2qhtm-QIfpb"
      }
    },
    {
      "cell_type": "markdown",
      "source": [
        "We can resolve this issue by using the int() function, which tells\n",
        "Python to treat the input as a numerical value. The int() function con\n",
        "verts a string representation of a number to a numerical representation,\n",
        "as shown here:"
      ],
      "metadata": {
        "id": "0nhEvNY1I71C"
      }
    },
    {
      "cell_type": "code",
      "source": [
        "age = input(\"How old are you? \")\n",
        "age = int(age) #converts string to int\n",
        "print(age)\n",
        "if age >=18:\n",
        "    print (\"You are above 18 years old!\")\n",
        "else:\n",
        "    print(\"You are underage!\")"
      ],
      "metadata": {
        "colab": {
          "base_uri": "https://localhost:8080/"
        },
        "id": "7_xwDLwlI9U6",
        "outputId": "d64e6a25-89c4-40fd-b3b7-9ba68e639f32"
      },
      "execution_count": 9,
      "outputs": [
        {
          "output_type": "stream",
          "name": "stdout",
          "text": [
            "How old are you? 27\n",
            "27\n",
            "You are above 18 years old!\n"
          ]
        }
      ]
    },
    {
      "cell_type": "code",
      "source": [
        "number = input(\"Enter a number, and i will tell you if its even or odd: \")\n",
        "number = int(number)\n",
        "\n",
        "if number % 2 == 0:\n",
        "    print(\"\\tThe number \" + str(number) + \" is even.\")\n",
        "else:\n",
        "    print(\"\\tThe number \" + str(number) + \" is odd.\")"
      ],
      "metadata": {
        "colab": {
          "base_uri": "https://localhost:8080/"
        },
        "id": "0bFLGYU-JIHr",
        "outputId": "12cd0135-01df-4ea0-938f-a841609bd8d2"
      },
      "execution_count": 10,
      "outputs": [
        {
          "output_type": "stream",
          "name": "stdout",
          "text": [
            "Enter a number, and i will tell you if its even or odd: 5\n",
            "\tThe number 5 is odd.\n"
          ]
        }
      ]
    },
    {
      "cell_type": "code",
      "source": [
        "#7-1 Rental car\n",
        "\n",
        "car = input(\"What kind of car would you like to rent? \")\n",
        "print(\"Let see if we can get you a \" + car + \"!\")"
      ],
      "metadata": {
        "colab": {
          "base_uri": "https://localhost:8080/"
        },
        "id": "HfcJ84ETJUcT",
        "outputId": "de022996-68f4-43db-db04-d83f358fff30"
      },
      "execution_count": 11,
      "outputs": [
        {
          "output_type": "stream",
          "name": "stdout",
          "text": [
            "What kind of car would you like to rent? BMW\n",
            "Let see if we can get you a BMW!\n"
          ]
        }
      ]
    },
    {
      "cell_type": "code",
      "source": [
        "#7-2 Restaurant Seating\n",
        "\n",
        "seats = input(\"How many seats you need for your dinner group? \")\n",
        "seats = int(seats)\n",
        "\n",
        "if seats >8:\n",
        "    print(\"Sorry, you would have to wait for a table.\")\n",
        "else:\n",
        "    print(\"Your table is ready!\")"
      ],
      "metadata": {
        "colab": {
          "base_uri": "https://localhost:8080/"
        },
        "id": "NuaN0mNkJYV4",
        "outputId": "65954aeb-ba8b-488d-a3c2-5ce814768d74"
      },
      "execution_count": 12,
      "outputs": [
        {
          "output_type": "stream",
          "name": "stdout",
          "text": [
            "How many seats you need for your dinner group? 7\n",
            "Your table is ready!\n"
          ]
        }
      ]
    },
    {
      "cell_type": "markdown",
      "source": [
        "# The Modulo Operator\n",
        " A useful tool for working with numerical information is the modulo operator (%),\n",
        "which divides one number by another number and returns the remainder:"
      ],
      "metadata": {
        "id": "ujyEOkCGJ4Jj"
      }
    },
    {
      "cell_type": "code",
      "source": [
        "4 % 3"
      ],
      "metadata": {
        "colab": {
          "base_uri": "https://localhost:8080/"
        },
        "id": "VHmUca5mJ6eb",
        "outputId": "379235a7-b08b-4b90-d9ce-ff7d61199d9a"
      },
      "execution_count": 14,
      "outputs": [
        {
          "output_type": "execute_result",
          "data": {
            "text/plain": [
              "1"
            ]
          },
          "metadata": {},
          "execution_count": 14
        }
      ]
    },
    {
      "cell_type": "code",
      "source": [
        "6 % 3"
      ],
      "metadata": {
        "colab": {
          "base_uri": "https://localhost:8080/"
        },
        "id": "jZNOk3UGJ9jq",
        "outputId": "38fa9b8d-ed19-449a-b682-37a56fbe182b"
      },
      "execution_count": 17,
      "outputs": [
        {
          "output_type": "execute_result",
          "data": {
            "text/plain": [
              "0"
            ]
          },
          "metadata": {},
          "execution_count": 17
        }
      ]
    },
    {
      "cell_type": "code",
      "source": [
        "7 % 3"
      ],
      "metadata": {
        "colab": {
          "base_uri": "https://localhost:8080/"
        },
        "id": "2qmlmb10KCAb",
        "outputId": "7a2fa8c3-6239-4d6e-8683-1dfc31a89f01"
      },
      "execution_count": 16,
      "outputs": [
        {
          "output_type": "execute_result",
          "data": {
            "text/plain": [
              "1"
            ]
          },
          "metadata": {},
          "execution_count": 16
        }
      ]
    },
    {
      "cell_type": "markdown",
      "source": [
        "The modulo operator doesn’t tell you how many times one number fits\n",
        "into another; it just tells you what the remainder is.\n",
        " When one number is divisible by another number, the remainder is 0,\n",
        "so the modulo operator always returns 0. You can use this fact to determine\n",
        "if a number is even or odd:"
      ],
      "metadata": {
        "id": "a5tTruH6K4fi"
      }
    },
    {
      "cell_type": "code",
      "source": [
        "#7-3 Multiples of ten\n",
        "\n",
        "number = input(\"Enter a number, and i will tell you if its a multiple of 10 or not: \")\n",
        "number = int(number)\n",
        "\n",
        "if number % 10 == 0:\n",
        "    print(\"\\tThe number \" + str(number) + \" is a multiple of 10!\")\n",
        "else:\n",
        "    print(\"\\tThe number \" + str(number) + \" is not a multiple of 10!\")"
      ],
      "metadata": {
        "colab": {
          "base_uri": "https://localhost:8080/"
        },
        "id": "QZE88t2QJj8b",
        "outputId": "996a9740-7fb1-4dcf-d1fc-24b3da60f7b7"
      },
      "execution_count": 13,
      "outputs": [
        {
          "output_type": "stream",
          "name": "stdout",
          "text": [
            "Enter a number, and i will tell you if its a multiple of 10 or not: 20\n",
            "\tThe number 20 is a multiple of 10!\n"
          ]
        }
      ]
    },
    {
      "cell_type": "markdown",
      "source": [
        "# While Loops\n",
        "\n",
        " The for loop takes a collection of items and executes a block of code once\n",
        "for each item in the collection. In contrast, the while loop runs as long as, or while, a certain condition is true.\n",
        "\n",
        "You can use a while loop to count up through a series of numbers. For\n",
        "example, the following while loop counts from 1 to 5:\n"
      ],
      "metadata": {
        "id": "HAhmLnM9JrK7"
      }
    },
    {
      "cell_type": "code",
      "source": [
        "current_number = 1\n",
        "while current_number <= 5:\n",
        "    print(current_number)\n",
        "    current_number += 1"
      ],
      "metadata": {
        "colab": {
          "base_uri": "https://localhost:8080/"
        },
        "id": "xMF5Jz5sOYkC",
        "outputId": "00c109c6-b364-4526-b7b8-c88e8bed4c74"
      },
      "execution_count": 18,
      "outputs": [
        {
          "output_type": "stream",
          "name": "stdout",
          "text": [
            "1\n",
            "2\n",
            "3\n",
            "4\n",
            "5\n"
          ]
        }
      ]
    },
    {
      "cell_type": "markdown",
      "source": [
        "(The += operator is shorthand for current_number = current_number + 1.)\n",
        "\n",
        "Python repeats the loop as long as the condition current_number <= 5 is true. Because 1 is less than 5,Python prints 1 and then adds 1, making the current number 2 till value of current_number is greater than 5, the loop stops running and the program ends."
      ],
      "metadata": {
        "id": "7nZdRdOdPe_Z"
      }
    },
    {
      "cell_type": "code",
      "source": [
        "prompt = \"\\nTell me something, and i will repeat it back to you:\"\n",
        "prompt += \"\\nEnter 'quit' to end the program \"\n",
        "\n",
        "message = \"\"\n",
        "while message != 'quit':\n",
        "    message = input(prompt)\n",
        "\n",
        "    if message != 'quit':\n",
        "\n",
        "        print(message)"
      ],
      "metadata": {
        "colab": {
          "base_uri": "https://localhost:8080/"
        },
        "id": "qiXhxYMbOy3Z",
        "outputId": "f6833d56-91f1-46c8-b630-376e0b58003c"
      },
      "execution_count": 19,
      "outputs": [
        {
          "name": "stdout",
          "output_type": "stream",
          "text": [
            "\n",
            "Tell me something, and i will repeat it back to you:\n",
            "Enter 'quit' to end the program hi\n",
            "hi\n",
            "\n",
            "Tell me something, and i will repeat it back to you:\n",
            "Enter 'quit' to end the program how are you\n",
            "how are you\n",
            "\n",
            "Tell me something, and i will repeat it back to you:\n",
            "Enter 'quit' to end the program quit\n"
          ]
        }
      ]
    },
    {
      "cell_type": "markdown",
      "source": [
        " Thie variable, called a flag, acts as a signal to the program. We\n",
        "can write our programs so they run while the flag is set to True and stop run\n",
        "ning when any of several events sets the value of the flag to False. As a result,\n",
        "our overall while statement needs to check only one condition: whether or\n",
        "not the flag is currently True."
      ],
      "metadata": {
        "id": "VHLHUkoYSpqx"
      }
    },
    {
      "cell_type": "code",
      "source": [
        "#Flag\n",
        "\n",
        "prompt = \"\\nTell me something, and i will repeat it back to you:\"\n",
        "prompt += \"\\nEnter 'quit' to end the program \"\n",
        "\n",
        "active = True\n",
        "while active:\n",
        "    message = input(prompt)\n",
        "\n",
        "\n",
        "    if message == 'quit':\n",
        "        active = False\n",
        "    else:\n",
        "        print(message)"
      ],
      "metadata": {
        "colab": {
          "base_uri": "https://localhost:8080/"
        },
        "id": "ksul28f7PKvi",
        "outputId": "d9f5e3ca-77ae-4432-b67a-273b0eb1c98f"
      },
      "execution_count": 20,
      "outputs": [
        {
          "name": "stdout",
          "output_type": "stream",
          "text": [
            "\n",
            "Tell me something, and i will repeat it back to you:\n",
            "Enter 'quit' to end the program Hello!\n",
            "Hello!\n",
            "\n",
            "Tell me something, and i will repeat it back to you:\n",
            "Enter 'quit' to end the program My name is Jack\n",
            "My name is Jack\n",
            "\n",
            "Tell me something, and i will repeat it back to you:\n",
            "Enter 'quit' to end the program quit\n"
          ]
        }
      ]
    },
    {
      "cell_type": "code",
      "source": [
        "#break\n",
        "\n",
        "prompt = \"\\nEnter a city name that you have visited:\"\n",
        "prompt += \"\\nEnter 'quit' once done. \"\n",
        "\n",
        "while True:\n",
        "    city =input(prompt)\n",
        "\n",
        "    if city == 'quit':\n",
        "        break\n",
        "    else:\n",
        "        print(\"I'd love to go to \" + city.title() + \"!\")"
      ],
      "metadata": {
        "colab": {
          "base_uri": "https://localhost:8080/"
        },
        "id": "faLgIb5_S01R",
        "outputId": "04fbcbbd-17c6-4a2c-aef6-90f4f4b04a23"
      },
      "execution_count": 21,
      "outputs": [
        {
          "name": "stdout",
          "output_type": "stream",
          "text": [
            "\n",
            "Enter a city name that you have visited:\n",
            "Enter 'quit' once done. singapore\n",
            "I'd love to go to Singapore!\n",
            "\n",
            "Enter a city name that you have visited:\n",
            "Enter 'quit' once done. quit\n"
          ]
        }
      ]
    },
    {
      "cell_type": "code",
      "source": [
        "#Using continue in a loop\n",
        "\n",
        "current_number = 0\n",
        "while current_number < 10:\n",
        "    current_number += 1\n",
        "    if current_number %2 == 0:\n",
        "        continue\n",
        "    print(current_number)\n",
        "\n",
        "\n"
      ],
      "metadata": {
        "colab": {
          "base_uri": "https://localhost:8080/"
        },
        "id": "eQWMIEMwS9Ot",
        "outputId": "ecf94f6b-d0ca-4c62-a2e2-e0cdab44674e"
      },
      "execution_count": 23,
      "outputs": [
        {
          "output_type": "stream",
          "name": "stdout",
          "text": [
            "1\n",
            "3\n",
            "5\n",
            "7\n",
            "9\n"
          ]
        }
      ]
    },
    {
      "cell_type": "code",
      "source": [
        "\n",
        "x =1\n",
        "while x <= 5:\n",
        "    print(x)\n",
        "    x +=1"
      ],
      "metadata": {
        "colab": {
          "base_uri": "https://localhost:8080/"
        },
        "id": "LIUX8bd0TDLj",
        "outputId": "0bbba840-4c45-48d2-d1b7-eac80e17d318"
      },
      "execution_count": 22,
      "outputs": [
        {
          "output_type": "stream",
          "name": "stdout",
          "text": [
            "1\n",
            "2\n",
            "3\n",
            "4\n",
            "5\n"
          ]
        }
      ]
    },
    {
      "cell_type": "markdown",
      "source": [
        "**The code below is an Infinite loop**\n",
        "\n",
        "> click the stop button to stop the program!\n",
        "\n"
      ],
      "metadata": {
        "id": "USmr5n-ZZGko"
      }
    },
    {
      "cell_type": "code",
      "source": [
        "# 7-7 Infinie loop (Ctrl-C to stop)\n",
        "\n",
        "x = 1\n",
        "while x <= 5:\n",
        "    print(x)\n",
        "    x =1"
      ],
      "metadata": {
        "colab": {
          "base_uri": "https://localhost:8080/",
          "height": 106
        },
        "id": "XSu0LBiwTbg5",
        "outputId": "f5d93e5a-6307-4809-d223-7de3c023f974"
      },
      "execution_count": 26,
      "outputs": [
        {
          "output_type": "error",
          "ename": "SyntaxError",
          "evalue": "invalid decimal literal (<ipython-input-26-b2d768b4f9de>, line 6)",
          "traceback": [
            "\u001b[0;36m  File \u001b[0;32m\"<ipython-input-26-b2d768b4f9de>\"\u001b[0;36m, line \u001b[0;32m6\u001b[0m\n\u001b[0;31m    x =1a\u001b[0m\n\u001b[0m       ^\u001b[0m\n\u001b[0;31mSyntaxError\u001b[0m\u001b[0;31m:\u001b[0m invalid decimal literal\n"
          ]
        }
      ]
    },
    {
      "cell_type": "code",
      "source": [
        "#7-4 Pizza Toppings\n",
        "\n",
        "prompt = \"\\nEnter your pizza toppings:\"\n",
        "prompt += \"\\nEnter 'quit' once done. \"\n",
        "\n",
        "pizza_toppings = []\n",
        "\n",
        "while True:\n",
        "    toppings = input(prompt)\n",
        "    if toppings == 'quit':\n",
        "        break\n",
        "    else:\n",
        "        pizza_toppings.append(toppings)\n",
        "\n",
        "print(\"\\nYour chosen pizza toppings are: \" + ', '.join(pizza_toppings))\n"
      ],
      "metadata": {
        "colab": {
          "base_uri": "https://localhost:8080/"
        },
        "id": "A4eC3P9vTd0J",
        "outputId": "51e9d458-c2b2-47fa-9075-c0dce08bb080"
      },
      "execution_count": 28,
      "outputs": [
        {
          "output_type": "stream",
          "name": "stdout",
          "text": [
            "\n",
            "Enter your pizza toppings:\n",
            "Enter 'quit' once done. cheese\n",
            "\n",
            "Enter your pizza toppings:\n",
            "Enter 'quit' once done. mushroom\n",
            "\n",
            "Enter your pizza toppings:\n",
            "Enter 'quit' once done. quit\n",
            "\n",
            "Your chosen pizza toppings are: cheese, mushroom\n"
          ]
        }
      ]
    },
    {
      "cell_type": "code",
      "source": [
        "#7-5 Movie Tickets\n",
        "\n",
        "prompt = \"\\nEnter your age:\"\n",
        "prompt += \"\\nEnter 'quit' once done. \"\n",
        "\n",
        "\n",
        "while True:\n",
        "    user_input = input(prompt)\n",
        "\n",
        "    if user_input == 'quit':\n",
        "        break\n",
        "    age = int(user_input)\n",
        "    if age < 3:\n",
        "        print(\"Your ticket is free\")\n",
        "    elif age >=3 and age <=12:\n",
        "        print(\"Your ticket is $10\")\n",
        "    else:\n",
        "        print(\"Your ticket is $15\")"
      ],
      "metadata": {
        "colab": {
          "base_uri": "https://localhost:8080/"
        },
        "id": "A0Qe0xprT4dA",
        "outputId": "b679aecd-a3bc-4327-c8bf-3e6afaf74493"
      },
      "execution_count": 29,
      "outputs": [
        {
          "name": "stdout",
          "output_type": "stream",
          "text": [
            "\n",
            "Enter your age:\n",
            "Enter 'quit' once done. 21\n",
            "Your ticket is $15\n",
            "\n",
            "Enter your age:\n",
            "Enter 'quit' once done. 9\n",
            "Your ticket is $10\n",
            "\n",
            "Enter your age:\n",
            "Enter 'quit' once done. quit\n"
          ]
        }
      ]
    },
    {
      "cell_type": "code",
      "source": [
        "#3 times\n",
        "\n",
        "prompt = \"\\nEnter your age:\"\n",
        "prompt += \"\\nEnter 'quit' once done. \"\n",
        "\n",
        "x = 0\n",
        "while x < 3:\n",
        "    user_input = input(prompt)\n",
        "    x += 1\n",
        "\n",
        "    if user_input == 'quit':\n",
        "        break\n",
        "    age = int(user_input)\n",
        "    if age < 3:\n",
        "        print(\"Your ticket is free\")\n",
        "    elif age >=3 and age <=12:\n",
        "        print(\"Your ticket is $10\")\n",
        "    else:\n",
        "        print(\"Your ticket is $15\")"
      ],
      "metadata": {
        "colab": {
          "base_uri": "https://localhost:8080/"
        },
        "id": "_ZgiXB4OT-Dw",
        "outputId": "310cc276-4164-4806-8da8-abfddeddce7d"
      },
      "execution_count": 30,
      "outputs": [
        {
          "output_type": "stream",
          "name": "stdout",
          "text": [
            "\n",
            "Enter your age:\n",
            "Enter 'quit' once done. 2\n",
            "Your ticket is free\n",
            "\n",
            "Enter your age:\n",
            "Enter 'quit' once done. 7\n",
            "Your ticket is $10\n",
            "\n",
            "Enter your age:\n",
            "Enter 'quit' once done. 19\n",
            "Your ticket is $15\n"
          ]
        }
      ]
    },
    {
      "cell_type": "markdown",
      "source": [],
      "metadata": {
        "id": "FtD3s3CpUEDI"
      }
    },
    {
      "cell_type": "code",
      "source": [
        "#Moving items from one list to another\n",
        "#starts with users that need to be verified,\n",
        "# and an empty list to hold confirmed users\n",
        "\n",
        "unconfirmed_users = ['alice','brian','jackson']\n",
        "confirmed_users = []\n",
        "\n",
        "#Verify each users till no more unconfirmed users\n",
        "# Move each verified users into the list of confirmed users\n",
        "\n",
        "while unconfirmed_users:\n",
        "    current_user = unconfirmed_users.pop()\n",
        "\n",
        "    print(\"Verifying user: \" + current_user.title())\n",
        "    confirmed_users.append(current_user)\n",
        "\n",
        "#Display all confirmed users\n",
        "print(\"\\nThe following users have been confirmed: \")\n",
        "for confirmed_user in confirmed_users:\n",
        "     print(confirmed_user.title())"
      ],
      "metadata": {
        "colab": {
          "base_uri": "https://localhost:8080/"
        },
        "id": "UnOhO-nAULvA",
        "outputId": "985c9b3d-5acd-48ce-876e-1f55b23e27ff"
      },
      "execution_count": 27,
      "outputs": [
        {
          "output_type": "stream",
          "name": "stdout",
          "text": [
            "Verifying user: Jackson\n",
            "Verifying user: Brian\n",
            "Verifying user: Alice\n",
            "\n",
            "The following users have been confirmed: \n",
            "Jackson\n",
            "Brian\n",
            "Alice\n"
          ]
        }
      ]
    },
    {
      "cell_type": "code",
      "source": [
        "#Removig all instance of specific values from a list\n",
        "\n",
        "pets = ['dog','cat','goldfish','cat','rabbit','cat']\n",
        "print(pets)\n",
        "\n",
        "while 'cat' in pets:\n",
        "    pets.remove('cat')\n",
        "\n",
        "    print(pets)"
      ],
      "metadata": {
        "colab": {
          "base_uri": "https://localhost:8080/"
        },
        "id": "icJIsis2USG4",
        "outputId": "74746925-31fe-4429-a497-18b7ff61edea"
      },
      "execution_count": 31,
      "outputs": [
        {
          "output_type": "stream",
          "name": "stdout",
          "text": [
            "['dog', 'cat', 'goldfish', 'cat', 'rabbit', 'cat']\n",
            "['dog', 'goldfish', 'cat', 'rabbit', 'cat']\n",
            "['dog', 'goldfish', 'rabbit', 'cat']\n",
            "['dog', 'goldfish', 'rabbit']\n"
          ]
        }
      ]
    },
    {
      "cell_type": "code",
      "source": [
        "#Filling a dictionary with user input\n",
        "\n",
        "responses = {}\n",
        "#Set a flag to indicate that the polling is active\n",
        "polling_active = True\n",
        "\n",
        "while polling_active:\n",
        "#Prompt for the person's name and response in the dictionary\n",
        "    name = input(\"\\nWhat is your name? \")\n",
        "    response = input(\"Which mountain would you like to climb someday? \")\n",
        "\n",
        "#Store the response in the dictionary\n",
        "    responses[name] = response\n",
        "\n",
        "#Find out if anyone else is going to take the poll\n",
        "    repeat = input(\"Would you like to let another person (yes/no) \")\n",
        "    if repeat == 'no':\n",
        "        polling_active =False\n",
        "\n",
        "#Polling is complete. Show results\n",
        "print(\"\\n---Poll Resluts---\")\n",
        "for name, response in responses.items():\n",
        "    print(name + \" would you like to climb \" + response + \".\")"
      ],
      "metadata": {
        "colab": {
          "base_uri": "https://localhost:8080/"
        },
        "id": "_Jz099gWUXOI",
        "outputId": "7cbaed7e-2252-404b-e5ff-66c188751f89"
      },
      "execution_count": 33,
      "outputs": [
        {
          "output_type": "stream",
          "name": "stdout",
          "text": [
            "\n",
            "What is your name? Fahiq\n",
            "Which mountain would you like to climb someday? Kinabalu\n",
            "Would you like to let another person (yes/no) yes\n",
            "\n",
            "What is your name? Eric\n",
            "Which mountain would you like to climb someday? Bromo\n",
            "Would you like to let another person (yes/no) yes\n",
            "\n",
            "What is your name? Farhan\n",
            "Which mountain would you like to climb someday? Everest\n",
            "Would you like to let another person (yes/no) no\n",
            "\n",
            "---Poll Resluts---\n",
            "Fahiq would you like to climb Kinabalu.\n",
            "Eric would you like to climb Bromo.\n",
            "Farhan would you like to climb Everest.\n"
          ]
        }
      ]
    }
  ]
}