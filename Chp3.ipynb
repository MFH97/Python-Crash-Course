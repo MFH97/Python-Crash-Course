{
  "nbformat": 4,
  "nbformat_minor": 0,
  "metadata": {
    "colab": {
      "provenance": [],
      "authorship_tag": "ABX9TyOLkJRt3uemmqQI53+LwtVH",
      "include_colab_link": true
    },
    "kernelspec": {
      "name": "python3",
      "display_name": "Python 3"
    },
    "language_info": {
      "name": "python"
    }
  },
  "cells": [
    {
      "cell_type": "markdown",
      "metadata": {
        "id": "view-in-github",
        "colab_type": "text"
      },
      "source": [
        "<a href=\"https://colab.research.google.com/github/MFH97/Python-Crash-Course/blob/main/Chp3.ipynb\" target=\"_parent\"><img src=\"https://colab.research.google.com/assets/colab-badge.svg\" alt=\"Open In Colab\"/></a>"
      ]
    },
    {
      "cell_type": "markdown",
      "source": [
        "#  Introducing Lists\n",
        "\n",
        "A list is a collection of items in a particular order. You can make a list that includes the letters of the alphabet, the digits from 0–9, or the names of all the people in your family. You can put anything you want into a list, and the items in your list don’t have to be related in any particular way. Because a list usually contains more than one element, it’s a good idea to make the name of your list plural, such as letters, digits, or names.\n",
        "In Python, square brackets [] indicate a list, and individual elements\n",
        "in the list are separated by commas. Here’s a simple example of a list that\n",
        "contains a few kinds of cars:"
      ],
      "metadata": {
        "id": "SO_8aiKNe4Cc"
      }
    },
    {
      "cell_type": "code",
      "execution_count": null,
      "metadata": {
        "colab": {
          "base_uri": "https://localhost:8080/"
        },
        "id": "kpU3mJjKevuf",
        "outputId": "3d00cce7-293b-44d4-c4d9-be5a14147b6b"
      },
      "outputs": [
        {
          "output_type": "stream",
          "name": "stdout",
          "text": [
            "['honda', 'nissan', 'toyota', 'ford']\n"
          ]
        }
      ],
      "source": [
        "cars = ['honda', 'nissan', 'toyota','ford']\n",
        "print(cars)\n",
        "#When a list is printed, Python returns its representation of the lis\n",
        "#including the square brackets"
      ]
    },
    {
      "cell_type": "markdown",
      "source": [
        "# Accessing Elements in a List\n",
        " Lists are ordered collections, so you can access any element in a list by\n",
        "telling Python the position, or index, of the item desired. To access an element in a list, write the name of the list followed by the index of the item\n",
        "enclosed in square brackets."
      ],
      "metadata": {
        "id": "J5IBCknogRfB"
      }
    },
    {
      "cell_type": "code",
      "source": [
        "# Python considers the first item in a list to be at position 0, not position 1.\n",
        "cars = ['honda', 'nissan', 'toyota','ford']\n",
        "print(cars[2].title())\n",
        "print(cars[0])\n",
        "print(cars[1])\n",
        "print(cars[-1]) #returns the last item on the list"
      ],
      "metadata": {
        "colab": {
          "base_uri": "https://localhost:8080/"
        },
        "id": "SeP9ufaIgR0B",
        "outputId": "8760ceba-a73a-424c-a8a0-d3919423a49b"
      },
      "execution_count": null,
      "outputs": [
        {
          "output_type": "stream",
          "name": "stdout",
          "text": [
            "Toyota\n",
            "honda\n",
            "nissan\n",
            "ford\n"
          ]
        }
      ]
    },
    {
      "cell_type": "markdown",
      "source": [
        "# Using Individual Values from a List\n",
        " You can use individual values from a list just as you would any other variable. For example, you can use concatenation to create a message based on a value from a list."
      ],
      "metadata": {
        "id": "wV_mugLIhzVK"
      }
    },
    {
      "cell_type": "code",
      "source": [
        "cars = ['honda', 'nissan', 'toyota','ford']\n",
        "message = \"My favorite car is \"+ cars[1].title() + \" GTR!\"\n",
        "print(message)"
      ],
      "metadata": {
        "colab": {
          "base_uri": "https://localhost:8080/"
        },
        "id": "a1WWcIRhhpxU",
        "outputId": "b13b5bd5-cc3f-4b16-a8df-d05d10726b4c"
      },
      "execution_count": null,
      "outputs": [
        {
          "output_type": "stream",
          "name": "stdout",
          "text": [
            "My favorite car is Nissan GTR!\n"
          ]
        }
      ]
    },
    {
      "cell_type": "markdown",
      "source": [
        "#  Try It Yourself\n",
        "\n",
        "*    3-1. Names: Store the names of a few of your friends in a list called names. Print each person’s name by accessing each element in the list, one at a time.\n",
        "\n",
        "*    3-2. Greetings: Start with the list you used in Exercise 3-1, but instead of just printing each person’s name, print a message to them. The text of each message should be the same, but each message should be personalized with the\n",
        "person’s name.\n",
        "\n",
        "*    3-3. Your Own List: Think of your favorite mode of transportation, such as a motorcycle or a car, and make a list that stores several examples. Use your list to print a series of statements about these items, such as “I would like to own a Honda motorcycle.\n",
        "\n",
        "\n"
      ],
      "metadata": {
        "id": "Nc4-zvW_iBsR"
      }
    },
    {
      "cell_type": "markdown",
      "source": [
        "#Change add and removing elements\n",
        " Most lists you create will be dynamic,meaning you’ll build a list and then add and remove elements from it as your program runs its course.\n",
        "\n",
        "The syntax for modifying an element is similar to the syntax for accessing\n",
        "an element in a list. To change an element, use the name of the list followed by the index of the element you want to change, and then provide the new\n",
        "value you want that item to have.\n"
      ],
      "metadata": {
        "id": "99LTF--kinOV"
      }
    },
    {
      "cell_type": "code",
      "source": [
        "motorcycles = ['honda', 'yamaha','suzuki']\n",
        "print(motorcycles)\n",
        "motorcycles[0] = 'ducati'\n",
        "print(motorcycles)\n",
        "# To add a new element to a list is to append the item to the list.\n",
        "# When you append an item to a list, the new element is added to the end\n",
        "#of the list.\n",
        "motorcycles.append('honda')\n",
        "print(motorcycles)"
      ],
      "metadata": {
        "colab": {
          "base_uri": "https://localhost:8080/"
        },
        "id": "RYQXX-dVjDbJ",
        "outputId": "2548111e-37ea-4992-dfe6-22f98b030544"
      },
      "execution_count": null,
      "outputs": [
        {
          "output_type": "stream",
          "name": "stdout",
          "text": [
            "['honda', 'yamaha', 'suzuki']\n",
            "['ducati', 'yamaha', 'suzuki']\n",
            "['ducati', 'yamaha', 'suzuki', 'honda']\n"
          ]
        }
      ]
    },
    {
      "cell_type": "markdown",
      "source": [
        "The **append**() method makes it easy to build lists dynamically. For example, you can start with an empty list and then add items to the list using a series of append() statements.\n",
        "\n",
        "You can add a new element at any position in your list by using the **insert**() method.\n",
        "\n",
        "If you know the position of the item you want to remove from a list, you can\n",
        "use the **del** statement."
      ],
      "metadata": {
        "id": "7nXFoiR6jwQ0"
      }
    },
    {
      "cell_type": "code",
      "source": [
        "car = []\n",
        "car.append('mitsubishi')\n",
        "car.append('Audi')\n",
        "car.append('mercedes')\n",
        "print(car)\n",
        "\n",
        "#Inserting Elements into a List\n",
        "car.insert(0,'Bentley')\n",
        "print(car)\n",
        "\n",
        "#Removing Elements from a list\n",
        "del car[1]\n",
        "print(car)"
      ],
      "metadata": {
        "colab": {
          "base_uri": "https://localhost:8080/"
        },
        "id": "XN1k73AUj27c",
        "outputId": "dedc087e-e8b4-4632-bd6a-286911d0299f"
      },
      "execution_count": null,
      "outputs": [
        {
          "output_type": "stream",
          "name": "stdout",
          "text": [
            "['mitsubishi', 'Audi', 'mercedes']\n",
            "['Bentley', 'mitsubishi', 'Audi', 'mercedes']\n",
            "['Bentley', 'Audi', 'mercedes']\n"
          ]
        }
      ]
    },
    {
      "cell_type": "markdown",
      "source": [
        "# Removing an Item Using the pop() Method\n",
        " Sometimes you’ll want to use the value of an item after you remove it from a\n",
        "list."
      ],
      "metadata": {
        "id": "_M4wlzRIlbjo"
      }
    },
    {
      "cell_type": "code",
      "source": [
        "#1\n",
        "motorcycles = ['yamaha','suzuki','honda']\n",
        "print(motorcycles)\n",
        "#2\n",
        "updated_motorcycles = motorcycles.pop()\n",
        "#3\n",
        "print(motorcycles)\n",
        "#4\n",
        "print(updated_motorcycles)"
      ],
      "metadata": {
        "colab": {
          "base_uri": "https://localhost:8080/"
        },
        "id": "gNfP1VYFlj2v",
        "outputId": "86aee6f0-355e-4240-a94b-4296c1dfe0f1"
      },
      "execution_count": null,
      "outputs": [
        {
          "output_type": "stream",
          "name": "stdout",
          "text": [
            "['yamaha', 'suzuki', 'honda']\n",
            "['yamaha', 'suzuki']\n",
            "honda\n"
          ]
        }
      ]
    },
    {
      "cell_type": "markdown",
      "source": [
        "\n",
        "\n",
        "1.   We start by defining and printing the list motorcycles\n",
        "2.    we pop a value from the list and store that value in the variable updated_motorcycles.\n",
        "3. We print the list, to show that a value has been removed from the list\n",
        "4. Then we print the popped value, to prove that we still have access to\n",
        "the value that was removed.\n",
        "\n"
      ],
      "metadata": {
        "id": "8FUSVVZUl8VN"
      }
    },
    {
      "cell_type": "markdown",
      "source": [
        "#How to use s pop() method?"
      ],
      "metadata": {
        "id": "B1qPwkwFnq4b"
      }
    },
    {
      "cell_type": "code",
      "source": [
        "motorcycles = ['yamaha','suzuki','honda']\n",
        "lastOwned = motorcycles.pop()\n",
        "print(\"The motorcycle that I currently own is \" + lastOwned.title() + \" CB400SF\" + \".\")"
      ],
      "metadata": {
        "colab": {
          "base_uri": "https://localhost:8080/"
        },
        "id": "UR8FEo03KuCM",
        "outputId": "c308eee8-35b7-4bd2-b920-ac3737b21639"
      },
      "execution_count": null,
      "outputs": [
        {
          "output_type": "stream",
          "name": "stdout",
          "text": [
            "The motorcycle that I currently own is Honda CB400SF.\n"
          ]
        }
      ]
    },
    {
      "cell_type": "markdown",
      "source": [
        "#Popping Items from any Position in a List"
      ],
      "metadata": {
        "id": "5--PV1wQLMaT"
      }
    },
    {
      "cell_type": "code",
      "source": [
        "motorcycles = ['yamaha','suzuki','honda']\n",
        "wish_ToOwn = motorcycles.pop(1)\n",
        "print(\"The motorcycle that i wish to own is \" + wish_ToOwn.title() + \" Hayabusa\" + '!')"
      ],
      "metadata": {
        "colab": {
          "base_uri": "https://localhost:8080/"
        },
        "id": "AY1cQu93LNHL",
        "outputId": "3a99f4c1-3a10-4a60-8dc5-07b7df367703"
      },
      "execution_count": null,
      "outputs": [
        {
          "output_type": "stream",
          "name": "stdout",
          "text": [
            "The motorcycle that i wish to own is Suzuki Hayabusa!\n"
          ]
        }
      ]
    },
    {
      "cell_type": "markdown",
      "source": [
        "Remember that each time you use pop(), the item you work with is no longer stored in the list.\n",
        "\n",
        "If you’re unsure whether to use the **del** statement or the **pop()** method,\n",
        "here’s a simple way to decide: when you want to delete an item from a list\n",
        "and not use that item in any way, use the **del** statement; if you want to use an item as you remove it, use the **pop**() method."
      ],
      "metadata": {
        "id": "3F85BN_oLiwr"
      }
    },
    {
      "cell_type": "markdown",
      "source": [
        "#Removig an item by value"
      ],
      "metadata": {
        "id": "ip36SLhvL4N7"
      }
    },
    {
      "cell_type": "code",
      "source": [
        "motorcycles = ['ducati','yamaha','suzuki','honda']\n",
        "print(motorcycles)\n",
        "\n",
        "motorcycles.remove('ducati')\n",
        "print(motorcycles)"
      ],
      "metadata": {
        "colab": {
          "base_uri": "https://localhost:8080/"
        },
        "id": "z2riFzbPL56z",
        "outputId": "c3bb0ef7-cf5c-4f2f-99d8-1cb3825c5d93"
      },
      "execution_count": null,
      "outputs": [
        {
          "output_type": "stream",
          "name": "stdout",
          "text": [
            "['ducati', 'yamaha', 'suzuki', 'honda']\n",
            "['yamaha', 'suzuki', 'honda']\n"
          ]
        }
      ]
    },
    {
      "cell_type": "markdown",
      "source": [],
      "metadata": {
        "id": "DtAKhiSIMQ4r"
      }
    },
    {
      "cell_type": "code",
      "source": [
        "motorcycles = ['ducati','yamaha','suzuki','honda']\n",
        "Very_Exp = 'ducati'\n",
        "motorcycles.remove(Very_Exp)\n",
        "print(\"\\nA \" + Very_Exp.title() + \" is too expensive for me :(\")\n",
        "print (\" \\nI hope one day i would ride a V4 ;)\")"
      ],
      "metadata": {
        "colab": {
          "base_uri": "https://localhost:8080/"
        },
        "id": "W0y8D7vZMF3r",
        "outputId": "ec24941f-a089-4608-f090-c85e92420ffb"
      },
      "execution_count": null,
      "outputs": [
        {
          "output_type": "stream",
          "name": "stdout",
          "text": [
            "\n",
            "A Ducati is too expensive for me :(\n",
            " \n",
            "I hope one day i would ride a V4 ;)\n"
          ]
        }
      ]
    },
    {
      "cell_type": "markdown",
      "source": [
        "The remove() method deletes only the first occurrence of the value you specify. If there’s a possibility the value appears more than once in the list, you’ll need to use a loop to determine if all occurrences of the value have been removed. You’ll learn how to do this in Chapter 7."
      ],
      "metadata": {
        "id": "FjrWku9cMcdL"
      }
    },
    {
      "cell_type": "markdown",
      "source": [
        "#  Try It yourself\n",
        "The following exercises are a bit more complex than those in Chapter 2, but\n",
        "they give you an opportunity to use lists in all of the ways described.\n",
        "\n",
        "\n",
        "*    3-4. Guest List: If you could invite anyone, living or deceased, to dinner, who would you invite? Make a list that includes at least three people you’d like to invite to dinner. Then use your list to print a message to each person, inviting them to dinner.\n",
        "\n",
        "*    3-5. Changing Guest List: You just heard that one of your guests can’t make the dinner, so you need to send out a new set of invitations . You’ll have to think of someone else to invite.\n",
        "  \n",
        "  *\tStart with your program from Exercise 3-4 . Add a print statement at the end of your program stating the name of the guest who can’t make it.\n",
        "  * Modify your list, replacing the name of the guest who can’t make it with the name of the new person you are inviting.\n",
        "  * Print a second set of invitation messages, one for each person who is still in your list.\n",
        "\n",
        "* 3-6. More Guests: You just found a bigger dinner table, so now more space is available. Think of three more guests to invite to dinner.\n",
        "\n",
        "  * Start with your program from Exercise 3-4 or Exercise 3-5. Add a print statement to the end of your program informing people that you found a bigger dinner table.\n",
        "\n",
        "  *\tUse insert() to add one new guest to the beginning of your list.\n",
        "  *\tUse insert() to add one new guest to the middle of your list.\n",
        "  *\tUse append() to add one new guest to the end of your list.\n",
        "  *\tPrint a new set of invitation messages, one for each person in your list.\n",
        "\n",
        "\n"
      ],
      "metadata": {
        "id": "ykdDpvQxNxod"
      }
    },
    {
      "cell_type": "markdown",
      "source": [
        "* 3-7. Shrinking Guest List: You just found out that your new dinner table won’t arrive in time for the dinner, and you have space for only two guests.\n",
        "\n",
        "*\tStart with your program from Exercise 3-6. Add a new line that prints a\n",
        "message saying that you can invite only two people for dinner.\n",
        " *\tUse pop() to remove guests from your list one at a time until only two\n",
        "names remain in your list. Each time you pop a name from your list, print\n",
        "a message to that person letting them know you’re sorry you can’t invite\n",
        "them to dinner.\n",
        " *\tPrint a message to each of the two people still on your list, letting them\n",
        "know they’re still invited.\n",
        " *\tUse del to remove the last two names from your list, so you have an empty\n",
        "list. Print your list to make sure you actually have an empty list at the end\n",
        "of your program."
      ],
      "metadata": {
        "id": "MH3bQeoXPOHY"
      }
    },
    {
      "cell_type": "markdown",
      "source": [
        "# Organizing a List\n",
        "\n",
        " # Sorting a List Permanently with the sort() Method\n",
        " Python’s sort() method makes it relatively easy to sort a list. Imagine we have a list of cars and want to change the order of the list to store them alphabetically. To keep the task simple, let’s assume that all the values in the list are lowercase.\n",
        "\n"
      ],
      "metadata": {
        "id": "d_eHjF_jPtGg"
      }
    },
    {
      "cell_type": "code",
      "source": [
        "cars = ['bmw', 'audi', 'toyota', 'subaru']\n",
        "cars.sort()#sort alphabetically\n",
        "print(cars)\n",
        "cars.sort(reverse=True) #reverse alphabetical order\n",
        "print(cars)"
      ],
      "metadata": {
        "colab": {
          "base_uri": "https://localhost:8080/"
        },
        "id": "LfYewxP5QXhm",
        "outputId": "9492f744-6abb-44d5-f776-d2c570d3025c"
      },
      "execution_count": null,
      "outputs": [
        {
          "output_type": "stream",
          "name": "stdout",
          "text": [
            "['audi', 'bmw', 'subaru', 'toyota']\n",
            "['toyota', 'subaru', 'bmw', 'audi']\n"
          ]
        }
      ]
    },
    {
      "cell_type": "markdown",
      "source": [
        "#Temporary sort\n",
        "\n",
        "To maintain the original order of a list but present it in a sorted order, you\n",
        "can use the sorted() function. The sorted() function lets you display your list\n",
        "in a particular order but doesn’t affect the actual order of the list."
      ],
      "metadata": {
        "id": "0mIEvfC6Qa6P"
      }
    },
    {
      "cell_type": "code",
      "source": [
        "Names = ['Neha', 'Adam', 'Eirfan', 'Haziq']\n",
        "print('Here is the original list: ')\n",
        "print(Names)\n",
        "\n",
        "print('\\n Here is the sorted list: ')\n",
        "print(sorted(Names))\n",
        "\n",
        "print('\\nHere is the original list again: ')\n",
        "print(Names)"
      ],
      "metadata": {
        "colab": {
          "base_uri": "https://localhost:8080/"
        },
        "id": "o5uRV0lmQbO3",
        "outputId": "1aac2f31-7156-43cd-ef11-4c2679529d10"
      },
      "execution_count": null,
      "outputs": [
        {
          "output_type": "stream",
          "name": "stdout",
          "text": [
            "Here is the original list: \n",
            "['Neha', 'Adam', 'Eirfan', 'Haziq']\n",
            "\n",
            " Here is the sorted list: \n",
            "['Adam', 'Eirfan', 'Haziq', 'Neha']\n",
            "\n",
            "Here is the original list again: \n",
            "['Neha', 'Adam', 'Eirfan', 'Haziq']\n"
          ]
        }
      ]
    },
    {
      "cell_type": "markdown",
      "source": [
        "#  Printing a List in Reverse Order\n",
        " To reverse the original order of a list, you can use the reverse() method.\n",
        "If we originally stored the list of motorcycles in chronological order according to\n",
        "when we owned them, we could easily rearrange the list into reverse chronological order"
      ],
      "metadata": {
        "id": "V-rD9icyRbIH"
      }
    },
    {
      "cell_type": "code",
      "source": [
        "motorcycles = ['ducati','yamaha','suzuki','honda']\n",
        "print(motorcycles)\n",
        "motorcycles.reverse()\n",
        "print(motorcycles)\n"
      ],
      "metadata": {
        "colab": {
          "base_uri": "https://localhost:8080/"
        },
        "id": "_Gj_xd7sRiEN",
        "outputId": "9f737c1d-e0f7-4255-a17f-27b55c1a0877"
      },
      "execution_count": null,
      "outputs": [
        {
          "output_type": "stream",
          "name": "stdout",
          "text": [
            "['ducati', 'yamaha', 'suzuki', 'honda']\n",
            "['honda', 'suzuki', 'yamaha', 'ducati']\n"
          ]
        }
      ]
    },
    {
      "cell_type": "markdown",
      "source": [
        " #Finding the Length of a List\n",
        " You can quickly find the length of a list by using the len() function. The list in this example has four items, so its length is 4:"
      ],
      "metadata": {
        "id": "zFkvEOEHRz9O"
      }
    },
    {
      "cell_type": "code",
      "source": [
        "#Length of a list\n",
        "print(len(motorcycles))"
      ],
      "metadata": {
        "colab": {
          "base_uri": "https://localhost:8080/"
        },
        "id": "re_iEv0FR4Am",
        "outputId": "e4a91ab8-4023-49cb-82b3-0463656d0353"
      },
      "execution_count": null,
      "outputs": [
        {
          "output_type": "stream",
          "name": "stdout",
          "text": [
            "4\n"
          ]
        }
      ]
    },
    {
      "cell_type": "markdown",
      "source": [
        "Python counts the items in a list starting with one, so you shouldn’t run into any off\n",
        "by-one errors when determining the length of a list."
      ],
      "metadata": {
        "id": "xa1_4dvVSCY-"
      }
    },
    {
      "cell_type": "markdown",
      "source": [
        "#Try it Yourself\n",
        "\n",
        "\n",
        "\n",
        "*   3-8. Seeing the World: Think of at least five places in the world you’d like to visit.\n",
        "  *   Store the locations in a list . Make sure the list is not in alphabetical order.\n",
        "  * Print your list in its original order . Don’t worry about printing the list neatly, just print it as a raw Python list.\n",
        "  *\tUse sorted() to print your list in alphabetical order without modifying the actual list.\n",
        "  *\tShow that your list is still in its original order by printing it.\n",
        "  *\tUse sorted() to print your list in reverse alphabetical order without changing the order of the original list.\n",
        "  *\tShow that your list is still in its original order by printing it again .\n",
        "  *\tUse reverse() to change the order of your list. Print the list to show that its order has changed.\n",
        "  *\tUse reverse() to change the order of your list again. Print the list to show it’s back to its original order.\n",
        "  *\tUse sort() to change your list so it’s stored in alphabetical order. Print the list to show that its order has been changed.\n",
        "  *\tUse sort() to change your list so it’s stored in reverse alphabetical order. Print the list to show that its order has changed.\n",
        "\n",
        "* 3-9. Dinner Guests: Working with one of the programs from Exercises 3-4\n",
        "through 3-7 (page 46), use len() to print a message indicating the number\n",
        "of people you are inviting to dinner .\n",
        "\n",
        "\n",
        " * 3-10. Every Function: Think of something you could store in a list . For example, you could make a list of mountains, rivers, countries, cities, languages, or anything else you’d like. Write a program that creates a list containing these items and then uses each function introduced in this chapter at least once."
      ],
      "metadata": {
        "id": "5xAMwl5pSHIu"
      }
    },
    {
      "cell_type": "markdown",
      "source": [
        "#Index errors when working with lists\n",
        "\n",
        "One type of error is common to see when you’re working with lists for the\n",
        "first time. Let’s say you have a list with three items, and you ask for the\n",
        "fourth item:"
      ],
      "metadata": {
        "id": "ikj6BjGgTLjV"
      }
    },
    {
      "cell_type": "code",
      "source": [
        "motorcycles = ['honda', 'yamaha', 'suzuki']\n",
        "print(motorcycles[3])"
      ],
      "metadata": {
        "colab": {
          "base_uri": "https://localhost:8080/",
          "height": 159
        },
        "id": "uYlwETYtTYTc",
        "outputId": "b1fa9cc7-9267-4868-938b-d805b934df8d"
      },
      "execution_count": null,
      "outputs": [
        {
          "output_type": "error",
          "ename": "IndexError",
          "evalue": "list index out of range",
          "traceback": [
            "\u001b[0;31m---------------------------------------------------------------------------\u001b[0m",
            "\u001b[0;31mIndexError\u001b[0m                                Traceback (most recent call last)",
            "\u001b[0;32m<ipython-input-14-9a4f3dd2e126>\u001b[0m in \u001b[0;36m<cell line: 2>\u001b[0;34m()\u001b[0m\n\u001b[1;32m      1\u001b[0m \u001b[0mmotorcycles\u001b[0m \u001b[0;34m=\u001b[0m \u001b[0;34m[\u001b[0m\u001b[0;34m'honda'\u001b[0m\u001b[0;34m,\u001b[0m \u001b[0;34m'yamaha'\u001b[0m\u001b[0;34m,\u001b[0m \u001b[0;34m'suzuki'\u001b[0m\u001b[0;34m]\u001b[0m\u001b[0;34m\u001b[0m\u001b[0;34m\u001b[0m\u001b[0m\n\u001b[0;32m----> 2\u001b[0;31m \u001b[0mprint\u001b[0m\u001b[0;34m(\u001b[0m\u001b[0mmotorcycles\u001b[0m\u001b[0;34m[\u001b[0m\u001b[0;36m3\u001b[0m\u001b[0;34m]\u001b[0m\u001b[0;34m)\u001b[0m\u001b[0;34m\u001b[0m\u001b[0;34m\u001b[0m\u001b[0m\n\u001b[0m",
            "\u001b[0;31mIndexError\u001b[0m: list index out of range"
          ]
        }
      ]
    },
    {
      "cell_type": "markdown",
      "source": [
        "The indexing of a list satrts from 0. Hence, 'honda' = 0, 'yamaha' = 1, 'suzuki' =2.\n",
        "\n",
        "An index error means Python can’t figure out the index you requested. If an index error occurs in your program, try adjusting the index you’re asking\n",
        "for by one."
      ],
      "metadata": {
        "id": "1pRBN3OKTs7d"
      }
    },
    {
      "cell_type": "code",
      "source": [
        "motorcycles = ['honda', 'yamaha', 'suzuki']\n",
        "print(motorcycles[-1])\n"
      ],
      "metadata": {
        "colab": {
          "base_uri": "https://localhost:8080/"
        },
        "id": "0x5p0wlHUKGL",
        "outputId": "ffd8ac68-473f-4b80-c6d5-96ebdfb7fc52"
      },
      "execution_count": 1,
      "outputs": [
        {
          "output_type": "stream",
          "name": "stdout",
          "text": [
            "suzuki\n"
          ]
        }
      ]
    },
    {
      "cell_type": "markdown",
      "source": [
        " The index -1 always returns the last item in a list, in this case the value\n",
        "'suzuki'.\n",
        "The only time this approach will cause an error is when you request the\n",
        "last item from an empty list:"
      ],
      "metadata": {
        "id": "XJJ6GDtwUSeL"
      }
    },
    {
      "cell_type": "code",
      "source": [
        "motorcycles = []\n",
        "print(motorcycles[-1])"
      ],
      "metadata": {
        "colab": {
          "base_uri": "https://localhost:8080/",
          "height": 159
        },
        "id": "tkku3oTIUab8",
        "outputId": "6e9e79df-3abc-45f1-860c-42e8864c3e84"
      },
      "execution_count": null,
      "outputs": [
        {
          "output_type": "error",
          "ename": "IndexError",
          "evalue": "list index out of range",
          "traceback": [
            "\u001b[0;31m---------------------------------------------------------------------------\u001b[0m",
            "\u001b[0;31mIndexError\u001b[0m                                Traceback (most recent call last)",
            "\u001b[0;32m<ipython-input-17-022864be528d>\u001b[0m in \u001b[0;36m<cell line: 2>\u001b[0;34m()\u001b[0m\n\u001b[1;32m      1\u001b[0m \u001b[0mmotorcycles\u001b[0m \u001b[0;34m=\u001b[0m \u001b[0;34m[\u001b[0m\u001b[0;34m]\u001b[0m\u001b[0;34m\u001b[0m\u001b[0;34m\u001b[0m\u001b[0m\n\u001b[0;32m----> 2\u001b[0;31m \u001b[0mprint\u001b[0m\u001b[0;34m(\u001b[0m\u001b[0mmotorcycles\u001b[0m\u001b[0;34m[\u001b[0m\u001b[0;34m-\u001b[0m\u001b[0;36m1\u001b[0m\u001b[0;34m]\u001b[0m\u001b[0;34m)\u001b[0m\u001b[0;34m\u001b[0m\u001b[0;34m\u001b[0m\u001b[0m\n\u001b[0m",
            "\u001b[0;31mIndexError\u001b[0m: list index out of range"
          ]
        }
      ]
    },
    {
      "cell_type": "markdown",
      "source": [
        "#Try It yourself\n",
        "\n",
        "3-11. Intentional Error: If you haven’t received an index error in one of your\n",
        "programs yet, try to make one happen. Change an index in one of your programs to produce an index error. Make sure you correct the error before closing the program."
      ],
      "metadata": {
        "id": "sZvTN6CnUgu8"
      }
    }
  ]
}