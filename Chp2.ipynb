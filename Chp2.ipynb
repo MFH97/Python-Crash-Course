{
  "nbformat": 4,
  "nbformat_minor": 0,
  "metadata": {
    "colab": {
      "provenance": []
    },
    "kernelspec": {
      "name": "python3",
      "display_name": "Python 3"
    },
    "language_info": {
      "name": "python"
    }
  },
  "cells": [
    {
      "cell_type": "markdown",
      "source": [
        "# WELCOME TO PYTHON CRASH COURSE\n",
        "\n",
        "This is my humble initiative to use GitHub and Google Colab to practice Python programming, based on the book Python Crash Course by Eric Matthes.\n",
        "\n",
        "The examples are mostly taken from the book, along with my solutions to the exercises. I hope this will be useful for anyone who wants to learn Python. Feel free to download the code and practice on Google Colab, which is a free resource that doesn’t require any downloads or installation of an IDE. All you need is a Google account, and you're good to go!"
      ],
      "metadata": {
        "id": "vU87qfBuN2gr"
      }
    },
    {
      "cell_type": "markdown",
      "source": [
        "# My first Python code"
      ],
      "metadata": {
        "id": "3WTl2Ayau3ZA"
      }
    },
    {
      "cell_type": "code",
      "execution_count": null,
      "metadata": {
        "colab": {
          "base_uri": "https://localhost:8080/"
        },
        "id": "LzzpHw3vuvxB",
        "outputId": "82e4274d-e3ec-4809-c21c-380586df8d96"
      },
      "outputs": [
        {
          "output_type": "stream",
          "name": "stdout",
          "text": [
            "Hello World!\n"
          ]
        }
      ],
      "source": [
        "print(\"Hello World!\")"
      ]
    },
    {
      "cell_type": "markdown",
      "source": [
        "# Variables and simple data types"
      ],
      "metadata": {
        "id": "KVL7xV5Uviwc"
      }
    },
    {
      "cell_type": "code",
      "source": [
        " message = \"Hello Python world!\"\n",
        " print(message)"
      ],
      "metadata": {
        "colab": {
          "base_uri": "https://localhost:8080/"
        },
        "id": "1Y8YZjTB7m3H",
        "outputId": "0dfff1ee-9cc5-4ac1-e401-fd851b861dd6"
      },
      "execution_count": null,
      "outputs": [
        {
          "output_type": "stream",
          "name": "stdout",
          "text": [
            "Hello Python world!\n"
          ]
        }
      ]
    },
    {
      "cell_type": "markdown",
      "source": [
        "We’ve added a variable named message. Every variable holds a value, which\n",
        "is the information associated with that variable. In this case the value is the\n",
        "text “Hello Python world!”"
      ],
      "metadata": {
        "id": "ijViCfIm76GW"
      }
    },
    {
      "cell_type": "code",
      "source": [
        " message = \"Hello Python world!\"\n",
        " print(message)\n",
        "\n",
        " message = \"Hello Anaconda world!\"\n",
        " print(message)"
      ],
      "metadata": {
        "colab": {
          "base_uri": "https://localhost:8080/"
        },
        "id": "mRAzf_aJ8Oem",
        "outputId": "81c91d40-2e55-466e-90e7-82311193a8c9"
      },
      "execution_count": null,
      "outputs": [
        {
          "output_type": "stream",
          "name": "stdout",
          "text": [
            "Hello Python world!\n",
            "Hello Anaconda world!\n"
          ]
        }
      ]
    },
    {
      "cell_type": "markdown",
      "source": [
        "The value of a variable can be changed any time in your program,\n",
        "and Python will always keep track of its current value."
      ],
      "metadata": {
        "id": "CByVogep8maP"
      }
    },
    {
      "cell_type": "markdown",
      "source": [
        "#  Naming and Using Variables\n",
        "When using variables in Python, we need to adhere to a few rules and guidlines. Breaking some of these rules will cause errors; other guide\n",
        "lines just help you write code that’s easier to read and understand.\n",
        "\n",
        "*   List item Variable names can contain only letters, numbers, and underscores. They can start with a letter or an underscore, but not with a number. For instance, we can call a variable **message_1** but not **1_message**.\n",
        "*   List item\tSpaces are not allowed in variable names, but underscores can be used\n",
        "to separate words in variable names. For example, **greeting_message** works,\n",
        "but **greeting message**  will cause errors.\n",
        "*   List item\tAvoid using Python keywords and function names as variable names; Do not use words that Python has reserved for a particular pro\n",
        "grammatic purpose, such as the word print.\n",
        "*   List item\tVariable names should be short but descriptive. For example, **name** is better than **n**, **student_name** is better than **s_n**, and **name_length** is better than **length_of_persons_name**.\n",
        "*   List item\tBe careful when using the lowercase letter l and the uppercase letter O because they could be confused with the numbers 1 and 0."
      ],
      "metadata": {
        "id": "Pdm1DtDm9Acv"
      }
    },
    {
      "cell_type": "markdown",
      "source": [
        "# Avoiding Name Errors When Using Variables\n",
        "\n",
        "We’ll write some code that generates an error on purpose. Enter the\n",
        "following code, including the **misspelled** word mesage shown in bold:"
      ],
      "metadata": {
        "id": "xwEpGEdb-1Dj"
      }
    },
    {
      "cell_type": "code",
      "source": [
        " message = \"Hello Python Crash Course reader!\"\n",
        " print(mesage)"
      ],
      "metadata": {
        "colab": {
          "base_uri": "https://localhost:8080/",
          "height": 159
        },
        "id": "EZIgN_Ug_F7i",
        "outputId": "2e621295-adf1-408e-8496-e5b19b567b09"
      },
      "execution_count": null,
      "outputs": [
        {
          "output_type": "error",
          "ename": "NameError",
          "evalue": "name 'mesage' is not defined",
          "traceback": [
            "\u001b[0;31m---------------------------------------------------------------------------\u001b[0m",
            "\u001b[0;31mNameError\u001b[0m                                 Traceback (most recent call last)",
            "\u001b[0;32m<ipython-input-6-c8f2adeaed02>\u001b[0m in \u001b[0;36m<cell line: 2>\u001b[0;34m()\u001b[0m\n\u001b[1;32m      1\u001b[0m \u001b[0mmessage\u001b[0m \u001b[0;34m=\u001b[0m \u001b[0;34m\"Hello Python Crash Course reader!\"\u001b[0m\u001b[0;34m\u001b[0m\u001b[0;34m\u001b[0m\u001b[0m\n\u001b[0;32m----> 2\u001b[0;31m \u001b[0mprint\u001b[0m\u001b[0;34m(\u001b[0m\u001b[0mmesage\u001b[0m\u001b[0;34m)\u001b[0m\u001b[0;34m\u001b[0m\u001b[0;34m\u001b[0m\u001b[0m\n\u001b[0m",
            "\u001b[0;31mNameError\u001b[0m: name 'mesage' is not defined"
          ]
        }
      ]
    },
    {
      "cell_type": "markdown",
      "source": [
        "# Interpreting the error\n",
        "\n",
        "1. Reports that an error occurs in line 2\n",
        "2. The interpreter shows **print(mesage)** this line to help us spot the error\n",
        "quickly\n",
        "3. Tells us what kind of error it found **NameError: name 'mesage' is not defined**\n",
        "\n",
        "In this case, Python can’t identify the variable name provided. A name error\n",
        "usually means we either forgot to set a variable’s value before using it, or\n",
        "we made a spelling mistake.\n",
        "\n",
        "The Python interpreter doesn’t spellcheck our code, but it does ensure that variable names are spelled consistently.\n",
        "\n",
        "The code below with variable **mesage**  runs successfully!"
      ],
      "metadata": {
        "id": "l2a2A6Wl_Pok"
      }
    },
    {
      "cell_type": "code",
      "source": [
        "mesage = \"Hello Python Crash Course reader!\"\n",
        "print(mesage)"
      ],
      "metadata": {
        "colab": {
          "base_uri": "https://localhost:8080/"
        },
        "id": "i1WXc2tLA4HT",
        "outputId": "de67d181-aa19-4148-8f4a-9227b0821aa6"
      },
      "execution_count": null,
      "outputs": [
        {
          "output_type": "stream",
          "name": "stdout",
          "text": [
            "Hello Python Crash Course reader!\n"
          ]
        }
      ]
    },
    {
      "cell_type": "markdown",
      "source": [
        "# Try It yourself\n",
        "\n",
        "* 2-1. Simple Message: Store a message in\n",
        "a variable, and then print that\n",
        "message .\n",
        "* 2-2. Simple Messages: Store a message in a variable, and print that message .\n",
        "Then change the value of your variable to a new message, and print the new\n",
        "message"
      ],
      "metadata": {
        "id": "SbrZW9azBhL7"
      }
    },
    {
      "cell_type": "code",
      "source": [
        "#This is how to comment in Python\n",
        "#2-1 & 2.Simple Message\n",
        "\n",
        "Myname = \"Fahiq\"\n",
        "print(Myname)\n",
        "Myname = \"Eric\"\n",
        "print(Myname)\n"
      ],
      "metadata": {
        "colab": {
          "base_uri": "https://localhost:8080/"
        },
        "id": "VKRh8rz7BzKJ",
        "outputId": "6404cfde-da87-403f-fb05-0ea63865e07f"
      },
      "execution_count": null,
      "outputs": [
        {
          "output_type": "stream",
          "name": "stdout",
          "text": [
            "Fahiq\n",
            "Eric\n"
          ]
        }
      ]
    },
    {
      "cell_type": "markdown",
      "source": [
        "# Strings\n",
        "\n",
        " A string is simply a series of characters. Anything inside quotes is considered a string in Python, and you can use single or double quotes around\n",
        "your strings like this:\n",
        "\n"
      ],
      "metadata": {
        "id": "G26qX_jkC6hS"
      }
    },
    {
      "cell_type": "code",
      "source": [
        "\"This is a string.\"\n",
        "'This is also a string.'"
      ],
      "metadata": {
        "colab": {
          "base_uri": "https://localhost:8080/",
          "height": 35
        },
        "id": "g_WUB9WtDGtK",
        "outputId": "fe7e313f-845a-423c-cc10-af93900229b3"
      },
      "execution_count": null,
      "outputs": [
        {
          "output_type": "execute_result",
          "data": {
            "text/plain": [
              "'This is also a string.'"
            ],
            "application/vnd.google.colaboratory.intrinsic+json": {
              "type": "string"
            }
          },
          "metadata": {},
          "execution_count": 9
        }
      ]
    },
    {
      "cell_type": "markdown",
      "source": [
        " This flexibility allows you to use quotes and apostrophes within your\n",
        "strings:"
      ],
      "metadata": {
        "id": "Lz-MFg17DM1Y"
      }
    },
    {
      "cell_type": "code",
      "source": [
        "'I told my friend, \"Python is my favorite language!\"'\n",
        "\"The language 'Python' is named after Monty Python, not the snake.\"\n",
        "\"One of Python's strengths is its diverse and supportive community.\""
      ],
      "metadata": {
        "colab": {
          "base_uri": "https://localhost:8080/",
          "height": 35
        },
        "id": "DixSe6YzDNYZ",
        "outputId": "acd84094-efa6-4f71-c945-049aee51519d"
      },
      "execution_count": null,
      "outputs": [
        {
          "output_type": "execute_result",
          "data": {
            "text/plain": [
              "\"One of Python's strengths is its diverse and supportive community.\""
            ],
            "application/vnd.google.colaboratory.intrinsic+json": {
              "type": "string"
            }
          },
          "metadata": {},
          "execution_count": 11
        }
      ]
    },
    {
      "cell_type": "markdown",
      "source": [
        "# Changing Case in a String with Methods\n",
        " One of the simplest tasks you can do with strings is change the case of the\n",
        "words in a string\n"
      ],
      "metadata": {
        "id": "pFXgEzHsDYCJ"
      }
    },
    {
      "cell_type": "code",
      "source": [
        "\n",
        "name = \"mark anthony\"\n",
        "print(name.title())\n",
        "print(name.upper())\n",
        "print(name.lower())"
      ],
      "metadata": {
        "colab": {
          "base_uri": "https://localhost:8080/"
        },
        "id": "P7O91hqIDjCq",
        "outputId": "2b431a74-4e3c-470c-a6c4-7d34b3360022"
      },
      "execution_count": null,
      "outputs": [
        {
          "output_type": "stream",
          "name": "stdout",
          "text": [
            "Mark Anthony\n",
            "MARK ANTHONY\n",
            "mark anthony\n"
          ]
        }
      ]
    },
    {
      "cell_type": "markdown",
      "source": [
        "In this example, the lowercase string \"mark anthony\" is stored in the vari\n",
        "able name.\n",
        "\n",
        "The method title() appears after the variable in the print() state\n",
        "ment. A method is an action that Python can perform on a piece of data. The\n",
        "dot (.) after name in name.title() tells Python to make the title() method\n",
        "act on the variable name. Every method is followed by a set of parentheses,\n",
        "because methods often need additional information to do their work.\n",
        "That information is provided inside the parentheses\n"
      ],
      "metadata": {
        "id": "IU0w_yLVEGxQ"
      }
    },
    {
      "cell_type": "markdown",
      "source": [
        "# Combining or Concatenating Strings\n",
        "\n",
        "It’s often useful to combine strings. For example, you might want to store\n",
        "a first name and a last name in separate variables, and then combine them\n",
        "when you want to display someone’s full name:"
      ],
      "metadata": {
        "id": "Ksse5eg5E4zg"
      }
    },
    {
      "cell_type": "code",
      "source": [
        "# plus symbol (+) to combine strings\n",
        "\n",
        "first_name = \"mark\"\n",
        "last_name = \"anthony\"\n",
        "full_name = first_name + \" \" + last_name\n",
        "print(full_name)"
      ],
      "metadata": {
        "colab": {
          "base_uri": "https://localhost:8080/"
        },
        "id": "b1M8r0b_FEtf",
        "outputId": "e49e9992-07ea-4693-c421-5fc969571852"
      },
      "execution_count": null,
      "outputs": [
        {
          "output_type": "stream",
          "name": "stdout",
          "text": [
            "mark anthony\n"
          ]
        }
      ]
    },
    {
      "cell_type": "markdown",
      "source": [
        "This method of combining strings is called concatenation. You can use\n",
        "concatenation to compose complete messages using the information you’ve\n",
        "stored in a variable. Let’s look at an example:"
      ],
      "metadata": {
        "id": "HeL4Pdg6FwoY"
      }
    },
    {
      "cell_type": "code",
      "source": [
        "first_name = \"mark\"\n",
        "last_name = \"anthony\"\n",
        "full_name = first_name + \" \" + last_name\n",
        "print(\"Hello!, \" + full_name.title() + \"!\")"
      ],
      "metadata": {
        "colab": {
          "base_uri": "https://localhost:8080/"
        },
        "id": "42QmCnMMFxmX",
        "outputId": "b83f1572-0acf-4de7-8f20-489aab63f9e3"
      },
      "execution_count": null,
      "outputs": [
        {
          "output_type": "stream",
          "name": "stdout",
          "text": [
            "Hello!, Mark Anthony!\n"
          ]
        }
      ]
    },
    {
      "cell_type": "code",
      "source": [
        "\"\"\"\n",
        "We can use concatenation to compose a message and then store the\n",
        "entire message in a variable:\n",
        "\"\"\"\n",
        "first_name = \"mark\"\n",
        "last_name = \"anthony\"\n",
        "full_name = first_name + \" \" + last_name\n",
        "message = \"Hello!, \" + full_name.title() + \"!\"\n",
        "print(message)"
      ],
      "metadata": {
        "colab": {
          "base_uri": "https://localhost:8080/"
        },
        "id": "w2cZWQ_WGG33",
        "outputId": "a44d25cc-907f-4a4b-c7bc-764277757445"
      },
      "execution_count": null,
      "outputs": [
        {
          "output_type": "stream",
          "name": "stdout",
          "text": [
            "Hello!, Mark Anthony!\n"
          ]
        }
      ]
    },
    {
      "cell_type": "markdown",
      "source": [
        "# Adding Whitespace to Strings with Tabs or Newlines\n",
        "\n",
        "In programming, whitespace refers to any nonprinting character, such as\n",
        "spaces, tabs, and end-of-line symbols. We can use whitespace to organize\n",
        "our output so it’s easier for users to read."
      ],
      "metadata": {
        "id": "ysUnP9u2GonP"
      }
    },
    {
      "cell_type": "code",
      "source": [
        "print(\"Hello\")\n",
        "print(\"\\tHello\")\n",
        "print() #print a blank space\n",
        "#To add a newline in a string, use the character combination \\n\n",
        "print(\"Languages:\\nPython\\nC\\nJavaScript\")\n"
      ],
      "metadata": {
        "colab": {
          "base_uri": "https://localhost:8080/"
        },
        "id": "UChhjYMVGz6V",
        "outputId": "12d17f22-b5aa-457d-d466-b112b7a06d4a"
      },
      "execution_count": null,
      "outputs": [
        {
          "output_type": "stream",
          "name": "stdout",
          "text": [
            "Hello\n",
            "\tHello\n",
            "\n",
            "Languages:\n",
            "Python\n",
            "C\n",
            "JavaScript\n"
          ]
        }
      ]
    },
    {
      "cell_type": "markdown",
      "source": [
        "We can also combine tabs and newlines in a single string. The string\n",
        "\"\\n\\t\" tells Python to move to a new line, and start the next line with a tab.\n",
        "The following example shows how you can use a one-line string to generate\n",
        "four lines of output:"
      ],
      "metadata": {
        "id": "8tryymvSHWP2"
      }
    },
    {
      "cell_type": "code",
      "source": [
        "print(\"Languages:\\n\\tPython\\n\\tC\\n\\tJavaScript\")"
      ],
      "metadata": {
        "colab": {
          "base_uri": "https://localhost:8080/"
        },
        "id": "ZuAJH0H0HZ6u",
        "outputId": "7ff1dc0f-440f-403b-a945-91486c117fc4"
      },
      "execution_count": null,
      "outputs": [
        {
          "output_type": "stream",
          "name": "stdout",
          "text": [
            "Languages:\n",
            "\tPython\n",
            "\tC\n",
            "\tJavaScript\n"
          ]
        }
      ]
    },
    {
      "cell_type": "markdown",
      "source": [
        "# Stripping Whitespace\n",
        "Understanding whitespace is important when comparing two strings to determine if they are the same.\n",
        "\n",
        "Python can look for extra whitespace on the right and left sides of a\n",
        "string. To ensure that no whitespace exists at the right end of a string, use\n",
        "the rstrip() method."
      ],
      "metadata": {
        "id": "4OEOvTFyHxh-"
      }
    },
    {
      "cell_type": "code",
      "source": [
        "favorite_language = 'python '\n",
        "favorite_language\n"
      ],
      "metadata": {
        "colab": {
          "base_uri": "https://localhost:8080/",
          "height": 35
        },
        "id": "Csk6xu9LIW6E",
        "outputId": "337ef6dc-1e12-4c73-b487-4dd1cfe24247"
      },
      "execution_count": null,
      "outputs": [
        {
          "output_type": "execute_result",
          "data": {
            "text/plain": [
              "'python '"
            ],
            "application/vnd.google.colaboratory.intrinsic+json": {
              "type": "string"
            }
          },
          "metadata": {},
          "execution_count": 25
        }
      ]
    },
    {
      "cell_type": "code",
      "source": [
        "favorite_language = 'python '\n",
        "favorite_language.rstrip()"
      ],
      "metadata": {
        "colab": {
          "base_uri": "https://localhost:8080/",
          "height": 35
        },
        "id": "hQLer2aQIpt9",
        "outputId": "3a26e45d-7d30-400d-a65e-dd67d0c1e19f"
      },
      "execution_count": null,
      "outputs": [
        {
          "output_type": "execute_result",
          "data": {
            "text/plain": [
              "'python'"
            ],
            "application/vnd.google.colaboratory.intrinsic+json": {
              "type": "string"
            }
          },
          "metadata": {},
          "execution_count": 32
        }
      ]
    },
    {
      "cell_type": "code",
      "source": [
        "favorite_language"
      ],
      "metadata": {
        "colab": {
          "base_uri": "https://localhost:8080/",
          "height": 35
        },
        "id": "U0InLjqoJK_5",
        "outputId": "d234b8e7-09a0-4f94-a67c-b00f0bb0c53f"
      },
      "execution_count": null,
      "outputs": [
        {
          "output_type": "execute_result",
          "data": {
            "text/plain": [
              "'python '"
            ],
            "application/vnd.google.colaboratory.intrinsic+json": {
              "type": "string"
            }
          },
          "metadata": {},
          "execution_count": 33
        }
      ]
    },
    {
      "cell_type": "markdown",
      "source": [
        "As you can see from the above examples, When the rstrip() method acts on the variable favorite_language, this extra space is removed. However, it is only removed temporarily.\n",
        "\n",
        "To remove the whitespace from the\n",
        "string permanently, you have to\n",
        "store the stripped value back into the variable:"
      ],
      "metadata": {
        "id": "W0FjYWazJUk0"
      }
    },
    {
      "cell_type": "code",
      "source": [
        "favorite_language = 'python '\n",
        "favorite_language = favorite_language.rstrip()\n",
        "favorite_language"
      ],
      "metadata": {
        "colab": {
          "base_uri": "https://localhost:8080/",
          "height": 35
        },
        "id": "puTNTF4GJwpE",
        "outputId": "7b231e38-2026-4871-f3ce-7b001e5de658"
      },
      "execution_count": null,
      "outputs": [
        {
          "output_type": "execute_result",
          "data": {
            "text/plain": [
              "'python'"
            ],
            "application/vnd.google.colaboratory.intrinsic+json": {
              "type": "string"
            }
          },
          "metadata": {},
          "execution_count": 35
        }
      ]
    },
    {
      "cell_type": "code",
      "source": [
        "favorite_language = ' python '\n",
        "favorite_language.rstrip() #remove extra space from the right"
      ],
      "metadata": {
        "colab": {
          "base_uri": "https://localhost:8080/",
          "height": 35
        },
        "id": "cZpPEBCvKHBr",
        "outputId": "3310f976-9fc5-4895-bc75-445c05d116a4"
      },
      "execution_count": null,
      "outputs": [
        {
          "output_type": "execute_result",
          "data": {
            "text/plain": [
              "' python'"
            ],
            "application/vnd.google.colaboratory.intrinsic+json": {
              "type": "string"
            }
          },
          "metadata": {},
          "execution_count": 37
        }
      ]
    },
    {
      "cell_type": "code",
      "source": [
        "favorite_language = ' python '\n",
        "favorite_language.lstrip() #remove extra space from the left"
      ],
      "metadata": {
        "colab": {
          "base_uri": "https://localhost:8080/",
          "height": 35
        },
        "id": "mIPNjdX4KZQE",
        "outputId": "daaaf6ad-f793-4d2f-dc25-5d9eef3df2dc"
      },
      "execution_count": null,
      "outputs": [
        {
          "output_type": "execute_result",
          "data": {
            "text/plain": [
              "'python '"
            ],
            "application/vnd.google.colaboratory.intrinsic+json": {
              "type": "string"
            }
          },
          "metadata": {},
          "execution_count": 38
        }
      ]
    },
    {
      "cell_type": "code",
      "source": [
        "favorite_language = ' python '\n",
        "favorite_language.strip() #remove extra space from the both sides"
      ],
      "metadata": {
        "colab": {
          "base_uri": "https://localhost:8080/",
          "height": 35
        },
        "id": "rL_wM_dcKbB0",
        "outputId": "034d49af-d25d-41b2-b3de-a84cdc5dc28e"
      },
      "execution_count": null,
      "outputs": [
        {
          "output_type": "execute_result",
          "data": {
            "text/plain": [
              "'python'"
            ],
            "application/vnd.google.colaboratory.intrinsic+json": {
              "type": "string"
            }
          },
          "metadata": {},
          "execution_count": 39
        }
      ]
    },
    {
      "cell_type": "markdown",
      "source": [
        "# Avoiding Syntax Errors with Strings\n",
        "\n",
        "A syntax error occurs when Python doesn’t recognize a section of your pro\n",
        "gram as valid Python code. For example, if you use an apostrophe within\n",
        "single quotes, you’ll produce an error. This happens because Python inter\n",
        "prets everything between the first single quote and the apostrophe as a\n",
        "string. It then tries to interpret the rest of the text as Python code, which\n",
        "causes errors."
      ],
      "metadata": {
        "id": "FuuidVasK1Tc"
      }
    },
    {
      "cell_type": "code",
      "source": [
        "message = \"One of Python's strengths is its diverse community.\"\n",
        "print(message)"
      ],
      "metadata": {
        "colab": {
          "base_uri": "https://localhost:8080/"
        },
        "id": "y_XNpOfwLJKz",
        "outputId": "44f6e1a4-d85a-445a-d54c-b4c011698d21"
      },
      "execution_count": null,
      "outputs": [
        {
          "output_type": "stream",
          "name": "stdout",
          "text": [
            "One of Python's strengths is its diverse community.\n"
          ]
        }
      ]
    },
    {
      "cell_type": "code",
      "source": [
        "#However, if you use single quotes, Python can’t identify where the string\n",
        "#should end:\n",
        "message = 'One of Python's strengths is its diverse community.'\n",
        "print(message)\n"
      ],
      "metadata": {
        "colab": {
          "base_uri": "https://localhost:8080/",
          "height": 106
        },
        "id": "V0DKwq7ZLPFT",
        "outputId": "c5f77b0f-a8d2-42f2-9258-f82b44a27fa2"
      },
      "execution_count": null,
      "outputs": [
        {
          "output_type": "error",
          "ename": "SyntaxError",
          "evalue": "unterminated string literal (detected at line 3) (<ipython-input-42-79d152919046>, line 3)",
          "traceback": [
            "\u001b[0;36m  File \u001b[0;32m\"<ipython-input-42-79d152919046>\"\u001b[0;36m, line \u001b[0;32m3\u001b[0m\n\u001b[0;31m    message = 'One of Python's strengths is its diverse community.'\u001b[0m\n\u001b[0m                                                                  ^\u001b[0m\n\u001b[0;31mSyntaxError\u001b[0m\u001b[0;31m:\u001b[0m unterminated string literal (detected at line 3)\n"
          ]
        }
      ]
    },
    {
      "cell_type": "markdown",
      "source": [
        "# Try it yourself\n",
        "\n",
        "\n",
        "\n",
        "*   2-3. Personal Message: Store a person’s name in a variable, and print a message to that person . Your message should be simple, such as, “Hello Eric,\n",
        "would you like to learn some Python today?”\n",
        "\n",
        "*    2-4. Name Cases: Store a person’s name in a variable, and then print that person’s name in lowercase, uppercase, and titlecase.\n",
        "\n",
        "*    2-5. Famous Quote: Find a quote from a famous person you admire . Print the quote and the name of its author . Your output should look something like the following, including the quotation marks:\n",
        "Albert Einstein once said, “A person who never made a mistake never tried anything new.”\n",
        "\n",
        "*    2-6. Famous Quote 2: Repeat Exercise 2-5, but this time store the famous person’s name in a variable called famous_person . Then compose your message and store it in a new variable called message . Print your message.\n",
        "\n",
        "\n",
        "*    2-7. Stripping Names: Store a person’s name, and include some whitespace\n",
        "characters at the beginning and end of the name . Make sure you use each\n",
        "character combination, \"\\t\" and \"\\n\", at least once.\n",
        "\n",
        "Print the name once, so the whitespace around the name is displayed .\n",
        "Then print the name using each of the three stripping functions, lstrip(),\n",
        "rstrip(), and strip()\n",
        "\n",
        "\n",
        "\n",
        "\n",
        "\n",
        "\n"
      ],
      "metadata": {
        "id": "cLmmHnwCL1sj"
      }
    },
    {
      "cell_type": "markdown",
      "source": [
        "# Numbers\n",
        "Python treats numbers in several different ways, depending on how they\n",
        "are being used. Let’s first look at how Python manages integers, because\n",
        "they are the simplest to work with."
      ],
      "metadata": {
        "id": "QHE80i-XUabk"
      }
    },
    {
      "cell_type": "code",
      "source": [
        "#Addition\n",
        "print(2+3)\n",
        "#Subtraction\n",
        "print(5-4)\n",
        "#Multiplication\n",
        "print(3*5)\n",
        "#Division\n",
        "print(50/2)\n"
      ],
      "metadata": {
        "colab": {
          "base_uri": "https://localhost:8080/"
        },
        "id": "PbmtoypyUrb2",
        "outputId": "5ecd7578-775e-4af5-92a4-db71b1601108"
      },
      "execution_count": 9,
      "outputs": [
        {
          "output_type": "stream",
          "name": "stdout",
          "text": [
            "5\n",
            "1\n",
            "15\n",
            "25.0\n"
          ]
        }
      ]
    },
    {
      "cell_type": "markdown",
      "source": [
        " In a terminal session, Python simply returns the result of the operation.\n",
        "Python uses two multiplication symbols to represent exponents:"
      ],
      "metadata": {
        "id": "DxYcapcGVXfB"
      }
    },
    {
      "cell_type": "code",
      "source": [
        "3**2"
      ],
      "metadata": {
        "colab": {
          "base_uri": "https://localhost:8080/"
        },
        "id": "tAyr4IhHVW_K",
        "outputId": "b722f54f-df34-4476-fe12-5791d29f088a"
      },
      "execution_count": 6,
      "outputs": [
        {
          "output_type": "execute_result",
          "data": {
            "text/plain": [
              "9"
            ]
          },
          "metadata": {},
          "execution_count": 6
        }
      ]
    },
    {
      "cell_type": "markdown",
      "source": [
        "Python supports the order of operations. Hence, we can use multiple\n",
        "operations in one expression. We can also use parentheses to modify the\n",
        "order of operations so Python can evaluate our expression in the order\n",
        "we specify. For example:"
      ],
      "metadata": {
        "id": "0USybdFzVmx3"
      }
    },
    {
      "cell_type": "code",
      "source": [
        "print(2+3*4)\n",
        "print((2+3)*4)"
      ],
      "metadata": {
        "colab": {
          "base_uri": "https://localhost:8080/"
        },
        "id": "EoZaYxa1V5wV",
        "outputId": "a1609945-ceef-409b-b0db-3b43ae434a6b"
      },
      "execution_count": 8,
      "outputs": [
        {
          "output_type": "stream",
          "name": "stdout",
          "text": [
            "14\n",
            "20\n"
          ]
        }
      ]
    },
    {
      "cell_type": "markdown",
      "source": [
        "# Floats\n",
        "Any number with a decimal point is a float."
      ],
      "metadata": {
        "id": "O-KLfIn2WmR3"
      }
    },
    {
      "cell_type": "code",
      "source": [
        "print(0.1 + 0.1)\n",
        "print(0.5 - 0.2 )\n",
        "print(2 * 0.1)\n",
        "\n"
      ],
      "metadata": {
        "colab": {
          "base_uri": "https://localhost:8080/"
        },
        "id": "0TxCoVYaW3Y2",
        "outputId": "40595f6b-806e-41c9-a082-6e1391176c89"
      },
      "execution_count": 13,
      "outputs": [
        {
          "output_type": "stream",
          "name": "stdout",
          "text": [
            "0.2\n",
            "0.3\n",
            "0.2\n"
          ]
        }
      ]
    },
    {
      "cell_type": "markdown",
      "source": [
        " Be aware that you can sometimes get an arbitrary number of decimal places in your answer:"
      ],
      "metadata": {
        "id": "AqHj3HFuXVRV"
      }
    },
    {
      "cell_type": "code",
      "source": [
        "print(0.2 +0.1)\n",
        "print(3 * 0.1)"
      ],
      "metadata": {
        "colab": {
          "base_uri": "https://localhost:8080/"
        },
        "id": "F3NY7nvdXV49",
        "outputId": "8716ebea-b80f-40ec-b5f3-42a358a4000e"
      },
      "execution_count": 14,
      "outputs": [
        {
          "output_type": "stream",
          "name": "stdout",
          "text": [
            "0.30000000000000004\n",
            "0.30000000000000004\n"
          ]
        }
      ]
    },
    {
      "cell_type": "markdown",
      "source": [
        "This happens in all languages and is of little concern. Python tries to\n",
        "find a way to represent the result as precisely as possible, which is sometimes difficult given how computers have to represent numbers internally. Just ignore the extra decimal places for now; you’ll learn ways to deal with it later on."
      ],
      "metadata": {
        "id": "lqaqCD4uXk6d"
      }
    },
    {
      "cell_type": "markdown",
      "source": [
        "#Avoiding Type Errors with the str() Function\n",
        "\n",
        " Often, you’ll want to use a variable’s value within a message. For example,\n",
        "say you want to wish someone a happy birthday. You might write code\n",
        "like this:"
      ],
      "metadata": {
        "id": "JVeEpNaKX0Hk"
      }
    },
    {
      "cell_type": "code",
      "source": [
        "\"\"\"\n",
        "The code below will give us a type error, as Python can't recognize\n",
        "the kind of information we are using.\n",
        "\"\"\"\n",
        "age = 23\n",
        "message = \"Happy \" + age + \"rd Birthday!\"\n",
        "print(message)"
      ],
      "metadata": {
        "colab": {
          "base_uri": "https://localhost:8080/",
          "height": 176
        },
        "id": "Dc-Vea_7YKdL",
        "outputId": "e380feb3-7553-4cc1-be20-8f11fc387a93"
      },
      "execution_count": 15,
      "outputs": [
        {
          "output_type": "error",
          "ename": "TypeError",
          "evalue": "can only concatenate str (not \"int\") to str",
          "traceback": [
            "\u001b[0;31m---------------------------------------------------------------------------\u001b[0m",
            "\u001b[0;31mTypeError\u001b[0m                                 Traceback (most recent call last)",
            "\u001b[0;32m<ipython-input-15-80a141e301d6>\u001b[0m in \u001b[0;36m<cell line: 2>\u001b[0;34m()\u001b[0m\n\u001b[1;32m      1\u001b[0m \u001b[0mage\u001b[0m \u001b[0;34m=\u001b[0m \u001b[0;36m23\u001b[0m\u001b[0;34m\u001b[0m\u001b[0;34m\u001b[0m\u001b[0m\n\u001b[0;32m----> 2\u001b[0;31m \u001b[0mmessage\u001b[0m \u001b[0;34m=\u001b[0m \u001b[0;34m\"Happy \"\u001b[0m \u001b[0;34m+\u001b[0m \u001b[0mage\u001b[0m \u001b[0;34m+\u001b[0m \u001b[0;34m\"rd Birthday!\"\u001b[0m\u001b[0;34m\u001b[0m\u001b[0;34m\u001b[0m\u001b[0m\n\u001b[0m\u001b[1;32m      3\u001b[0m \u001b[0mprint\u001b[0m\u001b[0;34m(\u001b[0m\u001b[0mmessage\u001b[0m\u001b[0;34m)\u001b[0m\u001b[0;34m\u001b[0m\u001b[0;34m\u001b[0m\u001b[0m\n",
            "\u001b[0;31mTypeError\u001b[0m: can only concatenate str (not \"int\") to str"
          ]
        }
      ]
    },
    {
      "cell_type": "markdown",
      "source": [
        "In this example Python sees that we’re using a variable that has an integer value (int), but it’s not sure how to interpret it.\n",
        "\n",
        "When we use integers within strings\n",
        "like this, we need to specify explicitly that we want Python to use the integer as a string of characters. This can be done by wrapping the variable in the str() function, which tells Python to represent non-string values as strings:"
      ],
      "metadata": {
        "id": "_EvZmtQKY6w8"
      }
    },
    {
      "cell_type": "code",
      "source": [
        "age = 23\n",
        "message = \"Happy \" + str(age) + \"rd Birthday!\"\n",
        "print(message)"
      ],
      "metadata": {
        "colab": {
          "base_uri": "https://localhost:8080/"
        },
        "id": "BCyYSWdIX3Pd",
        "outputId": "8a97633c-0273-4342-86f8-94bfc4a769f9"
      },
      "execution_count": 16,
      "outputs": [
        {
          "output_type": "stream",
          "name": "stdout",
          "text": [
            "Happy 23rd Birthday!\n"
          ]
        }
      ]
    },
    {
      "cell_type": "code",
      "source": [
        "3/2"
      ],
      "metadata": {
        "colab": {
          "base_uri": "https://localhost:8080/"
        },
        "id": "x9zCxGV9ZqGD",
        "outputId": "e9d99e0f-4112-4265-a0c4-e31c90813231"
      },
      "execution_count": 17,
      "outputs": [
        {
          "output_type": "execute_result",
          "data": {
            "text/plain": [
              "1.5"
            ]
          },
          "metadata": {},
          "execution_count": 17
        }
      ]
    },
    {
      "cell_type": "markdown",
      "source": [
        "# Try it yourself\n",
        "\n",
        "\n",
        "*   2-8. Number Eight: Write addition, subtraction, multiplication, and division\n",
        "operations that each result in the number 8 . Be sure to enclose your operations in print statements to see the results . You should create four lines that look\n",
        "like this: print(5 + 3)  \n",
        "Your output should simply be four lines with the number 8 appearing once\n",
        "on each line.\n",
        "*    2-9. Favorite Number: Store your favorite number in a variable. Then, using that variable, create a message that reveals your favorite number . Print that message\n",
        "\n"
      ],
      "metadata": {
        "id": "x7MqopCmaBZ7"
      }
    }
  ]
}