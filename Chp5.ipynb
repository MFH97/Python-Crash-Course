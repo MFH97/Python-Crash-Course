{
  "nbformat": 4,
  "nbformat_minor": 0,
  "metadata": {
    "colab": {
      "provenance": [],
      "authorship_tag": "ABX9TyN+fwzqAwS7ZP2SB9FYu0Qn",
      "include_colab_link": true
    },
    "kernelspec": {
      "name": "python3",
      "display_name": "Python 3"
    },
    "language_info": {
      "name": "python"
    }
  },
  "cells": [
    {
      "cell_type": "markdown",
      "metadata": {
        "id": "view-in-github",
        "colab_type": "text"
      },
      "source": [
        "<a href=\"https://colab.research.google.com/github/MFH97/Python-Crash-Course/blob/main/Chp5.ipynb\" target=\"_parent\"><img src=\"https://colab.research.google.com/assets/colab-badge.svg\" alt=\"Open In Colab\"/></a>"
      ]
    },
    {
      "cell_type": "markdown",
      "source": [
        "# If Statements\n",
        "\n",
        " In this chapter you’ll learn to write conditional tests, which allow you to\n",
        "check any condition of interest. You’ll learn to write simple if statements,\n",
        "and you’ll learn how to create a more complex series of if statements to\n",
        "identify when the exact conditions you want are present. You’ll then apply\n",
        "this concept to lists, so you’ll be able to write a for loop that handles most\n",
        "items in a list one way but handles certain items with specific values in a\n",
        "different way.\n"
      ],
      "metadata": {
        "id": "5qisvrxeJVXu"
      }
    },
    {
      "cell_type": "markdown",
      "source": [
        " Car names are proper names, so the names of\n",
        "most cars should be printed in title case. However, the value 'bmw' should\n",
        "be printed in all uppercase. The following code loops through a list of car names and looks for the value 'bmw'. Whenever the value is 'bmw', it’s printed in uppercase instead of title case:"
      ],
      "metadata": {
        "id": "U2svlwHNKHZe"
      }
    },
    {
      "cell_type": "code",
      "execution_count": 1,
      "metadata": {
        "colab": {
          "base_uri": "https://localhost:8080/"
        },
        "id": "7NxMUG46JP0v",
        "outputId": "8bb7d04c-4b25-45a8-ddb6-69b893e50034"
      },
      "outputs": [
        {
          "output_type": "stream",
          "name": "stdout",
          "text": [
            "Audi\n",
            "BMW\n",
            "Subaru\n",
            "Toyta\n"
          ]
        }
      ],
      "source": [
        "cars = ['audi','bmw','subaru','toyta']\n",
        "for car in cars:\n",
        "    if car == 'bmw':\n",
        "        print(car.upper())\n",
        "\n",
        "    else:\n",
        "        print(car.title())"
      ]
    },
    {
      "cell_type": "markdown",
      "source": [
        "#  Conditional tests\n",
        " At the heart of every if statement is an expression that can be evaluated as\n",
        "True or False and is called a conditional test. Python uses the values True and False to decide whether the code in an if statement should be executed. If a conditional test evaluates to True, Python executes the code following the if statement. If the test evaluates to False, Python ignores the code following\n",
        "the if statement."
      ],
      "metadata": {
        "id": "EtylTHf2KYDd"
      }
    },
    {
      "cell_type": "code",
      "source": [
        "car = 'bmw'\n",
        "car == 'bmw'"
      ],
      "metadata": {
        "colab": {
          "base_uri": "https://localhost:8080/"
        },
        "id": "1_PlIRhLLfLt",
        "outputId": "319d617b-f7b7-45ae-cee1-4a9378628fb0"
      },
      "execution_count": 4,
      "outputs": [
        {
          "output_type": "execute_result",
          "data": {
            "text/plain": [
              "True"
            ]
          },
          "metadata": {},
          "execution_count": 4
        }
      ]
    },
    {
      "cell_type": "code",
      "source": [
        "car = 'bmw'\n",
        "car == 'Bmw'"
      ],
      "metadata": {
        "colab": {
          "base_uri": "https://localhost:8080/"
        },
        "id": "h4nXnFSOLljd",
        "outputId": "6d6bd90f-4c47-46a2-90b4-b38b16687bcf"
      },
      "execution_count": 5,
      "outputs": [
        {
          "output_type": "execute_result",
          "data": {
            "text/plain": [
              "False"
            ]
          },
          "metadata": {},
          "execution_count": 5
        }
      ]
    },
    {
      "cell_type": "code",
      "source": [
        "#Testing for equality is case sensitive for python\n",
        "cars = ['audi','BMW ','subaru','toyta']\n",
        "for car in cars:\n",
        "    if car == 'bmw':\n",
        "        print(car.upper())#bmw is not the same as BMW\n",
        "\n",
        "    else:\n",
        "        print(car.title())#This is selected"
      ],
      "metadata": {
        "colab": {
          "base_uri": "https://localhost:8080/"
        },
        "id": "Pu1hv_nIKjMF",
        "outputId": "2f7e9017-f66a-4cdb-8fa5-d6456c091e7f"
      },
      "execution_count": 2,
      "outputs": [
        {
          "output_type": "stream",
          "name": "stdout",
          "text": [
            "Audi\n",
            "Bmw \n",
            "Subaru\n",
            "Toyta\n"
          ]
        }
      ]
    },
    {
      "cell_type": "code",
      "source": [
        "cars = ['audi','Bmw ','subaru','toyta']\n",
        "for car in cars:\n",
        "    if car.strip().lower() == 'bmw':\n",
        "\n",
        "        print(car.upper())\n",
        "\n",
        "    else:\n",
        "        print(car.title())"
      ],
      "metadata": {
        "colab": {
          "base_uri": "https://localhost:8080/"
        },
        "id": "ff7xU71XK3Mt",
        "outputId": "596495c3-415e-42d3-af66-15c8b4cb228f"
      },
      "execution_count": 3,
      "outputs": [
        {
          "output_type": "stream",
          "name": "stdout",
          "text": [
            "Audi\n",
            "BMW \n",
            "Subaru\n",
            "Toyta\n"
          ]
        }
      ]
    },
    {
      "cell_type": "markdown",
      "source": [
        "#  Checking for Inequality\n",
        " When you want to determine whether two values are not equal, you can\n",
        "combine an exclamation point and an equal sign (!=). The exclamation\n",
        "point represents not, as it does in many programming languages.\n",
        "Let’s use another if statement to examine how to use the inequality\n",
        "operator."
      ],
      "metadata": {
        "id": "QVYWZYUBLxhc"
      }
    },
    {
      "cell_type": "code",
      "source": [
        "flavour = 'vanilla'\n",
        "\n",
        "if flavour != 'chocolate':\n",
        "    print(\"Hold chocolate!\")"
      ],
      "metadata": {
        "colab": {
          "base_uri": "https://localhost:8080/"
        },
        "id": "V7JVfaGkL7R9",
        "outputId": "9bc60e54-cf8b-4dce-8c0c-03d3f37a0f24"
      },
      "execution_count": 6,
      "outputs": [
        {
          "output_type": "stream",
          "name": "stdout",
          "text": [
            "Hold chocolate!\n"
          ]
        }
      ]
    },
    {
      "cell_type": "markdown",
      "source": [
        "# Numerical Comparisons"
      ],
      "metadata": {
        "id": "HhuZdDIiMWVN"
      }
    },
    {
      "cell_type": "code",
      "source": [
        "age = 19\n",
        "age <=21"
      ],
      "metadata": {
        "colab": {
          "base_uri": "https://localhost:8080/"
        },
        "id": "0x2eUSQlMurG",
        "outputId": "344a2374-49cd-4ad3-b991-2b0f390929f8"
      },
      "execution_count": 12,
      "outputs": [
        {
          "output_type": "execute_result",
          "data": {
            "text/plain": [
              "True"
            ]
          },
          "metadata": {},
          "execution_count": 12
        }
      ]
    },
    {
      "cell_type": "code",
      "source": [
        "age = 19\n",
        "age <=21"
      ],
      "metadata": {
        "colab": {
          "base_uri": "https://localhost:8080/"
        },
        "id": "PEMVV2K-NBH9",
        "outputId": "089fe3ca-980a-4f60-b18c-1337e5561573"
      },
      "execution_count": 11,
      "outputs": [
        {
          "output_type": "execute_result",
          "data": {
            "text/plain": [
              "True"
            ]
          },
          "metadata": {},
          "execution_count": 11
        }
      ]
    },
    {
      "cell_type": "code",
      "source": [
        "age >21"
      ],
      "metadata": {
        "colab": {
          "base_uri": "https://localhost:8080/"
        },
        "id": "Sj1I-3GeM1il",
        "outputId": "3b5009d7-8879-4715-db96-848764be77f4"
      },
      "execution_count": 13,
      "outputs": [
        {
          "output_type": "execute_result",
          "data": {
            "text/plain": [
              "False"
            ]
          },
          "metadata": {},
          "execution_count": 13
        }
      ]
    },
    {
      "cell_type": "markdown",
      "source": [
        "#  Checking Multiple Conditions\n",
        " You may want to check multiple conditions at the same time. For example, sometimes you might need two conditions to be True to take an action. Other times you might be satisfied with just one condition being True. The keywords\n",
        "**and** and **or** can help you in these situations."
      ],
      "metadata": {
        "id": "pg2GS3fMOOtk"
      }
    },
    {
      "cell_type": "code",
      "source": [
        "age1 = 23\n",
        "age2 = 18\n",
        "age1 >= 21 and age2 >=21 #if both above 21"
      ],
      "metadata": {
        "colab": {
          "base_uri": "https://localhost:8080/"
        },
        "id": "S6y4aNn4OYYt",
        "outputId": "dd22df51-bfcb-4fca-e911-6a4765023e96"
      },
      "execution_count": 17,
      "outputs": [
        {
          "output_type": "execute_result",
          "data": {
            "text/plain": [
              "False"
            ]
          },
          "metadata": {},
          "execution_count": 17
        }
      ]
    },
    {
      "cell_type": "code",
      "source": [
        "age1 = 21\n",
        "age2 = 28\n",
        "age1 >= 21 and age2 >=21 #if both above 21"
      ],
      "metadata": {
        "colab": {
          "base_uri": "https://localhost:8080/"
        },
        "id": "nKyhJ1ZyO0Dl",
        "outputId": "685437d5-f65e-4b5c-cb1e-0e429783079c"
      },
      "execution_count": 20,
      "outputs": [
        {
          "output_type": "execute_result",
          "data": {
            "text/plain": [
              "True"
            ]
          },
          "metadata": {},
          "execution_count": 20
        }
      ]
    },
    {
      "cell_type": "code",
      "source": [
        "age1 = 23\n",
        "age2 = 18\n",
        "age1 >= 21 or age2 >=21 #if either one above 21"
      ],
      "metadata": {
        "colab": {
          "base_uri": "https://localhost:8080/"
        },
        "id": "SS8Nnq2oNu8t",
        "outputId": "d65680dc-3f47-47a5-c4c8-57245d4ec3d8"
      },
      "execution_count": 16,
      "outputs": [
        {
          "output_type": "execute_result",
          "data": {
            "text/plain": [
              "True"
            ]
          },
          "metadata": {},
          "execution_count": 16
        }
      ]
    },
    {
      "cell_type": "code",
      "source": [
        "age1 = 12\n",
        "age2 = 18\n",
        "age1 >= 21 or age2 >=21 #if either one above 21"
      ],
      "metadata": {
        "colab": {
          "base_uri": "https://localhost:8080/"
        },
        "id": "43BNNRZMO_QV",
        "outputId": "a18108f2-a4f0-468e-871a-48cbe96b50f7"
      },
      "execution_count": 21,
      "outputs": [
        {
          "output_type": "execute_result",
          "data": {
            "text/plain": [
              "False"
            ]
          },
          "metadata": {},
          "execution_count": 21
        }
      ]
    },
    {
      "cell_type": "markdown",
      "source": [
        "#More examples"
      ],
      "metadata": {
        "id": "_wwLF-yoPd7s"
      }
    },
    {
      "cell_type": "code",
      "source": [
        "David_age = 25\n",
        "Mathew_age = 18\n",
        "Alex_age = 15\n",
        "# Check if each person is below 18 and print the result\n",
        "if David_age < 18:\n",
        "    print(\"David is under age\")\n",
        "else:\n",
        "    print(\"David is 18 or older\")\n",
        "\n",
        "if Mathew_age < 18:\n",
        "    print(\"Mathew is under age\")\n",
        "else:\n",
        "    print(\"Mathew is 18 or older\")\n",
        "\n",
        "if Alex_age < 18:\n",
        "    print(\"Alex is under age\")\n",
        "else:\n",
        "    print(\"Alex is 18 or older\")"
      ],
      "metadata": {
        "colab": {
          "base_uri": "https://localhost:8080/"
        },
        "id": "VfP3BllsMKTV",
        "outputId": "a63a9bda-5f30-4020-81c0-31c1dc547cca"
      },
      "execution_count": 7,
      "outputs": [
        {
          "output_type": "stream",
          "name": "stdout",
          "text": [
            "David is 18 or older\n",
            "Mathew is 18 or older\n",
            "Alex is under age\n"
          ]
        }
      ]
    },
    {
      "cell_type": "code",
      "source": [
        "#Check a value is in a list or not\n",
        "banned_users = ['Andrew','Nick','Harry']\n",
        "users = ['Farhan','Nick']\n",
        "for user in users:\n",
        "    if user in banned_users:\n",
        "        print( user + (', You are banned!'))\n",
        "    else:\n",
        "        print(\"Welcome \" + user + ('!'))"
      ],
      "metadata": {
        "colab": {
          "base_uri": "https://localhost:8080/"
        },
        "id": "OlH6Ny62Mdbd",
        "outputId": "b727a38a-27f3-4041-ae1b-5cb98bba2950"
      },
      "execution_count": 8,
      "outputs": [
        {
          "output_type": "stream",
          "name": "stdout",
          "text": [
            "Welcome Farhan!\n",
            "Nick, You are banned!\n"
          ]
        }
      ]
    },
    {
      "cell_type": "code",
      "source": [
        "age = 13\n",
        "if age < 4:\n",
        "    print('Free admission')\n",
        "elif age < 10:\n",
        "    print('Admission fee is $5')\n",
        "else:\n",
        "    print('Admission fee is $10')"
      ],
      "metadata": {
        "colab": {
          "base_uri": "https://localhost:8080/"
        },
        "id": "bLEvpSAwNU-N",
        "outputId": "522e25b2-e0f5-4f52-f7af-27c0a594af26"
      },
      "execution_count": 14,
      "outputs": [
        {
          "output_type": "stream",
          "name": "stdout",
          "text": [
            "Admission fee is $10\n"
          ]
        }
      ]
    },
    {
      "cell_type": "code",
      "source": [
        "age = 2\n",
        "if age < 4:\n",
        "    price = 0\n",
        "elif age < 10:\n",
        "    price = 2\n",
        "elif age > 65: #senior discount\n",
        "    price = 5\n",
        "else:\n",
        "    price = 10\n",
        "print('Your admission fee is $' +str(price) + '.')"
      ],
      "metadata": {
        "colab": {
          "base_uri": "https://localhost:8080/"
        },
        "id": "4obTv4HUNZYN",
        "outputId": "bf7b8a61-dfeb-45d2-ded2-854b77bb245a"
      },
      "execution_count": 15,
      "outputs": [
        {
          "output_type": "stream",
          "name": "stdout",
          "text": [
            "Your admission fee is $0.\n"
          ]
        }
      ]
    },
    {
      "cell_type": "code",
      "source": [
        "toppings = ['lettuce','extra cheese','tomatoes']\n",
        "for topping in toppings:\n",
        "    if topping == 'tomatoes':\n",
        "        print(\"Sorry, we are out of \" + topping + '.' )\n",
        "    else:\n",
        "        print(\"Adding \" + topping + '.')\n",
        "print(\"\\n Burger is ready!\")"
      ],
      "metadata": {
        "colab": {
          "base_uri": "https://localhost:8080/"
        },
        "id": "HKTAws2RQV4W",
        "outputId": "5ab4978a-3a35-47ac-d71f-70991b8c1b2c"
      },
      "execution_count": 22,
      "outputs": [
        {
          "output_type": "stream",
          "name": "stdout",
          "text": [
            "Adding lettuce.\n",
            "Adding extra cheese.\n",
            "Sorry, we are out of tomatoes.\n",
            "\n",
            " Burger is ready!\n"
          ]
        }
      ]
    },
    {
      "cell_type": "markdown",
      "source": [
        "# if-else Statements\n",
        " Often, you’ll want to take one action when a conditional test passes and a dif\n",
        "ferent action in all other cases. Python’s if-else syntax makes this possible.\n",
        "An if-else block is similar to a simple if statement, but the else statement\n",
        "allows you to define an action or set of actions that are executed when the\n",
        "conditional test fails."
      ],
      "metadata": {
        "id": "97fkNTXvQg6F"
      }
    },
    {
      "cell_type": "code",
      "source": [
        "#To check if list is empty\n",
        "toppings = []\n",
        "if toppings:\n",
        "    print(\"Adding \" + topping + '.')\n",
        "    print(\"\\n Burger is ready!\")\n",
        "else:\n",
        "        print(\"Are you sure you want a plain burger?\")"
      ],
      "metadata": {
        "colab": {
          "base_uri": "https://localhost:8080/"
        },
        "id": "louOgIV2QdCF",
        "outputId": "10ec6a21-1a62-4434-8c60-620b836ea359"
      },
      "execution_count": 23,
      "outputs": [
        {
          "output_type": "stream",
          "name": "stdout",
          "text": [
            "Are you sure you want a plain burger?\n"
          ]
        }
      ]
    },
    {
      "cell_type": "code",
      "source": [
        "#Burger code v2\n",
        "toppings = ['lettuce','extra cheese','tomatoes','onions','bacon','pickle']\n",
        "Custom_toppings = []\n",
        "#Custom_toppings = ['extra cheese','pickle','chilli']\n",
        "for customOrder in Custom_toppings:\n",
        "    if customOrder in toppings:\n",
        "        print(\"Adding \" + customOrder + '.')\n",
        "    else:\n",
        "        print(\"Sorry, \" + customOrder + ' is not available.')\n",
        "if not Custom_toppings: #check if the custom toppings list is empty\n",
        "    print(\"Are you sure you want a plain burger?\")\n",
        "#print(\"\\n Burger is ready!\")"
      ],
      "metadata": {
        "colab": {
          "base_uri": "https://localhost:8080/"
        },
        "id": "5fujvkTBQqmF",
        "outputId": "8fdcb444-87db-40d7-db3c-7e7bb95a7519"
      },
      "execution_count": 24,
      "outputs": [
        {
          "output_type": "stream",
          "name": "stdout",
          "text": [
            "Are you sure you want a plain burger?\n"
          ]
        }
      ]
    },
    {
      "cell_type": "markdown",
      "source": [
        "#  The if-elif-else Chain\n",
        " Often, you’ll need to test more than two possible situations, and to evaluate\n",
        "these you can use Python’s if-elif-else syntax. Python executes only one\n",
        "block in an if-elif-else chain. It runs each conditional test in order until\n",
        "one passes. When a test passes, the code following that test is executed and\n",
        "Python skips the rest of the tests."
      ],
      "metadata": {
        "id": "gIXEuhp8RRet"
      }
    },
    {
      "cell_type": "code",
      "source": [
        "#Admin code\n",
        "usernames = ['admin','Eirfan','ERIC','NehA']\n",
        "current_users = [] #no users\n",
        "#current_users = ['admin','Eirfan','Eric','NehA','Sarah']#\n",
        "for user in current_users:\n",
        "    if user == 'admin':\n",
        "        print('Welcome '+ user + '!')\n",
        "        print('What are you up to?')\n",
        "    elif user == 'NehA':\n",
        "        print('\\nHello ' + user + '!')\n",
        "        print(\"How are you??\")\n",
        "    elif user in usernames:\n",
        "        print('\\nHello ' + user + '!')\n",
        "    else:\n",
        "        print('\\nYour username is not found!')\n",
        "        print('Do you want to create an account?')\n",
        "if not current_users:\n",
        "    print(\"We need to get users!\")"
      ],
      "metadata": {
        "colab": {
          "base_uri": "https://localhost:8080/"
        },
        "id": "aE63PIr-Qv4d",
        "outputId": "a57f4935-745a-41c1-f7f0-bad71dd2c39c"
      },
      "execution_count": 25,
      "outputs": [
        {
          "output_type": "stream",
          "name": "stdout",
          "text": [
            "We need to get users!\n"
          ]
        }
      ]
    },
    {
      "cell_type": "code",
      "source": [
        "#Admin code v2 (check for same user names & must be case sensitive)\n",
        "usernames = ['admin', 'Eirfan', 'ERIC', 'NehA']\n",
        "current_users = ['admin', 'Eirfan','NehA', 'ERIC', 'Sarah']\n",
        "new_users = ['john', 'Ryan', 'ERIC','eirfan','nehA']\n",
        "\n",
        "#Checking for existing users\n",
        "for new_user in new_users:\n",
        "    if new_user in usernames:\n",
        "        print('\\nThe username \"' + new_user + '\" is already taken!')\n",
        "        print('Please try a different username.')\n",
        "    else:\n",
        "        if new_user != usernames:\n",
        "            print('\\nHello ' + new_user + '!')\n",
        "\n",
        "#Greeting existing users\n",
        "for user in current_users:\n",
        "    if user == 'admin':\n",
        "        print('\\nWelcome ' + user + '!')\n",
        "        print('What are you up to?')\n",
        "    elif user == 'NehA':\n",
        "        print('\\nHello ' + user + '!')\n",
        "        print('How are you??')\n",
        "    elif user in usernames:\n",
        "        print('\\nHello ' + user + '!')\n",
        "    else:\n",
        "        print('\\n' + user)\n",
        "        print('Your username is not found!')\n",
        "        print('Do you want to create an account?')"
      ],
      "metadata": {
        "colab": {
          "base_uri": "https://localhost:8080/"
        },
        "id": "lx-r3WEoQ1bU",
        "outputId": "2e337c24-72b0-4f94-af5a-a4bd689647c0"
      },
      "execution_count": 28,
      "outputs": [
        {
          "output_type": "stream",
          "name": "stdout",
          "text": [
            "\n",
            "Hello john!\n",
            "\n",
            "Hello Ryan!\n",
            "\n",
            "The username \"ERIC\" is already taken!\n",
            "Please try a different username.\n",
            "\n",
            "Hello eirfan!\n",
            "\n",
            "Hello nehA!\n",
            "\n",
            "Welcome admin!\n",
            "What are you up to?\n",
            "\n",
            "Hello Eirfan!\n",
            "\n",
            "Hello NehA!\n",
            "How are you??\n",
            "\n",
            "Hello ERIC!\n",
            "\n",
            "Sarah\n",
            "Your username is not found!\n",
            "Do you want to create an account?\n"
          ]
        }
      ]
    }
  ]
}