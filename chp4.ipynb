{
  "nbformat": 4,
  "nbformat_minor": 0,
  "metadata": {
    "colab": {
      "provenance": [],
      "authorship_tag": "ABX9TyPUr5/plBf1tQB3RpuTC9qL",
      "include_colab_link": true
    },
    "kernelspec": {
      "name": "python3",
      "display_name": "Python 3"
    },
    "language_info": {
      "name": "python"
    }
  },
  "cells": [
    {
      "cell_type": "markdown",
      "metadata": {
        "id": "view-in-github",
        "colab_type": "text"
      },
      "source": [
        "<a href=\"https://colab.research.google.com/github/MFH97/Python-Crash-Course/blob/main/chp4.ipynb\" target=\"_parent\"><img src=\"https://colab.research.google.com/assets/colab-badge.svg\" alt=\"Open In Colab\"/></a>"
      ]
    },
    {
      "cell_type": "markdown",
      "source": [
        "# Working with Lists\n",
        "\n",
        " In this chapter you’ll learn how to loop through an entire list using just a few lines of code regardless of how\n",
        "long the list is. Looping allows you to take the same action, or set of actions,\n",
        "with every item in a list. As a result, you’ll be able to work efficiently with\n",
        "lists of any length, including those with thousands or even millions of items."
      ],
      "metadata": {
        "id": "W9_rzf6njUVT"
      }
    },
    {
      "cell_type": "markdown",
      "source": [
        "Let’s say we have a list of magicians’ names, and we want to print out\n",
        "each name in the list. We could do this by retrieving each name from the\n",
        "list individually, but this approach could cause several problems. For one,\n",
        "it would be repetitive to do this with a long list of names. Also, we’d have to\n",
        "change our code each time the list’s length changed. A for loop avoids both\n",
        "of these issues by letting Python manage these issues internally.\n",
        " Let’s use a for loop to print out each name in a list of magicians:"
      ],
      "metadata": {
        "id": "vpGLj7zejyrD"
      }
    },
    {
      "cell_type": "code",
      "execution_count": 8,
      "metadata": {
        "colab": {
          "base_uri": "https://localhost:8080/"
        },
        "id": "JLnZkcVPjMDk",
        "outputId": "d1047eff-033f-4398-8a34-51c909c841d7"
      },
      "outputs": [
        {
          "output_type": "stream",
          "name": "stdout",
          "text": [
            "alice\n",
            "david\n",
            "carolina\n"
          ]
        }
      ],
      "source": [
        "magicians = ['alice','david','carolina']\n",
        "for magician in magicians:\n",
        "   print(magician)\n",
        ""
      ]
    },
    {
      "cell_type": "markdown",
      "source": [
        "We begin by defining a list at, just as we did in Chapter 3. Next,\n",
        "we define a for loop. This line tells Python to pull a name from the list\n",
        "magicians, and store it in the variable magician. Finally we tell Python to print the name that was just stored in magician. Python then repeats lines, once for each name in the list."
      ],
      "metadata": {
        "id": "NuhSBzg4kkRP"
      }
    },
    {
      "cell_type": "code",
      "source": [
        "magicians = ['alice','david','carolina']\n",
        "for magician in magicians:\n",
        "    print(magician.title() + \", cool trick!\")\n",
        "    print(\"I can't wait to see your next trick, \" + magician.title() + \".\\n\")\n",
        "print(\"Thank you, everyone. That was a great magic show!\")#prints after the for loop\n"
      ],
      "metadata": {
        "colab": {
          "base_uri": "https://localhost:8080/"
        },
        "id": "h5IlLgsKlCdT",
        "outputId": "334c6946-4578-42c8-c8d8-dd01381183da"
      },
      "execution_count": 11,
      "outputs": [
        {
          "output_type": "stream",
          "name": "stdout",
          "text": [
            "Alice, cool trick!\n",
            "I can't wait to see your next trick, Alice.\n",
            "\n",
            "David, cool trick!\n",
            "I can't wait to see your next trick, David.\n",
            "\n",
            "Carolina, cool trick!\n",
            "I can't wait to see your next trick, Carolina.\n",
            "\n",
            "Thank you, everyone. That was a great magic show!\n"
          ]
        }
      ]
    },
    {
      "cell_type": "markdown",
      "source": [
        " Python uses indentation to determine when one line of code is connected to\n",
        "the line above it. In the previous examples, the lines that printed messages to individual magicians were part of the for loop because they were indented.\n",
        "Python’s use of indentation makes code very easy to read."
      ],
      "metadata": {
        "id": "AuufqmOzmJ-0"
      }
    },
    {
      "cell_type": "markdown",
      "source": [
        "#  The colon at the end of a for statement tells Python to interpret the next line as the start of a loop."
      ],
      "metadata": {
        "id": "3BImQK7ymvdD"
      }
    },
    {
      "cell_type": "markdown",
      "source": [
        "# Try it yourself\n",
        "\n",
        " 4-1. Pizzas: Think of at least three kinds of your favorite pizza. Store these pizza names in a list, and then use a for loop to print the name of each pizza.\n",
        "\n",
        "\n",
        "  *   Modify your for loop to print a sentence using the name of the pizza\n",
        "instead of printing just the name of the pizza. For each pizza you should\n",
        "have one line of output containing a simple statement like I like pepperoni\n",
        "pizza.\n",
        "  *   Add a line at the end of your program, outside the for loop, that states how much you like pizza. The output should consist of three or more lines about the kinds of pizza you like and then an additional sentence, such as I really love pizza!\n",
        "\n",
        "4-2. Animals: Think of at least three different animals that have a common characteristic . Store the names of these animals in a list, and then use a for loop to print out the name of each animal.\n",
        "\n",
        "*  Modify your program to print a statement about each animal, such as\n",
        "A dog would make a great pet.\n",
        "\n",
        "* Add a line at the end of your program stating what these animals have in\n",
        "common . You could print a sentence such as Any of these animals would\n",
        "make a great pet!\n",
        "\n"
      ],
      "metadata": {
        "id": "0OhaiTRAm2Rz"
      }
    },
    {
      "cell_type": "markdown",
      "source": [
        "#  Using the range() Function\n",
        " Python’s range() function makes it easy to generate a series of numbers.\n",
        "For example, you can use the range() function to print a series of numbers\n",
        "like this:"
      ],
      "metadata": {
        "id": "iqju-eWKnubc"
      }
    },
    {
      "cell_type": "code",
      "source": [
        "numbers = list(range(1,5))\n",
        "print(numbers)"
      ],
      "metadata": {
        "colab": {
          "base_uri": "https://localhost:8080/"
        },
        "id": "ZsT7Da_hnz2j",
        "outputId": "cbc6e40b-866a-4a28-ed83-50578cfa7405"
      },
      "execution_count": 12,
      "outputs": [
        {
          "output_type": "stream",
          "name": "stdout",
          "text": [
            "[1, 2, 3, 4]\n"
          ]
        }
      ]
    },
    {
      "cell_type": "markdown",
      "source": [
        " The range() function causes Python to start counting at the first\n",
        "value you give it, and it stops when it reaches the second value you provide.\n",
        "Because it stops at that second value, the output never contains the end\n",
        "value"
      ],
      "metadata": {
        "id": "Wysuxl6Iodr7"
      }
    },
    {
      "cell_type": "markdown",
      "source": [
        "We can also use the range() function to tell Python to skip numbers\n",
        "in a given range. For example, here’s how we would list the even numbers\n",
        "between 1 and 10:"
      ],
      "metadata": {
        "id": "dbDZJjN5os3s"
      }
    },
    {
      "cell_type": "code",
      "source": [
        "even_numbers = list(range(2,11,2))\n",
        "print(even_numbers)"
      ],
      "metadata": {
        "colab": {
          "base_uri": "https://localhost:8080/"
        },
        "id": "PzBIap8an3eM",
        "outputId": "edb7ea46-5e2f-4688-e1dc-e31009746365"
      },
      "execution_count": 13,
      "outputs": [
        {
          "output_type": "stream",
          "name": "stdout",
          "text": [
            "[2, 4, 6, 8, 10]\n"
          ]
        }
      ]
    },
    {
      "cell_type": "markdown",
      "source": [
        "In the above example, the range() function starts with the value 2 and then\n",
        "adds 2 to that value. It adds 2 repeatedly until it reaches or passes the end\n",
        "value, 11, and produces this result:"
      ],
      "metadata": {
        "id": "5bgM2pZqo6nr"
      }
    },
    {
      "cell_type": "markdown",
      "source": [
        "You can create almost any set of numbers you want to using the range()\n",
        "function. For example, consider how you might make a list of the first 10\n",
        "square numbers (that is, the square of each integer from 1 through 10). In\n",
        "Python, two asterisks (**) represent exponents. Here’s how you might put\n",
        "the first 10 square numbers into a list:"
      ],
      "metadata": {
        "id": "RegXLJKmpIFM"
      }
    },
    {
      "cell_type": "code",
      "source": [
        "squares = []\n",
        "for value in range(1,11):\n",
        "    square = value**2\n",
        "    squares.append(square)\n",
        "print(squares)\n",
        "\n",
        "#same as before but using temporary variable\n",
        "squares = []\n",
        "for value in range(1,11):\n",
        "    squares.append(value**2)\n",
        "print(squares)"
      ],
      "metadata": {
        "colab": {
          "base_uri": "https://localhost:8080/"
        },
        "id": "1X5vYr8In778",
        "outputId": "45eeaff6-7e8c-48b1-ea79-13fcfe480c7b"
      },
      "execution_count": 14,
      "outputs": [
        {
          "output_type": "stream",
          "name": "stdout",
          "text": [
            "[1, 4, 9, 16, 25, 36, 49, 64, 81, 100]\n",
            "[1, 4, 9, 16, 25, 36, 49, 64, 81, 100]\n"
          ]
        }
      ]
    },
    {
      "cell_type": "markdown",
      "source": [
        "1st square ex:\n",
        "We start with an empty list called squares. Then, we tell Python to\n",
        "loop through each value from 1 to 10 using the range() function. Inside\n",
        "the loop, the current value is raised to the second power and stored in the variable square. Next, each new value of square is appended to the list\n",
        "squares. Finally, when the loop has finished running, the list of squares is\n",
        "printed.\n",
        "\n",
        "2nd square ex:\n",
        "The code does the same work as the lines as before.\n",
        "Each value in the loop is raised to the second power and then immediately\n",
        "appended to the list of squares.  You can use either of these two approaches when you’re making more\n",
        "complex lists. Sometimes using a temporary variable makes your code eas\n",
        "ier to read."
      ],
      "metadata": {
        "id": "6YL-lL_ypU3k"
      }
    },
    {
      "cell_type": "markdown",
      "source": [
        "# Simple Statistics with a List of Numbers\n",
        "\n",
        "A few Python functions are specific to lists of numbers. For example, you\n",
        "can easily find the minimum, maximum, and sum of a list of numbers:"
      ],
      "metadata": {
        "id": "Srmm10kjqVes"
      }
    },
    {
      "cell_type": "code",
      "source": [
        "digits = [1, 2, 3, 4, 5, 6, 7, 8, 9, 0]\n",
        "print (min(digits))\n",
        "print (max(digits))\n",
        "sum(digits)"
      ],
      "metadata": {
        "colab": {
          "base_uri": "https://localhost:8080/"
        },
        "id": "LN0koqIxqZj7",
        "outputId": "b76d82b5-bd26-408e-f9db-50de52c80688"
      },
      "execution_count": 20,
      "outputs": [
        {
          "output_type": "stream",
          "name": "stdout",
          "text": [
            "0\n",
            "9\n"
          ]
        },
        {
          "output_type": "execute_result",
          "data": {
            "text/plain": [
              "45"
            ]
          },
          "metadata": {},
          "execution_count": 20
        }
      ]
    },
    {
      "cell_type": "markdown",
      "source": [
        "# List Comprehensions\n",
        " The approach described earlier for generating the list squares consisted of using three or four lines of code. A list comprehension allows you to generate this same list in just one line of code. A list comprehension combines the for loop and the creation of new elements into one line, and automatically appends each new element."
      ],
      "metadata": {
        "id": "zTvLWTEdrgIT"
      }
    },
    {
      "cell_type": "code",
      "source": [
        "squares = [value**2 for value in range(1,11)]\n",
        "print(squares)"
      ],
      "metadata": {
        "colab": {
          "base_uri": "https://localhost:8080/"
        },
        "id": "AxsI7iWVrUQ0",
        "outputId": "15c8fdcc-28ce-4a84-f9fe-e78d8fdf4515"
      },
      "execution_count": 22,
      "outputs": [
        {
          "output_type": "stream",
          "name": "stdout",
          "text": [
            "[1, 4, 9, 16, 25, 36, 49, 64, 81, 100]\n"
          ]
        }
      ]
    },
    {
      "cell_type": "markdown",
      "source": [
        "# Try it yourself\n",
        "\n",
        " * 4-3. Counting to Twenty: Use a for loop to print the numbers from 1 to 20,\n",
        "inclusive.\n",
        "\n",
        " * 4-4. One Million: Make a list of the numbers from one to one million, and then use a for loop to print the numbers. (If the output is taking too long, stop it by pressing ctrl-C or by closing the output window.)\n",
        "\n",
        " * 4-5. Summing a Million: Make a list of the numbers from one to one million,\n",
        "and then use min() and max() to make sure your list actually starts at one and ends at one million. Also, use the sum() function to see how quickly Python can add a million numbers.\n",
        "\n",
        "* 4-6. Odd Numbers: Use the third argument of the range() function to make a list of the odd numbers from 1 to 20. Use a for loop to print each number.\n",
        "\n",
        "* 4-7. Threes: Make a list of the multiples of 3 from 3 to 30. Use a for loop to print the numbers in your list.\n",
        "\n",
        "* 4-8. Cubes: A number raised to the third power is called a cube. For example, the cube of 2 is written as 2**3 in Python. Make a list of the first 10 cubes (that is, the cube of each integer from 1 through 10), and use a for loop to print out the value of each cube.\n",
        "\n",
        "* 4-9. Cube Comprehension: Use a list comprehension to generate a list of the\n",
        "first 10 cubes."
      ],
      "metadata": {
        "id": "lrFF7vRmrzfN"
      }
    },
    {
      "cell_type": "markdown",
      "source": [
        "#  Slicing a List\n",
        " To make a slice, you specify the index of the first and last elements you\n",
        "want to work with. As with the range() function, Python stops one item\n",
        "before the second index you specify. To output the first three elements\n",
        "in a list, you would request indices 0 through 3, which would return ele\n",
        "ments 0, 1, and 2.\n",
        " The following example involves a list of players on a team:"
      ],
      "metadata": {
        "id": "qbjwm3Cqsy_t"
      }
    },
    {
      "cell_type": "code",
      "source": [
        "players = ['Messi','Neymar','Mbappe','Haaland','Son']\n",
        "print(players[0:3])\n",
        "print(players[1:4])#slice from 1 to 4\n",
        "print(players[:3])#by default slice from the 1st index\n",
        "print(players[2:])#slice the from the 2nd index to the end\n",
        "print(players[-3:])#output last 3"
      ],
      "metadata": {
        "colab": {
          "base_uri": "https://localhost:8080/"
        },
        "id": "1aThR5s0sqjc",
        "outputId": "cc7e7533-e5df-4b55-d323-377e786ee320"
      },
      "execution_count": 23,
      "outputs": [
        {
          "output_type": "stream",
          "name": "stdout",
          "text": [
            "['Messi', 'Neymar', 'Mbappe']\n",
            "['Neymar', 'Mbappe', 'Haaland']\n",
            "['Messi', 'Neymar', 'Mbappe']\n",
            "['Mbappe', 'Haaland', 'Son']\n",
            "['Mbappe', 'Haaland', 'Son']\n"
          ]
        }
      ]
    },
    {
      "cell_type": "markdown",
      "source": [
        "# Looping Through a Slice\n",
        "\n",
        "You can use a slice in a for loop if you want to loop through a subset of\n",
        "the elements in a list. In the next example we loop through the first three\n",
        "players and print their names"
      ],
      "metadata": {
        "id": "jKgIlOsXtgqs"
      }
    },
    {
      "cell_type": "code",
      "source": [
        "players = ['Messi','Neymar','Mbappe','Haaland','Son']\n",
        "print(\"The best three players on my team: \")\n",
        "for player in players[:3]:\n",
        "    print(player)"
      ],
      "metadata": {
        "colab": {
          "base_uri": "https://localhost:8080/"
        },
        "id": "_AG5Ry2mtZml",
        "outputId": "ed65c87d-464d-4d82-ff37-c14da9401792"
      },
      "execution_count": 24,
      "outputs": [
        {
          "output_type": "stream",
          "name": "stdout",
          "text": [
            "The best three players on my team: \n",
            "Messi\n",
            "Neymar\n",
            "Mbappe\n"
          ]
        }
      ]
    },
    {
      "cell_type": "markdown",
      "source": [
        "#  Copying a List\n",
        " Often, you’ll want to start with an existing list and make an entirely new list\n",
        "based on the first one. Let’s explore how copying a list works and examine\n",
        "one situation in which copying a list is useful."
      ],
      "metadata": {
        "id": "BRdwc35otyBt"
      }
    },
    {
      "cell_type": "code",
      "source": [
        "Fahiq_foods = ['Mcspicy','Biryani','Chicken rice','Pizza']\n",
        "Eirfan_foods = Fahiq_foods[:]\n",
        "print(\"My favorite foods are: \")\n",
        "print(Fahiq_foods)\n",
        "print(\"\\nEirfan's favorite foods are: \")\n",
        "print(Eirfan_foods)"
      ],
      "metadata": {
        "colab": {
          "base_uri": "https://localhost:8080/"
        },
        "id": "2-fxnuOLt7sd",
        "outputId": "7ff84446-d791-422a-ab60-129d3e274b33"
      },
      "execution_count": 25,
      "outputs": [
        {
          "output_type": "stream",
          "name": "stdout",
          "text": [
            "My favorite foods are: \n",
            "['Mcspicy', 'Biryani', 'Chicken rice', 'Pizza']\n",
            "\n",
            "Eirfan's favorite foods are: \n",
            "['Mcspicy', 'Biryani', 'Chicken rice', 'Pizza']\n"
          ]
        }
      ]
    },
    {
      "cell_type": "markdown",
      "source": [
        "To prove that we actually have two separate lists, we’ll add a new food\n",
        "to each list and show that each list keeps track of the appropriate person’s\n",
        "favorite foods:"
      ],
      "metadata": {
        "id": "l6JwCwBeu1k1"
      }
    },
    {
      "cell_type": "code",
      "source": [
        "Fahiq_foods = ['Mcspicy','Biryani','Chicken rice','Pizza']\n",
        "Eirfan_foods = Fahiq_foods[:]\n",
        "\n",
        "Fahiq_foods.append('Burger')\n",
        "Eirfan_foods.append('Ice cream')\n",
        "\n",
        "print(\"My favorite foods are: \")\n",
        "print(Fahiq_foods)\n",
        "print(\"\\nEirfan's favorite foods are: \")\n",
        "print(Eirfan_foods)"
      ],
      "metadata": {
        "colab": {
          "base_uri": "https://localhost:8080/"
        },
        "id": "DhO9SLUduZet",
        "outputId": "1dfc62c0-82ba-4fed-9965-ec699bd92800"
      },
      "execution_count": 27,
      "outputs": [
        {
          "output_type": "stream",
          "name": "stdout",
          "text": [
            "My favorite foods are: \n",
            "['Mcspicy', 'Biryani', 'Chicken rice', 'Pizza', 'Burger']\n",
            "\n",
            "Eirfan's favorite foods are: \n",
            "['Mcspicy', 'Biryani', 'Chicken rice', 'Pizza', 'Ice cream']\n"
          ]
        }
      ]
    },
    {
      "cell_type": "markdown",
      "source": [
        "# Copy a list using slice!\n",
        "Or you will have issues like the example below..."
      ],
      "metadata": {
        "id": "BqXJngyhvOq9"
      }
    },
    {
      "cell_type": "code",
      "source": [
        "my_foods = ['pizza', 'falafel', 'carrot cake']\n",
        "# This doesn't work:\n",
        "friend_foods = my_foods #Both variable point to the same list\n",
        "\n",
        "my_foods.append('cannoli')\n",
        "friend_foods.append('ice cream')\n",
        "print(\"My favorite foods are:\")\n",
        "print(my_foods)\n",
        "print(\"\\nMy friend's favorite foods are:\")\n",
        "print(friend_foods)"
      ],
      "metadata": {
        "colab": {
          "base_uri": "https://localhost:8080/"
        },
        "id": "HvrJQNeMv87E",
        "outputId": "fac4f1cc-df9e-4411-b398-89f3911ef7aa"
      },
      "execution_count": 30,
      "outputs": [
        {
          "output_type": "stream",
          "name": "stdout",
          "text": [
            "My favorite foods are:\n",
            "['pizza', 'falafel', 'carrot cake', 'cannoli', 'ice cream']\n",
            "\n",
            "My friend's favorite foods are:\n",
            "['pizza', 'falafel', 'carrot cake', 'cannoli', 'ice cream']\n"
          ]
        }
      ]
    },
    {
      "cell_type": "markdown",
      "source": [
        "# Try it yourslef\n",
        "\n",
        " 4-10. Slices: Using one of the programs you wrote in this chapter, add several\n",
        "lines to the end of the program that do the following:\n",
        "\n",
        "\n",
        "*   Print the message, The first three items in the list are: . Then use a slice to print the first three items from that program’s list.\n",
        "*   Print the message, Three items from the middle of the list are: . Use a slice to print three items from the middle of the list.\n",
        "*  Print the message, The last three items in the list are: . Use a slice to print the last three items in the list.\n",
        "\n",
        "4-11. My Pizzas, Your Pizzas: Start with your program from Exercise 4-1\n",
        "(page 60) . Make a copy of the list of pizzas, and call it friend_pizzas.\n",
        "Then, do the following:\n",
        "\n",
        "* Add a new pizza to the original list\n",
        "* Add a different pizza to the list friend_pizzas\n",
        "* Prove that you have two separate lists. Print the message, My favorite\n",
        "pizzas are:, and then use a for loop to print the first list . Print the message, My friend’s favorite pizzas are:, and then use a for loop to print the second list . Make sure each new pizza is stored in the appropriate list.\n",
        "\n",
        "4-12. More Loops: All versions of foods.py in this section have avoided using\n",
        "for loops when printing to save space . Choose a version of foods.py, and\n",
        "write two for loops to print each list of foods\n",
        "\n"
      ],
      "metadata": {
        "id": "4VQYUL2PwczW"
      }
    },
    {
      "cell_type": "markdown",
      "source": [
        "# Tuples\n",
        "\n",
        " Lists work well for storing sets of items that can change throughout the\n",
        "life of a program. However, sometimes you’ll want to create a list of items that cannot change. Tuples allow you to do just that. Python refers to values that cannot change as immutable, and an immutable list is called a tuple."
      ],
      "metadata": {
        "id": "kNPZ3WGpwZHV"
      }
    },
    {
      "cell_type": "code",
      "source": [
        "numbers = (101,69)\n",
        "\n",
        "print(numbers[0])\n",
        "print(numbers[1])"
      ],
      "metadata": {
        "colab": {
          "base_uri": "https://localhost:8080/"
        },
        "id": "Z2J9ty-7xR5u",
        "outputId": "bbfa3058-7f29-4b4f-9aa3-ff583107aeb1"
      },
      "execution_count": 33,
      "outputs": [
        {
          "output_type": "stream",
          "name": "stdout",
          "text": [
            "101\n",
            "69\n"
          ]
        }
      ]
    },
    {
      "cell_type": "code",
      "source": [
        "numbers = (101,69)\n",
        "numbers[0] = 21#Cannot change tuples\n",
        "print(numbers[0])\n",
        "print(numbers[1])"
      ],
      "metadata": {
        "colab": {
          "base_uri": "https://localhost:8080/",
          "height": 193
        },
        "id": "AkX86evHxYQP",
        "outputId": "90e1eb41-efb9-44fd-c522-46d3d95abf0f"
      },
      "execution_count": 34,
      "outputs": [
        {
          "output_type": "error",
          "ename": "TypeError",
          "evalue": "'tuple' object does not support item assignment",
          "traceback": [
            "\u001b[0;31m---------------------------------------------------------------------------\u001b[0m",
            "\u001b[0;31mTypeError\u001b[0m                                 Traceback (most recent call last)",
            "\u001b[0;32m<ipython-input-34-e3f99e1f4ee0>\u001b[0m in \u001b[0;36m<cell line: 2>\u001b[0;34m()\u001b[0m\n\u001b[1;32m      1\u001b[0m \u001b[0mnumbers\u001b[0m \u001b[0;34m=\u001b[0m \u001b[0;34m(\u001b[0m\u001b[0;36m101\u001b[0m\u001b[0;34m,\u001b[0m\u001b[0;36m69\u001b[0m\u001b[0;34m)\u001b[0m\u001b[0;34m\u001b[0m\u001b[0;34m\u001b[0m\u001b[0m\n\u001b[0;32m----> 2\u001b[0;31m \u001b[0mnumbers\u001b[0m\u001b[0;34m[\u001b[0m\u001b[0;36m0\u001b[0m\u001b[0;34m]\u001b[0m \u001b[0;34m=\u001b[0m \u001b[0;36m21\u001b[0m\u001b[0;31m#Cannot change tuples\u001b[0m\u001b[0;34m\u001b[0m\u001b[0;34m\u001b[0m\u001b[0m\n\u001b[0m\u001b[1;32m      3\u001b[0m \u001b[0mprint\u001b[0m\u001b[0;34m(\u001b[0m\u001b[0mnumbers\u001b[0m\u001b[0;34m[\u001b[0m\u001b[0;36m0\u001b[0m\u001b[0;34m]\u001b[0m\u001b[0;34m)\u001b[0m\u001b[0;34m\u001b[0m\u001b[0;34m\u001b[0m\u001b[0m\n\u001b[1;32m      4\u001b[0m \u001b[0mprint\u001b[0m\u001b[0;34m(\u001b[0m\u001b[0mnumbers\u001b[0m\u001b[0;34m[\u001b[0m\u001b[0;36m1\u001b[0m\u001b[0;34m]\u001b[0m\u001b[0;34m)\u001b[0m\u001b[0;34m\u001b[0m\u001b[0;34m\u001b[0m\u001b[0m\n",
            "\u001b[0;31mTypeError\u001b[0m: 'tuple' object does not support item assignment"
          ]
        }
      ]
    },
    {
      "cell_type": "markdown",
      "source": [
        "# Looping Through All Values in a Tuple\n",
        " You can loop over all the values in a tuple using a for loop, just as you did\n",
        "with a list:"
      ],
      "metadata": {
        "id": "cDi0iaIRxuVN"
      }
    },
    {
      "cell_type": "code",
      "source": [
        "#Writing over tuple\n",
        "numbers = (101,69)\n",
        "print(\"Original numbers: \")\n",
        "for number in numbers:\n",
        "    print(number)\n",
        "\n",
        "numbers = (333,74)\n",
        "print(\"\\nModified numbers: \")\n",
        "for number in numbers:\n",
        "    print(number)"
      ],
      "metadata": {
        "colab": {
          "base_uri": "https://localhost:8080/"
        },
        "id": "KjJOHzawxnjW",
        "outputId": "f99f8aa9-bea0-452f-e309-ecceebf2e158"
      },
      "execution_count": 35,
      "outputs": [
        {
          "output_type": "stream",
          "name": "stdout",
          "text": [
            "Original numbers: \n",
            "101\n",
            "69\n",
            "\n",
            "Modified numbers: \n",
            "333\n",
            "74\n"
          ]
        }
      ]
    },
    {
      "cell_type": "markdown",
      "source": [
        "# Try it yourself\n",
        "\n",
        "4-13. Buffet: A buffet-style restaurant offers only five basic foods . Think of five simple foods, and store them in a tuple.\n",
        "* Use a for loop to print each food the restaurant offers\n",
        "* Try to modify one of the items, and make sure that Python rejects the\n",
        "change\n",
        "* The restaurant changes its menu, replacing two of the items with different foods. Add a block of code that rewrites the tuple, and then use a for loop to print each of the items on the revised menu."
      ],
      "metadata": {
        "id": "xdEQHtFnx4I2"
      }
    }
  ]
}