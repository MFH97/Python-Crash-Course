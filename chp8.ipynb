{
  "nbformat": 4,
  "nbformat_minor": 0,
  "metadata": {
    "colab": {
      "provenance": [],
      "authorship_tag": "ABX9TyPESXAsATwJGjJ8Lw5vrW/E",
      "include_colab_link": true
    },
    "kernelspec": {
      "name": "python3",
      "display_name": "Python 3"
    },
    "language_info": {
      "name": "python"
    }
  },
  "cells": [
    {
      "cell_type": "markdown",
      "metadata": {
        "id": "view-in-github",
        "colab_type": "text"
      },
      "source": [
        "<a href=\"https://colab.research.google.com/github/MFH97/Python-Crash-Course/blob/main/chp8.ipynb\" target=\"_parent\"><img src=\"https://colab.research.google.com/assets/colab-badge.svg\" alt=\"Open In Colab\"/></a>"
      ]
    },
    {
      "cell_type": "markdown",
      "source": [
        "# Functions\n",
        "\n",
        "In this chapter you’ll learn to write\n",
        "functions, which are named blocks of code that are designed to do one specific job. When you want to perform a particular task that you’ve defined in a function, you call the name\n",
        "of the function responsible for it.\n",
        "\n",
        " Here’s a simple function named greet_user() that prints a greeting:"
      ],
      "metadata": {
        "id": "Vx2VpCr6iihj"
      }
    },
    {
      "cell_type": "code",
      "execution_count": null,
      "metadata": {
        "colab": {
          "base_uri": "https://localhost:8080/"
        },
        "id": "e2Pu1bWoiUsj",
        "outputId": "5d277759-de3b-4187-8a0b-bb05c95ed4e7"
      },
      "outputs": [
        {
          "output_type": "stream",
          "name": "stdout",
          "text": [
            "Hello!\n"
          ]
        }
      ],
      "source": [
        "#Define function\n",
        "def greet_user():\n",
        "#Display a simple greeting.\n",
        " print(\"Hello!\")\n",
        "\n",
        "greet_user()#call the function"
      ]
    },
    {
      "cell_type": "code",
      "source": [
        "#Passing information to the function\n",
        "\n",
        "def greet_user(username):\n",
        " #Display a simple greeting.\n",
        " print(\"Hello, \" + username.title() + \"!\")\n",
        "\n",
        "greet_user('jesse')"
      ],
      "metadata": {
        "colab": {
          "base_uri": "https://localhost:8080/"
        },
        "id": "cjGln9HnjLwS",
        "outputId": "7d5e884f-0a7e-48a5-a3e6-8e34d316acd9"
      },
      "execution_count": null,
      "outputs": [
        {
          "output_type": "stream",
          "name": "stdout",
          "text": [
            "Hello, Jesse!\n"
          ]
        }
      ]
    },
    {
      "cell_type": "code",
      "source": [
        "def favorite_book(title):\n",
        "    print(\"My favorite book is \" + title.title() + \".\")\n",
        "\n",
        "favorite_book('paper towns')"
      ],
      "metadata": {
        "colab": {
          "base_uri": "https://localhost:8080/"
        },
        "id": "UuyH8pjKjfT9",
        "outputId": "f587bdcb-e889-4b02-8b0e-22594ae0d23a"
      },
      "execution_count": null,
      "outputs": [
        {
          "output_type": "stream",
          "name": "stdout",
          "text": [
            "My favorite book is Paper Towns.\n"
          ]
        }
      ]
    },
    {
      "cell_type": "markdown",
      "source": [
        "#  Passing arguments\n",
        " Because a function definition can have multiple parameters, a function call\n",
        "may need multiple arguments. You can pass arguments to your functions\n",
        "in a number of ways. You can use positional arguments, which need to be in\n",
        "the same order the parameters were written; keyword arguments, where each\n",
        "argument consists of a variable name and a value;"
      ],
      "metadata": {
        "id": "-NvDv6xYk_O2"
      }
    },
    {
      "cell_type": "code",
      "source": [
        "#Passing Arguments\n",
        "#Positional Arguments\n",
        "\n",
        "def describe_pet(animal_type, pet_name):\n",
        "    print(\"\\nI have a \" + animal_type + \".\")\n",
        "    print(\"My \" + animal_type + \"'s name is \" + pet_name.title() + \".\")\n",
        "\n",
        "describe_pet('hamster', 'harry')\n",
        "describe_pet('parrot', 'kiki')"
      ],
      "metadata": {
        "colab": {
          "base_uri": "https://localhost:8080/"
        },
        "id": "HqVkK945jkJ1",
        "outputId": "15409ec9-cabe-43e1-b0a0-e19fe245f9df"
      },
      "execution_count": null,
      "outputs": [
        {
          "output_type": "stream",
          "name": "stdout",
          "text": [
            "\n",
            "I have a hamster.\n",
            "My hamster's name is Harry.\n",
            "\n",
            "I have a parrot.\n",
            "My parrot's name is Kiki.\n"
          ]
        }
      ]
    },
    {
      "cell_type": "code",
      "source": [
        "#Keyward Arguments\n",
        "\n",
        "def describe_pet(animal_type, pet_name):\n",
        "    print(\"\\nI have a \" + animal_type + \".\")\n",
        "    print(\"My \" + animal_type + \"'s name is \" + pet_name.title() + \".\")\n",
        "\n",
        "describe_pet(pet_name='harry', animal_type='hamster')#order of keyward dosent matter"
      ],
      "metadata": {
        "colab": {
          "base_uri": "https://localhost:8080/"
        },
        "id": "vz-vBRnMj1vp",
        "outputId": "8fc2511d-f5d4-44e9-d070-9fc6fb7db578"
      },
      "execution_count": null,
      "outputs": [
        {
          "output_type": "stream",
          "name": "stdout",
          "text": [
            "\n",
            "I have a hamster.\n",
            "My hamster's name is Harry.\n"
          ]
        }
      ]
    },
    {
      "cell_type": "markdown",
      "source": [
        "#  Default Values\n",
        " When writing a function, you can define a default value for each parameter.\n",
        "If an argument for a parameter is provided in the function call, Python uses the argument value. If not, it uses the parameter’s default value. So when\n",
        "you define a default value for a parameter, you can exclude the correspond\n",
        "ing argument you’d usually write in the function call. Using default values\n",
        "can simplify your function calls and clarify the ways in which your functions\n",
        "are typically used."
      ],
      "metadata": {
        "id": "NoYkwtRWlhcp"
      }
    },
    {
      "cell_type": "code",
      "source": [
        "#Default values\n",
        "\n",
        "def describe_pet(pet_name, animal_type='dog'):\n",
        " print(\"\\nI have a \" + animal_type + \".\")\n",
        " print(\"My \" + animal_type + \"'s name is \" + pet_name.title() + \".\")\n",
        "\n",
        "describe_pet(pet_name='willie')\n",
        "describe_pet(pet_name='kiki', animal_type='parrot')#Override default value\n"
      ],
      "metadata": {
        "colab": {
          "base_uri": "https://localhost:8080/"
        },
        "id": "GDpXQUJElycB",
        "outputId": "eab92277-cb41-4bfb-fcf3-45a63d89eca4"
      },
      "execution_count": null,
      "outputs": [
        {
          "output_type": "stream",
          "name": "stdout",
          "text": [
            "\n",
            "I have a dog.\n",
            "My dog's name is Willie.\n",
            "\n",
            "I have a parrot.\n",
            "My parrot's name is Kiki.\n"
          ]
        }
      ]
    },
    {
      "cell_type": "code",
      "source": [
        "#All these gives the same output\n",
        "# A dog named Willie.\n",
        "\n",
        "describe_pet('willie')\n",
        "describe_pet(pet_name='willie')\n",
        "# A hamster named Harry.\n",
        "describe_pet('harry', 'hamster')\n",
        "describe_pet(pet_name='harry', animal_type='hamster')\n",
        "describe_pet(animal_type='hamster', pet_name='harry')\n",
        "\n"
      ],
      "metadata": {
        "colab": {
          "base_uri": "https://localhost:8080/"
        },
        "id": "SbBmgc6MmB_x",
        "outputId": "b9f847ab-b51f-40d0-f202-ec0a3a8388bb"
      },
      "execution_count": null,
      "outputs": [
        {
          "output_type": "stream",
          "name": "stdout",
          "text": [
            "\n",
            "I have a dog.\n",
            "My dog's name is Willie.\n",
            "\n",
            "I have a dog.\n",
            "My dog's name is Willie.\n",
            "\n",
            "I have a hamster.\n",
            "My hamster's name is Harry.\n",
            "\n",
            "I have a hamster.\n",
            "My hamster's name is Harry.\n",
            "\n",
            "I have a hamster.\n",
            "My hamster's name is Harry.\n"
          ]
        }
      ]
    },
    {
      "cell_type": "code",
      "source": [
        "def get_formatted_name(first_name, last_name):\n",
        "    full_name = first_name + ' ' + last_name\n",
        "    return full_name.title()\n",
        "\n",
        "musician = get_formatted_name('neha', 'singh')\n",
        "print(musician)"
      ],
      "metadata": {
        "colab": {
          "base_uri": "https://localhost:8080/"
        },
        "id": "PIdjUDNnnZ9Z",
        "outputId": "e3d525ae-7c1e-4699-8cae-4c44bb5b35c2"
      },
      "execution_count": null,
      "outputs": [
        {
          "output_type": "stream",
          "name": "stdout",
          "text": [
            "Neha Singh\n"
          ]
        }
      ]
    },
    {
      "cell_type": "code",
      "source": [
        "def get_formatted_name(first_name, last_name, middle_name=''):\n",
        "  #Return a full name, neatly formatted\n",
        "  if middle_name:\n",
        "    full_name = first_name + ' ' + middle_name + ' ' + last_name\n",
        "  else:\n",
        "    full_name = first_name + ' ' + last_name\n",
        "  return full_name.title()\n",
        "\n",
        "musician = get_formatted_name('jimi', 'hendrix')\n",
        "print(musician)\n",
        "musician = get_formatted_name('john', 'hooker', 'lee')\n",
        "print(musician)"
      ],
      "metadata": {
        "colab": {
          "base_uri": "https://localhost:8080/"
        },
        "id": "hs2VeZM1oK1w",
        "outputId": "737d48e4-c75a-488a-a38f-213112ec9032"
      },
      "execution_count": null,
      "outputs": [
        {
          "output_type": "stream",
          "name": "stdout",
          "text": [
            "Jimi Hendrix\n",
            "John Lee Hooker\n"
          ]
        }
      ]
    },
    {
      "cell_type": "markdown",
      "source": [
        "#  Returning a Dictionary\n",
        "A function can return any kind of value you need it to, including more com\n",
        "plicated data structures like lists and dictionaries. For example, the follow\n",
        "ing function takes in parts of a name and returns a dictionary representing\n",
        "a person:"
      ],
      "metadata": {
        "id": "Quq07wRMpQJI"
      }
    },
    {
      "cell_type": "code",
      "source": [
        "def build_person(first_name, last_name):\n",
        "    person = {'first': first_name, 'last': last_name}\n",
        "    return person\n",
        "musician = build_person('jimi', 'hendrix')\n",
        "print(musician)"
      ],
      "metadata": {
        "colab": {
          "base_uri": "https://localhost:8080/"
        },
        "id": "sgxIPkaepIlw",
        "outputId": "5e327e40-6af3-4fc1-9b18-d4d3d57cef01"
      },
      "execution_count": null,
      "outputs": [
        {
          "output_type": "stream",
          "name": "stdout",
          "text": [
            "{'first': 'jimi', 'last': 'hendrix'}\n"
          ]
        }
      ]
    },
    {
      "cell_type": "code",
      "source": [
        "#Return a dictionary of information about a person.\n",
        "\n",
        "def build_person(first_name, last_name, age=''):\n",
        " person = {'first': first_name, 'last': last_name}\n",
        " if age:\n",
        "    person['age'] = age\n",
        " return person\n",
        "musician = build_person('jimi', 'hendrix', age=27)\n",
        "print(musician)"
      ],
      "metadata": {
        "colab": {
          "base_uri": "https://localhost:8080/"
        },
        "id": "Q_Dix4w6pZww",
        "outputId": "2474af3f-d59c-4329-fd6f-b9058f0047ea"
      },
      "execution_count": null,
      "outputs": [
        {
          "output_type": "stream",
          "name": "stdout",
          "text": [
            "{'first': 'jimi', 'last': 'hendrix', 'age': 27}\n"
          ]
        }
      ]
    },
    {
      "cell_type": "markdown",
      "source": [
        "# CAUTION\n",
        "The code below is an **infinite loop!**"
      ],
      "metadata": {
        "id": "m2bvJ3w0p7cI"
      }
    },
    {
      "cell_type": "code",
      "source": [
        "#Return a full name, neatly formatted using while loop\n",
        "\n",
        "def get_formatted_name(first_name, last_name):\n",
        "    full_name = first_name + ' ' + last_name\n",
        "    return full_name.title()\n",
        "# This is an infinite loop! (ctrl + c)\n",
        "while True:\n",
        " print(\"\\nPlease tell me your name:\")\n",
        " f_name = input(\"First name: \")\n",
        " l_name = input(\"Last name: \")\n",
        "\n",
        " formatted_name = get_formatted_name(f_name, l_name)\n",
        " print(\"\\nHello, \" + formatted_name + \"!\")"
      ],
      "metadata": {
        "id": "iUWP_NIFpvKg"
      },
      "execution_count": null,
      "outputs": []
    },
    {
      "cell_type": "code",
      "source": [
        "#Return a full name, neatly formatted.\n",
        "\n",
        "def get_formatted_name(first_name, last_name):\n",
        "    full_name = first_name + ' ' + last_name\n",
        "    return full_name.title()\n",
        "while True:\n",
        "    print(\"\\nPlease tell me your name:\")\n",
        "    print(\"(enter 'q' at any time to quit)\")\n",
        "\n",
        "    f_name = input(\"First name: \")\n",
        "    if f_name == 'q':\n",
        "        break\n",
        "\n",
        "    l_name = input(\"Last name: \")\n",
        "    if l_name == 'q':\n",
        "        break\n",
        "\n",
        "    formatted_name = get_formatted_name(f_name, l_name)\n",
        "    print(\"\\nHello, \" + formatted_name + \"!\")"
      ],
      "metadata": {
        "colab": {
          "base_uri": "https://localhost:8080/"
        },
        "id": "1xwCVfzkp2iA",
        "outputId": "5df9153b-e14a-4652-94dc-174fff5236d6"
      },
      "execution_count": null,
      "outputs": [
        {
          "name": "stdout",
          "output_type": "stream",
          "text": [
            "\n",
            "Please tell me your name:\n",
            "(enter 'q' at any time to quit)\n",
            "First name: amy\n",
            "Last name: lee\n",
            "\n",
            "Hello, Amy Lee!\n",
            "\n",
            "Please tell me your name:\n",
            "(enter 'q' at any time to quit)\n",
            "First name: q\n"
          ]
        }
      ]
    },
    {
      "cell_type": "markdown",
      "source": [
        "# Passing a list to a function"
      ],
      "metadata": {
        "id": "edOElpNCsf7_"
      }
    },
    {
      "cell_type": "code",
      "source": [
        " #Print a simple greeting to each user in the list.\n",
        " def greet_users(names):\n",
        "\n",
        "    for name in names:\n",
        "        msg = \"Hello, \" + name.title() + \"!\"\n",
        "        print(msg)\n",
        "usernames = ['eirfan', 'vishnu', 'matthew']\n",
        "greet_users(usernames)"
      ],
      "metadata": {
        "colab": {
          "base_uri": "https://localhost:8080/"
        },
        "id": "h5ly9q9RsA-f",
        "outputId": "b047696c-ac41-46f0-9752-9f8ecd54194e"
      },
      "execution_count": null,
      "outputs": [
        {
          "output_type": "stream",
          "name": "stdout",
          "text": [
            "Hello, Eirfan!\n",
            "Hello, Vishnu!\n",
            "Hello, Matthew!\n"
          ]
        }
      ]
    },
    {
      "cell_type": "markdown",
      "source": [
        "#Modifying a List in a Function"
      ],
      "metadata": {
        "id": "voaQutuIstJ_"
      }
    },
    {
      "cell_type": "code",
      "source": [
        "# Start with some designs that need to be printed.\n",
        "unprinted_designs = ['iphone case', 'robot pendant', 'dodecahedron']\n",
        "completed_models = []\n",
        "\n",
        "# Simulate printing each design, until none are left.\n",
        "# Move each design to completed_models after printing.\n",
        "while unprinted_designs:\n",
        " current_design = unprinted_designs.pop()\n",
        "  # Simulate creating a 3D print from the design.\n",
        " print(\"Printing model: \" + current_design)\n",
        " completed_models.append(current_design)\n",
        "\n",
        "# Display all completed models.\n",
        "print(\"\\nThe following models have been printed:\")\n",
        "for completed_model in completed_models:\n",
        " print(completed_model)"
      ],
      "metadata": {
        "colab": {
          "base_uri": "https://localhost:8080/"
        },
        "id": "6fN9xBX6sQKH",
        "outputId": "f89f3cdb-6c4b-4b7b-c37b-faec6658c764"
      },
      "execution_count": null,
      "outputs": [
        {
          "output_type": "stream",
          "name": "stdout",
          "text": [
            "Printing model: dodecahedron\n",
            "Printing model: robot pendant\n",
            "Printing model: iphone case\n",
            "\n",
            "The following models have been printed:\n",
            "dodecahedron\n",
            "robot pendant\n",
            "iphone case\n"
          ]
        }
      ]
    },
    {
      "cell_type": "code",
      "source": [
        "def print_models(unprinted_designs, completed_models):\n",
        "\n",
        " #Simulate printing each design, until none are left.\n",
        " #Move each design to completed_models after printing.\n",
        "\n",
        " while unprinted_designs:\n",
        "    current_design = unprinted_designs.pop()\n",
        "\n",
        " # Simulate creating a 3D print from the design.\n",
        "    print(\"Printing model: \" + current_design)\n",
        "    completed_models.append(current_design)\n",
        "\n",
        "def show_completed_models(completed_models):\n",
        " #Show all the models that were printed.\n",
        "    print(\"\\nThe following models have been printed:\")\n",
        "    for completed_model in completed_models:\n",
        "        print(completed_model)\n",
        "\n",
        "unprinted_designs = ['iphone case', 'robot pendant', 'dodecahedron']\n",
        "completed_models = []\n",
        "print_models(unprinted_designs, completed_models)\n",
        "show_completed_models(completed_models)\n",
        "\n",
        "print(\"\\nThe original list is empty :\")\n",
        "print(unprinted_designs)\n",
        "\n"
      ],
      "metadata": {
        "colab": {
          "base_uri": "https://localhost:8080/"
        },
        "id": "rMRxKOpIs27u",
        "outputId": "3cd10111-5044-4919-d28f-1e43d57c4a24"
      },
      "execution_count": null,
      "outputs": [
        {
          "output_type": "stream",
          "name": "stdout",
          "text": [
            "Printing model: dodecahedron\n",
            "Printing model: robot pendant\n",
            "Printing model: iphone case\n",
            "\n",
            "The following models have been printed:\n",
            "dodecahedron\n",
            "robot pendant\n",
            "iphone case\n",
            "\n",
            "The original list is empty :\n",
            "[]\n"
          ]
        }
      ]
    },
    {
      "cell_type": "markdown",
      "source": [
        "# Preventing a Function from Modifying a List\n",
        "\n",
        "function_name(list_name[:])  The slice notation [:] makes a copy of the list to send to the function."
      ],
      "metadata": {
        "id": "Qj-EIogbu6M-"
      }
    },
    {
      "cell_type": "code",
      "source": [
        "def print_models(unprinted_designs, completed_models):\n",
        "\n",
        " #Simulate printing each design, until none are left.\n",
        " #Move each design to completed_models after printing.\n",
        "\n",
        " while unprinted_designs:\n",
        "    current_design = unprinted_designs.pop()\n",
        "\n",
        " # Simulate creating a 3D print from the design.\n",
        "    print(\"Printing model: \" + current_design)\n",
        "    completed_models.append(current_design)\n",
        "\n",
        "def show_completed_models(completed_models):\n",
        " #Show all the models that were printed.\n",
        "    print(\"\\nThe following models have been printed:\")\n",
        "    for completed_model in completed_models:\n",
        "        print(completed_model)\n",
        "\n",
        "unprinted_designs = ['iphone case', 'robot pendant', 'dodecahedron']\n",
        "completed_models = []\n",
        "#use a copy of the list\n",
        "print_models(unprinted_designs[:], completed_models)\n",
        "show_completed_models(completed_models)\n",
        "\n",
        "print(\"\\nThe original list is not changed:\")\n",
        "print(unprinted_designs)\n"
      ],
      "metadata": {
        "colab": {
          "base_uri": "https://localhost:8080/"
        },
        "id": "Oc2wd1YguaVW",
        "outputId": "8a3013c6-e350-4482-8446-fb4e73438558"
      },
      "execution_count": null,
      "outputs": [
        {
          "output_type": "stream",
          "name": "stdout",
          "text": [
            "Printing model: dodecahedron\n",
            "Printing model: robot pendant\n",
            "Printing model: iphone case\n",
            "\n",
            "The following models have been printed:\n",
            "dodecahedron\n",
            "robot pendant\n",
            "iphone case\n",
            "\n",
            "The original list is not changed:\n",
            "['iphone case', 'robot pendant', 'dodecahedron']\n"
          ]
        }
      ]
    },
    {
      "cell_type": "markdown",
      "source": [
        "# Passing an arbitrary number of arguments\n",
        "\n",
        "Sometimes you won’t know ahead of time how many arguments a function\n",
        "needs to accept. Fortunately, Python allows a function to collect an arbitrary number of arguments from the calling statement."
      ],
      "metadata": {
        "id": "9b5AbmW5wgp2"
      }
    },
    {
      "cell_type": "code",
      "source": [
        "def make_pizza(*toppings):# *empty tuple called toppings\n",
        " #Summarize the pizza we are about to make.\"\"\"\n",
        "    print(\"\\nMaking a pizza with the following toppings:\")\n",
        "    for topping in toppings:\n",
        "        print(\"- \" + topping)\n",
        "\n",
        "make_pizza('pepperoni')\n",
        "make_pizza('mushrooms', 'green peppers', 'extra cheese')"
      ],
      "metadata": {
        "colab": {
          "base_uri": "https://localhost:8080/"
        },
        "id": "FvxMivJFwmsm",
        "outputId": "187146ae-697a-41d9-b63d-29825885856e"
      },
      "execution_count": null,
      "outputs": [
        {
          "output_type": "stream",
          "name": "stdout",
          "text": [
            "\n",
            "Making a pizza with the following toppings:\n",
            "- pepperoni\n",
            "\n",
            "Making a pizza with the following toppings:\n",
            "- mushrooms\n",
            "- green peppers\n",
            "- extra cheese\n"
          ]
        }
      ]
    },
    {
      "cell_type": "markdown",
      "source": [
        "# Mixing Positional and Arbitrary Arguments\n",
        "\n",
        "If you want a function to accept several different kinds of arguments, the\n",
        "parameter that accepts an arbitrary number of arguments must be placed\n",
        "last in the function definition. Python matches positional and keyword\n",
        "arguments first and then collects any remaining arguments in the final\n",
        "parameter.\n",
        " For example, if the function needs to take in a size for the pizza, that\n",
        "parameter must come before the parameter *toppings:"
      ],
      "metadata": {
        "id": "WLBmMefe9y_2"
      }
    },
    {
      "cell_type": "code",
      "source": [
        "def make_pizza(size,*toppings):\n",
        " #Summarize the pizza we are about to make.\"\"\"\n",
        "    print(\"\\nMaking a \" + str(size) +\n",
        "          \"-inch pizza with the following toppings:\")\n",
        "    for topping in toppings:\n",
        "        print(\"- \" + topping)\n",
        "\n",
        "make_pizza(15,'pepperoni')\n",
        "make_pizza(11,'mushrooms', 'green peppers', 'extra cheese')"
      ],
      "metadata": {
        "colab": {
          "base_uri": "https://localhost:8080/"
        },
        "id": "ImNHUP4a97v-",
        "outputId": "3e42c1ae-7dc2-45c0-d636-a32a2bef2383"
      },
      "execution_count": 1,
      "outputs": [
        {
          "output_type": "stream",
          "name": "stdout",
          "text": [
            "\n",
            "Making a 15-inch pizza with the following toppings:\n",
            "- pepperoni\n",
            "\n",
            "Making a 11-inch pizza with the following toppings:\n",
            "- mushrooms\n",
            "- green peppers\n",
            "- extra cheese\n"
          ]
        }
      ]
    },
    {
      "cell_type": "markdown",
      "source": [
        "# Using Arbitrary Keyword Arguments\n",
        "\n",
        "Sometimes you’ll want to accept an arbitrary number of arguments, but you\n",
        "won’t know ahead of time what kind of information will be passed to the\n",
        "function. In this case, you can write functions that accept as many key-value\n",
        "pairs as the calling statement provides."
      ],
      "metadata": {
        "id": "dXoF5RS9-kan"
      }
    },
    {
      "cell_type": "code",
      "source": [
        "#Function Definition\n",
        "def build_profile(first, last, **user_info):\n",
        "  \"Build a dictionary containing all the user's info\"\n",
        "\n",
        "#Initializing the profile Dictionary\n",
        "  profile = {}\n",
        "  profile['first_name'] = first\n",
        "  profile['last_name'] = last\n",
        "  for key, value in user_info.items():\n",
        "    profile[key] = value\n",
        "  return profile\n",
        "\n",
        "user_profile = build_profile('albert', 'einstein',\n",
        "                            location= 'princeton',\n",
        "                            field= 'physics')\n",
        "print(user_profile)"
      ],
      "metadata": {
        "colab": {
          "base_uri": "https://localhost:8080/"
        },
        "id": "CfNliVmx-qzu",
        "outputId": "f84253c8-1de3-4929-8a36-1a53e4720c4d"
      },
      "execution_count": 9,
      "outputs": [
        {
          "output_type": "stream",
          "name": "stdout",
          "text": [
            "{'first_name': 'albert', 'last_name': 'einstein', 'location': 'princeton', 'field': 'physics'}\n"
          ]
        }
      ]
    }
  ]
}