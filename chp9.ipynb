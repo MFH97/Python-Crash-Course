{
  "nbformat": 4,
  "nbformat_minor": 0,
  "metadata": {
    "colab": {
      "provenance": [],
      "authorship_tag": "ABX9TyMLLYFLfwLN8lmBK4NZkgfY",
      "include_colab_link": true
    },
    "kernelspec": {
      "name": "python3",
      "display_name": "Python 3"
    },
    "language_info": {
      "name": "python"
    }
  },
  "cells": [
    {
      "cell_type": "markdown",
      "metadata": {
        "id": "view-in-github",
        "colab_type": "text"
      },
      "source": [
        "<a href=\"https://colab.research.google.com/github/MFH97/Python-Crash-Course/blob/main/chp9.ipynb\" target=\"_parent\"><img src=\"https://colab.research.google.com/assets/colab-badge.svg\" alt=\"Open In Colab\"/></a>"
      ]
    },
    {
      "cell_type": "markdown",
      "source": [
        "# Classes\n",
        "\n",
        "In object-oriented programming you\n",
        "write classes that represent real-world things and situations, and you create objects based on these classes. When you write a class, you define the general behavior that a whole category of objects can have."
      ],
      "metadata": {
        "id": "aObuUbBc5jjM"
      }
    },
    {
      "cell_type": "code",
      "execution_count": 2,
      "metadata": {
        "colab": {
          "base_uri": "https://localhost:8080/"
        },
        "id": "VF4R5D0s4IbS",
        "outputId": "329ec170-7314-4eba-d5eb-ef881f975c91"
      },
      "outputs": [
        {
          "output_type": "stream",
          "name": "stdout",
          "text": [
            "My dog's name is Willie.\n",
            "My dog is 6 years old.\n",
            "Willie is now sitting.\n",
            "\n",
            "Your dog's name is Lucy.\n",
            "Your dog is 3 years old.\n",
            "Lucy is now sitting.\n"
          ]
        }
      ],
      "source": [
        "class Dog:\n",
        "  \"\"\"A simple attempt to model a dog.\"\"\"\n",
        "  def __init__(self, name, age):\n",
        "        self.name = name\n",
        "        self.age = age\n",
        "  def sit(self):\n",
        "        \"\"\"Simulate a dog sitting in response to a command.\"\"\"\n",
        "        print(self.name.title() + \" is now sitting.\")\n",
        "\n",
        "  def roll_over(self):\n",
        "        \"\"\"Simulate rolling over in response to a command.\"\"\"\n",
        "        print(self.name.title() + \" rolled over!\")\n",
        "\n",
        "# Create instances of the Dog class\n",
        "my_dog = Dog('Willie', 6)\n",
        "your_dog = Dog('lucy', 3)\n",
        "\n",
        "print(\"My dog's name is \" + my_dog.name.title() + \".\")\n",
        "print(\"My dog is \" + str(my_dog.age) + \" years old.\")\n",
        "my_dog.sit() #call the instance\n",
        "\n",
        "print(\"\\nYour dog's name is \" + your_dog.name.title() + \".\")\n",
        "print(\"Your dog is \" + str(your_dog.age) + \" years old.\")\n",
        "your_dog.sit()\n"
      ]
    },
    {
      "cell_type": "markdown",
      "source": [
        "# __init__() Method\n",
        "\n",
        " A function that’s part of a class is a method. Everything you learned about\n",
        "functions applies to methods as well; the only practical difference for now is\n",
        "the way we’ll call methods. The __init__() method is a special method\n",
        "Python runs automatically whenever we create a new instance based on the\n",
        "Dog class. This method has two leading underscores and two trailing under\n",
        "scores, a convention that helps prevent Python’s default method names\n",
        "from conflicting with your method names.\n",
        "\n",
        " We define the __init__() method to have three parameters: self, name,\n",
        "and age. The self parameter is required in the method definition, and it\n",
        "must come first before the other parameters. It must be included in the def\n",
        "inition because when Python calls this __init__() method later (to create an\n",
        "instance of Dog), the method call will automatically pass the self argument.\n",
        "Every method call associated with a class automatically passes self, which\n",
        "is a reference to the instance itself; it gives the individual instance access to the attributes and methods in the class. When we make an instance of Dog,\n",
        "Python will call the __init__() method from the Dog class. We’ll pass Dog()\n",
        "a name and an age as arguments; self is passed automatically, so we don’t\n",
        "need to pass it. Whenever we want to make an instance from the Dog class,\n",
        "we’ll provide values for only the last two parameters, name and age."
      ],
      "metadata": {
        "id": "L1f9HzRb6om7"
      }
    },
    {
      "cell_type": "markdown",
      "source": [],
      "metadata": {
        "id": "X09gxoQ18o6i"
      }
    },
    {
      "cell_type": "code",
      "source": [
        "class car():\n",
        "    def __init__(self, make, model, year):\n",
        "        self.make = make\n",
        "        self.model = model\n",
        "        self.year = year\n",
        "        self.odometer_reading = 0 #setting a default value\n",
        "\n",
        "    def get_descriptive_name(self):\n",
        "        #Return a neatly formatted descriptive basestring\n",
        "        long_name = str(self.year) + ' ' + self.make + ' ' + self.model\n",
        "        return long_name.title()\n",
        "\n",
        "    def read_odometer(self):\n",
        "      #print the car's mileage\n",
        "      print(\"This car has \" + str(self.odometer_reading) + \" miles on it.\")\n",
        "\n",
        "my_new_car = car('audi','a3', '2018')\n",
        "print(\"My car is a \" + my_new_car.get_descriptive_name())\n",
        "my_new_car.read_odometer()\n"
      ],
      "metadata": {
        "colab": {
          "base_uri": "https://localhost:8080/"
        },
        "id": "tFiqABrv4lD7",
        "outputId": "800d7b6d-ae3f-4262-99e1-9cc85f9a0021"
      },
      "execution_count": 10,
      "outputs": [
        {
          "output_type": "stream",
          "name": "stdout",
          "text": [
            "My car is a 2018 Audi A3\n",
            "This car has 0 miles on it.\n"
          ]
        }
      ]
    },
    {
      "cell_type": "code",
      "source": [
        "#Modifying an attribute’s Value Directly\n",
        "\n",
        "class car():\n",
        "    def __init__(self, make, model, year):\n",
        "        self.make = make\n",
        "        self.model = model\n",
        "        self.year = year\n",
        "        self.odometer_reading = 0\n",
        "\n",
        "    def get_descriptive_name(self):\n",
        "        #Return a neatly formatted descriptive basestring\n",
        "        long_name = str(self.year) + ' ' + self.make + ' ' + self.model\n",
        "        return long_name.title()\n",
        "\n",
        "    def read_odometer(self):\n",
        "    #print the car's mileage\n",
        "        print(\"This car has \" + str(self.odometer_reading) + \" miles on it.\")\n",
        "\n",
        "    def update_odometer(self,mileage):\n",
        "        #set the odometer reading to the given value\n",
        "        self.odometer_reading = mileage\n",
        "\n",
        "my_new_car = car('audi','a3', '2018')\n",
        "print(my_new_car.get_descriptive_name())\n",
        "my_new_car.read_odometer()\n",
        "\n",
        "#Updating directly\n",
        "my_new_car.odometer_reading = 23\n",
        "my_new_car.read_odometer()\n",
        "\n"
      ],
      "metadata": {
        "colab": {
          "base_uri": "https://localhost:8080/"
        },
        "id": "GNeeO2ft4qBD",
        "outputId": "8ef91901-688e-4450-d5a9-48826cd5922e"
      },
      "execution_count": 11,
      "outputs": [
        {
          "output_type": "stream",
          "name": "stdout",
          "text": [
            "2018 Audi A3\n",
            "This car has 0 miles on it.\n",
            "This car has 23 miles on it.\n"
          ]
        }
      ]
    },
    {
      "cell_type": "code",
      "source": [
        "# Modifying an attribute’s Value through a Method\n",
        "\n",
        "class car():\n",
        "    def __init__(self, make, model, year):\n",
        "        self.make = make\n",
        "        self.model = model\n",
        "        self.year = year\n",
        "        self.odometer_reading = 0\n",
        "\n",
        "    def get_descriptive_name(self):\n",
        "        #Return a neatly formatted descriptive basestring\n",
        "        long_name = str(self.year) + ' ' + self.make + ' ' + self.model\n",
        "        return long_name.title()\n",
        "\n",
        "    def read_odometer(self):\n",
        "    #print the car's mileage\n",
        "        print(\"This car has \" + str(self.odometer_reading) + \" miles on it.\")\n",
        "\n",
        "    def update_odometer(self,mileage):\n",
        "        #set the odometer reading to the given value\n",
        "        self.odometer_reading = mileage\n",
        "\n",
        "    def increment_odometer(self, miles):\n",
        "        \"\"\"Add the given amount to the odometer reading.\"\"\"\n",
        "        self.odometer_reading += miles\n",
        "\n",
        "\n",
        "my_used_car = car('subaru', 'outback', 2013)\n",
        "print(my_used_car.get_descriptive_name())\n",
        "my_used_car.read_odometer()#before modifying\n",
        "\n",
        "#Modifyed attribute’s Value\n",
        "my_used_car.update_odometer(23500)\n",
        "my_used_car.read_odometer()\n",
        "my_used_car.increment_odometer(100)\n",
        "my_used_car.read_odometer()\n"
      ],
      "metadata": {
        "colab": {
          "base_uri": "https://localhost:8080/"
        },
        "id": "9BjeW4EH4zxz",
        "outputId": "509d741e-1694-4f31-cf25-071db3c0c5d9"
      },
      "execution_count": 16,
      "outputs": [
        {
          "output_type": "stream",
          "name": "stdout",
          "text": [
            "2013 Subaru Outback\n",
            "This car has 0 miles on it.\n",
            "This car has 23500 miles on it.\n",
            "This car has 23600 miles on it.\n"
          ]
        }
      ]
    },
    {
      "cell_type": "markdown",
      "source": [
        "# Inheritance\n",
        "\n",
        "When one class inherits from another, it automatically takes on all the attributes and methods of the first class. The original class is\n",
        "called the parent class, and the new class is the child class. The child class inherits every attribute and method from its parent class but is also free to define new attributes and methods of its own."
      ],
      "metadata": {
        "id": "P4HIVrmPBCJa"
      }
    },
    {
      "cell_type": "code",
      "source": [
        "#Parent class\n",
        "class car():\n",
        "    def __init__(self, make, model, year):\n",
        "        self.make = make\n",
        "        self.model = model\n",
        "        self.year = year\n",
        "        self.odometer_reading = 0\n",
        "\n",
        "    def get_descriptive_name(self):\n",
        "        #Return a neatly formatted descriptive basestring\n",
        "        long_name = str(self.year) + ' ' + self.make + ' ' + self.model\n",
        "        return long_name.title()\n",
        "\n",
        "    def read_odometer(self):\n",
        "    #print the car's mileage\n",
        "        print(\"This car has \" + str(self.odometer_reading) + \" miles on it.\")\n",
        "\n",
        "    def update_odometer(self,mileage):\n",
        "        #set the odometer reading to the given value\n",
        "        self.odometer_reading = mileage\n",
        "\n",
        "    def increment_odometer(self, miles):\n",
        "        \"\"\"Add the given amount to the odometer reading.\"\"\"\n",
        "        self.odometer_reading += miles\n",
        "\n",
        "#Child class\n",
        "class ElectricCar(car):\n",
        "    \"\"\"Represent aspects of a car, specific to electric vehicles.\"\"\"\n",
        "    def __init__(self, make, model, year):\n",
        "        \"\"\"\n",
        "        1)Initialize attributes of the parent class.\n",
        "        2)Then initialize attributes specific to an electric car.\n",
        "        \"\"\"\n",
        "        super().__init__(make, model, year)#1\n",
        "        self.battery_size = 70 #2\n",
        "\n",
        "    def describe_battery(self):\n",
        "        \"\"\"Print a statement describing the battery size.\"\"\"\n",
        "        print(\"This car has a \" + str(self.battery_size) + \"-kWh battery.\")\n",
        "\n",
        "my_tesla = ElectricCar('tesla', 'model s', 2016)\n",
        "print(my_tesla.get_descriptive_name())\n",
        "my_tesla.describe_battery()\n"
      ],
      "metadata": {
        "colab": {
          "base_uri": "https://localhost:8080/"
        },
        "id": "5AahSEHg46ZL",
        "outputId": "c9a643e1-126d-44c7-831c-2d4ef98a146a"
      },
      "execution_count": 17,
      "outputs": [
        {
          "output_type": "stream",
          "name": "stdout",
          "text": [
            "2016 Tesla Model S\n",
            "This car has a 70-kWh battery.\n"
          ]
        }
      ]
    },
    {
      "cell_type": "markdown",
      "source": [
        "#Overriding Methods from the Parent Class\n",
        "\n",
        "You can override any method from the parent class that doesn’t fit what\n",
        "you’re trying to model with the child class. To do this, you define a method\n",
        "in the child class with the same name as the method you want to override\n",
        "in the parent class. Python will disregard the parent class method and only pay attention to the method you define in the child class.\n",
        "\n",
        "Say the class Car had a method called fill_gas_tank(). This method is\n",
        "meaningless for an all-electric vehicle, so you might want to override this\n",
        "method. Here’s one way to do that:"
      ],
      "metadata": {
        "id": "WCDzb5wtCePB"
      }
    },
    {
      "cell_type": "code",
      "source": [
        "#Overriding Methods from the Parent Class\n",
        "\n",
        "class Car:\n",
        "    def __init__(self, make, model, year):\n",
        "        self.make = make\n",
        "        self.model = model\n",
        "        self.year = year\n",
        "        self.odometer_reading = 0\n",
        "\n",
        "    def get_descriptive_name(self):\n",
        "        long_name =\"\\n\" + str(self.year) + ' ' + self.make + ' ' + self.model\n",
        "        return long_name.title()\n",
        "\n",
        "    def read_odometer(self):\n",
        "        print(\"This car has \" + str(self.odometer_reading) + \" miles on it.\")\n",
        "\n",
        "    def update_odometer(self, mileage):\n",
        "        if mileage >= self.odometer_reading:\n",
        "            self.odometer_reading = mileage\n",
        "        else:\n",
        "            print(\"You can't roll back the odometer!\")\n",
        "\n",
        "    def increment_odometer(self, miles):\n",
        "        self.odometer_reading += miles\n",
        "\n",
        "    def fill_gas_tank(self):\n",
        "        print(\"This car has a gas tank.\")\n",
        "\n",
        "class ElectricCar(Car):\n",
        "    def __init__(self, make, model, year):\n",
        "        super().__init__(make, model, year)\n",
        "        self.battery_size = 70\n",
        "\n",
        "    def describe_battery(self):\n",
        "        print(\"This car has a \" + str(self.battery_size) + \"-kWh battery.\")\n",
        "\n",
        "    def fill_gas_tank(self):\n",
        "        print(\"This car doesn't need a gas tank!\")\n",
        "\n",
        "my_used_car = Car('subaru', 'outback', 2013)\n",
        "print(my_used_car.get_descriptive_name())\n",
        "my_used_car.fill_gas_tank()\n",
        "\n",
        "my_tesla = ElectricCar('tesla', 'model s', 2016)\n",
        "print(my_tesla.get_descriptive_name())\n",
        "my_tesla.fill_gas_tank()\n",
        "my_tesla.describe_battery()\n",
        "\n"
      ],
      "metadata": {
        "colab": {
          "base_uri": "https://localhost:8080/"
        },
        "id": "J9jBURuo5AeU",
        "outputId": "fa08ba35-2716-4dd9-9eb7-fd8c42ddbe2a"
      },
      "execution_count": 23,
      "outputs": [
        {
          "output_type": "stream",
          "name": "stdout",
          "text": [
            "\n",
            "2013 Subaru Outback\n",
            "This car has a gas tank.\n",
            "\n",
            "2016 Tesla Model S\n",
            "This car doesn't need a gas tank!\n",
            "This car has a 70-kWh battery.\n"
          ]
        }
      ]
    },
    {
      "cell_type": "code",
      "source": [
        "class Car:\n",
        "    def __init__(self, make, model, year):\n",
        "        self.make = make\n",
        "        self.model = model\n",
        "        self.year = year\n",
        "        self.odometer_reading = 0\n",
        "\n",
        "    def get_descriptive_name(self):\n",
        "        long_name = str(self.year) + ' ' + self.make + ' ' + self.model\n",
        "        return long_name.title()\n",
        "\n",
        "    def read_odometer(self):\n",
        "        print(\"This car has \" + str(self.odometer_reading) + \" miles on it.\")\n",
        "\n",
        "    def update_odometer(self, mileage):\n",
        "        if mileage >= self.odometer_reading:\n",
        "            self.odometer_reading = mileage\n",
        "        else:\n",
        "            print(\"You can't roll back the odometer!\")\n",
        "\n",
        "    def increment_odometer(self, miles):\n",
        "        self.odometer_reading += miles\n",
        "\n",
        "    def fill_gas_tank(self):\n",
        "        print(\"This car has a gas tank.\")\n",
        "\n",
        "class Battery:\n",
        "    def __init__(self, battery_size=70):\n",
        "        self.battery_size = battery_size\n",
        "\n",
        "    def describe_battery(self):\n",
        "        print(\"This car has a \" + str(self.battery_size) + \"-kWh battery.\")\n",
        "\n",
        "    def get_range(self):\n",
        "        \"\"\"Print a statement about the range this battery provides.\"\"\"\n",
        "        if self.battery_size == 70:\n",
        "            range = 240\n",
        "        elif self.battery_size == 85:\n",
        "            range = 270\n",
        "\n",
        "        message = \"This car can go approximately \" + str(range)\n",
        "        message += \" miles on a full charge.\"\n",
        "        print(message)\n",
        "\n",
        "class ElectricCar(Car):\n",
        "    def __init__(self, make, model, year):\n",
        "        super().__init__(make, model, year)\n",
        "        self.battery = Battery()\n",
        "\n",
        "    def fill_gas_tank(self):\n",
        "        print(\"This car doesn't need a gas tank!\")\n",
        "\n",
        "my_tesla = ElectricCar('tesla', 'model s', 2016)\n",
        "print(my_tesla.get_descriptive_name())\n",
        "my_tesla.battery.describe_battery()\n",
        "my_tesla.battery.get_range()\n",
        "\n"
      ],
      "metadata": {
        "colab": {
          "base_uri": "https://localhost:8080/"
        },
        "id": "bJ90AfIV5Err",
        "outputId": "9ebd1eb9-7417-43a6-9a3e-4c18fc766562"
      },
      "execution_count": 24,
      "outputs": [
        {
          "output_type": "stream",
          "name": "stdout",
          "text": [
            "2016 Tesla Model S\n",
            "This car has a 70-kWh battery.\n",
            "This car can go approximately 240 miles on a full charge.\n"
          ]
        }
      ]
    },
    {
      "cell_type": "markdown",
      "source": [
        "# Exercise"
      ],
      "metadata": {
        "id": "VGPkeK5k5OZM"
      }
    },
    {
      "cell_type": "code",
      "source": [
        "class Restaurant:\n",
        "    def __init__(self, restaurant_name, cuisine_type):\n",
        "        self.restaurant_name = restaurant_name\n",
        "        self.cuisine_type = cuisine_type\n",
        "\n",
        "    def describe_restaurant(self):\n",
        "        print(\"Restaurant Name: \" + self.restaurant_name)\n",
        "        print(\"Cuisine Type: \" + self.cuisine_type)\n",
        "\n",
        "    def open_restaurant(self):\n",
        "        print(f\"The restaurant '{self.restaurant_name}' is open.\")\n",
        "\n",
        "# Create an instance of the Restaurant class\n",
        "restaurant = Restaurant(\"Great Bites\", \"Italian\")\n",
        "restaurant2 = Restaurant(\"Mr Prata\", \"Indian\")\n",
        "\n",
        "\n",
        "# Call both methods\n",
        "restaurant.describe_restaurant()\n",
        "restaurant.open_restaurant()\n",
        "print()\n",
        "restaurant2.describe_restaurant()\n",
        "restaurant2.open_restaurant()\n"
      ],
      "metadata": {
        "colab": {
          "base_uri": "https://localhost:8080/"
        },
        "id": "Lnk21vMp5QTb",
        "outputId": "128cd58d-3daf-4cf7-d26f-ffe375a285e3"
      },
      "execution_count": 28,
      "outputs": [
        {
          "output_type": "stream",
          "name": "stdout",
          "text": [
            "Restaurant Name: Great Bites\n",
            "Cuisine Type: Italian\n",
            "The restaurant 'Great Bites' is open.\n",
            "\n",
            "Restaurant Name: Mr Prata\n",
            "Cuisine Type: Indian\n",
            "The restaurant 'Mr Prata' is open.\n"
          ]
        }
      ]
    },
    {
      "cell_type": "code",
      "source": [
        "class User:\n",
        "\n",
        "    def __init__(self,fname,lname,age):\n",
        "        self.fname = fname\n",
        "        self.lname = lname\n",
        "        self.age = age\n",
        "\n",
        "    def describe_user(self):\n",
        "        print(\"User name is: \" + self.fname + \" \" + self.lname)\n",
        "        print(\"User age is: \" + str(self.age))\n",
        "\n",
        "    def greet_user(self):\n",
        "        print(\"Welcome \" + self.lname + \"!\")\n",
        "\n",
        "# Create an instance of the User class\n",
        "user = User(\"Mark\", \"Anthony\", 33)\n",
        "user1 = User(\"Lee\", \"Cooper\", 13)\n",
        "\n",
        "user.describe_user()\n",
        "user.greet_user()\n",
        "print()\n",
        "user1.describe_user()\n",
        "user1.greet_user()"
      ],
      "metadata": {
        "colab": {
          "base_uri": "https://localhost:8080/"
        },
        "id": "1vc-kB6x5Vib",
        "outputId": "f9a7ae94-4294-44d5-f150-9c7a9ea04fd5"
      },
      "execution_count": 29,
      "outputs": [
        {
          "output_type": "stream",
          "name": "stdout",
          "text": [
            "User name is: Mark Anthony\n",
            "User age is: 33\n",
            "Welcome Anthony!\n",
            "\n",
            "User name is: Lee Cooper\n",
            "User age is: 13\n",
            "Welcome Cooper!\n"
          ]
        }
      ]
    }
  ]
}