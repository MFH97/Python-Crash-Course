{
  "nbformat": 4,
  "nbformat_minor": 0,
  "metadata": {
    "colab": {
      "provenance": [],
      "authorship_tag": "ABX9TyNJYwjvmTWqXhv0FyC2/0s+",
      "include_colab_link": true
    },
    "kernelspec": {
      "name": "python3",
      "display_name": "Python 3"
    },
    "language_info": {
      "name": "python"
    }
  },
  "cells": [
    {
      "cell_type": "markdown",
      "metadata": {
        "id": "view-in-github",
        "colab_type": "text"
      },
      "source": [
        "<a href=\"https://colab.research.google.com/github/MFH97/Python-Crash-Course/blob/main/Chp6.ipynb\" target=\"_parent\"><img src=\"https://colab.research.google.com/assets/colab-badge.svg\" alt=\"Open In Colab\"/></a>"
      ]
    },
    {
      "cell_type": "markdown",
      "source": [
        "# Dictionaries\n",
        " In this chapter you’ll learn how to use\n",
        "Python’s dictionaries, which allow you to connect pieces of related information. You’ll learn how to access the information once it’s in a dictionary and how to modify that information.  "
      ],
      "metadata": {
        "id": "0qXfCmADoPJ7"
      }
    },
    {
      "cell_type": "code",
      "execution_count": 9,
      "metadata": {
        "colab": {
          "base_uri": "https://localhost:8080/"
        },
        "id": "RytzecY1oOx8",
        "outputId": "b3cf6bc3-7360-4c6f-d4f8-753e9b76227b"
      },
      "outputs": [
        {
          "output_type": "stream",
          "name": "stdout",
          "text": [
            "green\n",
            "5\n",
            "You just earned 5 points!\n"
          ]
        }
      ],
      "source": [
        "alien_o ={'color':'green','points':5}\n",
        "new_points = alien_o['points'] = 5\n",
        "\n",
        "print(alien_o['color']) #Accessing Values in a Dictionary\n",
        "print(alien_o['points']) #Accessing Values in a Dictionary\n",
        "print( \"You just earned \" + str(new_points) + \" points!\")"
      ]
    },
    {
      "cell_type": "markdown",
      "source": [
        "A dictionary in Python is a collection of key-value pairs. Each key is connected to a value, and you can use a key to access the value associated with that key. A key’s value can be a number, a string, a list, or even another dictionary. In fact, you can use any object that you can create in Python as a value in a dictionary.\n",
        "\n",
        " In Python, a dictionary is wrapped in braces, {}"
      ],
      "metadata": {
        "id": "yxQvkE3xpG0H"
      }
    },
    {
      "cell_type": "code",
      "source": [
        " #Simple dictionary\n",
        " alien_0 = {'color': 'green'}"
      ],
      "metadata": {
        "id": "0q2wARSgplN-"
      },
      "execution_count": 6,
      "outputs": []
    },
    {
      "cell_type": "markdown",
      "source": [
        " A key-value pair is a set of values associated with each other. When you\n",
        "provide a key, Python returns the value associated with that key. Every key\n",
        "is connected to its value by a colon, and individual key-value pairs are sepa\n",
        "rated by commas. You can store as many key-value pairs as you want in a\n",
        "dictionary."
      ],
      "metadata": {
        "id": "yUiTfCLApiRO"
      }
    },
    {
      "cell_type": "code",
      "source": [
        "#Adding new key values pairs\n",
        "alien_o ={'color':'green','points':5}\n",
        "print(alien_o)\n",
        "\n",
        "alien_o['x_position'] = 0\n",
        "alien_o['y_position'] = 25\n",
        "print(alien_o)"
      ],
      "metadata": {
        "colab": {
          "base_uri": "https://localhost:8080/"
        },
        "id": "0_BN3PzJqpeW",
        "outputId": "93a0e32c-b5d5-4932-a243-69f7e48871c5"
      },
      "execution_count": 5,
      "outputs": [
        {
          "output_type": "stream",
          "name": "stdout",
          "text": [
            "{'color': 'green', 'points': 5}\n",
            "{'color': 'green', 'points': 5, 'x_position': 0, 'y_position': 25}\n"
          ]
        }
      ]
    },
    {
      "cell_type": "markdown",
      "source": [
        " Dictionaries are dynamic structures, and you can add new key-value pairs\n",
        "to a dictionary at any time. For example, to add a new key-value pair, you would give the name of the dictionary followed by the new key in square brackets along with the new value."
      ],
      "metadata": {
        "id": "mTzx1sKIqlFm"
      }
    },
    {
      "cell_type": "code",
      "source": [
        "#Starting with an empty dictionary\n",
        "alien_1 = {} #define a dictionary\n",
        "\n",
        "alien_1 ['color'] = 'red' #add key value pair\n",
        "alien_1 ['points'] = 10   #add key value pair\n",
        "print(alien_1)"
      ],
      "metadata": {
        "colab": {
          "base_uri": "https://localhost:8080/"
        },
        "id": "Wf6QzH5WrEIW",
        "outputId": "2be9361d-7cfd-4b25-b98a-7f13fe3edf8a"
      },
      "execution_count": 7,
      "outputs": [
        {
          "output_type": "stream",
          "name": "stdout",
          "text": [
            "{'color': 'red', 'points': 10}\n"
          ]
        }
      ]
    },
    {
      "cell_type": "code",
      "source": [
        "#Modifying  values\n",
        "alien_1 = {'color': 'red'}\n",
        "print(\"This alien is \" + alien_1['color'] + '.')\n",
        "alien_1 = {'color': 'blue'}\n",
        "print(\"This alien is now \" + alien_1['color'] + '.')"
      ],
      "metadata": {
        "colab": {
          "base_uri": "https://localhost:8080/"
        },
        "id": "mh1xGSiRrgrV",
        "outputId": "95204f14-f55a-42a9-8aa5-28afbffadc07"
      },
      "execution_count": 10,
      "outputs": [
        {
          "output_type": "stream",
          "name": "stdout",
          "text": [
            "This alien is red.\n",
            "This alien is now blue.\n"
          ]
        }
      ]
    },
    {
      "cell_type": "markdown",
      "source": [
        "#Example\n",
        "Let’s track the position of an alien that\n",
        "can move at different speeds. We’ll store a value representing the alien’s\n",
        "current speed and then use it to determine how far to the right the alien\n",
        "should move:"
      ],
      "metadata": {
        "id": "ASBGq9A7ruO9"
      }
    },
    {
      "cell_type": "code",
      "source": [
        "alien_1 = {'x_position': 0, 'y_position': 25, 'speed': 'medium' }\n",
        "print(\"Original X-position \" + str(alien_1['x_position']))\n",
        "#Move alien to the right\n",
        "#Determine how far is the alien based on its current speed\n",
        "if alien_1['speed'] == 'slow':\n",
        "    x_increment = 1\n",
        "elif alien_1['speed']== 'medium':\n",
        "    x_increment = 2\n",
        "else:\n",
        "    #Fast alien\n",
        "    x_increment = 3\n",
        "#The new position is the old position + increment\n",
        "alien_1['x_position'] = alien_1['x_position'] + x_increment\n",
        "print(\"New X-Position: \" + str(alien_1['x_position']))"
      ],
      "metadata": {
        "colab": {
          "base_uri": "https://localhost:8080/"
        },
        "id": "119PftXMrv3N",
        "outputId": "fbcd9af7-dd97-4343-d053-39ce18a40667"
      },
      "execution_count": 11,
      "outputs": [
        {
          "output_type": "stream",
          "name": "stdout",
          "text": [
            "Original X-position 0\n",
            "New X-Position: 2\n"
          ]
        }
      ]
    },
    {
      "cell_type": "markdown",
      "source": [
        " When you no longer need a piece of information that’s stored in a diction\n",
        "ary, you can use the del statement to completely remove a key-value pair.\n",
        "All del needs is the name of the dictionary and the key that you want to\n",
        "remove."
      ],
      "metadata": {
        "id": "4sYtoJCxsHht"
      }
    },
    {
      "cell_type": "code",
      "source": [
        "#Removing key values\n",
        "alien_0 ={'color':'green','points':5}\n",
        "print(alien_0)\n",
        "del alien_0['points']\n",
        "print(alien_0)"
      ],
      "metadata": {
        "colab": {
          "base_uri": "https://localhost:8080/"
        },
        "id": "t61OwB8BsQS1",
        "outputId": "a9dde1aa-6542-4096-ac8d-09c1d91379b4"
      },
      "execution_count": 13,
      "outputs": [
        {
          "output_type": "stream",
          "name": "stdout",
          "text": [
            "{'color': 'green', 'points': 5}\n",
            "{'color': 'green'}\n"
          ]
        }
      ]
    },
    {
      "cell_type": "markdown",
      "source": [
        "You can also use a dictionary to store one kind of information about many objects. For example, say you want to poll a number of people and ask them what their favorite programming language\n",
        "is. A dictionary is useful for storing the results of a simple poll, like this:"
      ],
      "metadata": {
        "id": "KLOezjaqsfIt"
      }
    },
    {
      "cell_type": "code",
      "source": [
        "favorite_languages = {\n",
        "    'Ryan':'java',\n",
        "    'Eirfan': 'c++',\n",
        "    'Mathew': 'python'\n",
        "}\n",
        "\n",
        "print(\"Mathew's favorite language is \" +\n",
        "    favorite_languages['Mathew'] + '.')"
      ],
      "metadata": {
        "colab": {
          "base_uri": "https://localhost:8080/"
        },
        "id": "xo4PJeWvspqO",
        "outputId": "612e801c-a5f6-439f-847f-2027d68e607c"
      },
      "execution_count": 14,
      "outputs": [
        {
          "output_type": "stream",
          "name": "stdout",
          "text": [
            "Mathew's favorite language is python.\n"
          ]
        }
      ]
    },
    {
      "cell_type": "markdown",
      "source": [
        "#  looping through a dictionary"
      ],
      "metadata": {
        "id": "l9dps_Cos80c"
      }
    },
    {
      "cell_type": "code",
      "source": [
        "User1 = {\n",
        "    'username': 'Iron Mike',\n",
        "    'first': 'Mike',\n",
        "    'last': 'Tyson'\n",
        "}\n",
        "\n",
        "for key, value in User1.items(): # key and value are variables\n",
        "    print(\"\\nkey:\" + key)\n",
        "    print(\"value: \" + value)"
      ],
      "metadata": {
        "colab": {
          "base_uri": "https://localhost:8080/"
        },
        "id": "vOgtWa-0tBgc",
        "outputId": "20b405ae-e4e5-43ff-f53b-c427d2235471"
      },
      "execution_count": 15,
      "outputs": [
        {
          "output_type": "stream",
          "name": "stdout",
          "text": [
            "\n",
            "key:username\n",
            "value: Iron Mike\n",
            "\n",
            "key:first\n",
            "value: Mike\n",
            "\n",
            "key:last\n",
            "value: Tyson\n"
          ]
        }
      ]
    },
    {
      "cell_type": "code",
      "source": [
        "favorite_languages = {\n",
        "    'Ryan':'java',\n",
        "    'Eirfan': 'c++',\n",
        "    'Mathew': 'python'\n",
        "}\n",
        "\n",
        "for name, language in favorite_languages.items():\n",
        "    print(name + \"'s favorite language is \" + language + '.')"
      ],
      "metadata": {
        "colab": {
          "base_uri": "https://localhost:8080/"
        },
        "id": "efDwg2rMtUfM",
        "outputId": "c2510367-c4c0-400d-867e-216527f98873"
      },
      "execution_count": 16,
      "outputs": [
        {
          "output_type": "stream",
          "name": "stdout",
          "text": [
            "Ryan's favorite language is java.\n",
            "Eirfan's favorite language is c++.\n",
            "Mathew's favorite language is python.\n"
          ]
        }
      ]
    },
    {
      "cell_type": "code",
      "source": [
        "#Looping Through All the Keys in a Dictionary\n",
        "favorite_color = {\n",
        "    'Ryan':'blue',\n",
        "    'Eirfan': 'black',\n",
        "    'Farhan': 'green',\n",
        "    'Mathew': 'yellow',\n",
        "    'Neha': 'pink'\n",
        "}\n",
        "\n",
        "friends = ['Mathew','Farhan','Eirfan']\n",
        "for name in favorite_color.keys(): # can omit the .keys()\n",
        "    print('\\n'+ name)\n",
        "    if name in friends:\n",
        "        print(\"\\nHey \" + name + \", is your favorite color \" + favorite_color[name] + '?')\n",
        "\n",
        "if 'Alex' not in favorite_color.keys():\n",
        "            print(\"\\nAlex, what is your favorite color?\")"
      ],
      "metadata": {
        "colab": {
          "base_uri": "https://localhost:8080/"
        },
        "id": "8lsn_6rgtzss",
        "outputId": "a57167eb-98ac-44c3-ea2c-8b7da21a1ec4"
      },
      "execution_count": 19,
      "outputs": [
        {
          "output_type": "stream",
          "name": "stdout",
          "text": [
            "\n",
            "Ryan\n",
            "\n",
            "Eirfan\n",
            "\n",
            "Hey Eirfan, is your favorite color black?\n",
            "\n",
            "Farhan\n",
            "\n",
            "Hey Farhan, is your favorite color green?\n",
            "\n",
            "Mathew\n",
            "\n",
            "Hey Mathew, is your favorite color yellow?\n",
            "\n",
            "Neha\n",
            "\n",
            "Alex, what is your favorite color?\n"
          ]
        }
      ]
    },
    {
      "cell_type": "markdown",
      "source": [
        "This Python code prints out the names and favorite colors from a dictionary. Additionally, it checks if specific friends are in the dictionary and prompts a message if their favorite color matches. If a name (in this case, \"Alex\") is not found in the dictionary, it prompts asking for their favorite color.\n",
        "\n",
        "Here's a summary of what happens:\n",
        "\n",
        "Iterates through the favorite_color dictionary:\n",
        "\n",
        "Prints each person's name.\n",
        "Checks if the name is in the friends list. If so, it prints a message asking if the person's favorite color is correct.\n",
        "Checks if 'Alex' is not in the dictionary:\n",
        "\n",
        "If 'Alex' is missing from the dictionary, it prints a message asking for Alex's favorite color."
      ],
      "metadata": {
        "id": "U_xuYKfxvgbz"
      }
    },
    {
      "cell_type": "code",
      "source": [
        "#Looping Through a Dictionary’s Keys in Order\n",
        "favorite_color = {\n",
        "    'Ryan':'blue',\n",
        "    'Eirfan': 'black',\n",
        "    'Farhan': 'green',\n",
        "    'Mathew': 'yellow',\n",
        "    'Neha': 'pink'\n",
        "}\n",
        "for name in sorted(favorite_color.keys()):\n",
        "    print(name + \", thank you for taking the poll.\")"
      ],
      "metadata": {
        "colab": {
          "base_uri": "https://localhost:8080/"
        },
        "id": "oqF-8JKevsk7",
        "outputId": "15940868-1ea6-41eb-c356-e8aa5965466c"
      },
      "execution_count": 22,
      "outputs": [
        {
          "output_type": "stream",
          "name": "stdout",
          "text": [
            "Eirfan, thank you for taking the poll.\n",
            "Farhan, thank you for taking the poll.\n",
            "Mathew, thank you for taking the poll.\n",
            "Neha, thank you for taking the poll.\n",
            "Ryan, thank you for taking the poll.\n"
          ]
        }
      ]
    },
    {
      "cell_type": "code",
      "source": [
        "# Looping Through All Values in a Dictionary\n",
        "favorite_languages = {\n",
        "    'Ryan':'java',\n",
        "    'Eirfan': 'c++',\n",
        "    'Farhan': 'java',\n",
        "    'Mathew': 'python'\n",
        "}\n",
        "\n",
        "print(\"These are the languages mentioned: \")\n",
        "for language in favorite_languages.values():\n",
        "    print( language )"
      ],
      "metadata": {
        "colab": {
          "base_uri": "https://localhost:8080/"
        },
        "id": "pQmPEnwKxaDi",
        "outputId": "c50c14bd-1e45-42ef-a768-02257d6e5b1a"
      },
      "execution_count": 28,
      "outputs": [
        {
          "output_type": "stream",
          "name": "stdout",
          "text": [
            "These are the languages mentioned: \n",
            "java\n",
            "c++\n",
            "java\n",
            "python\n"
          ]
        }
      ]
    },
    {
      "cell_type": "markdown",
      "source": [
        " This approach pulls all the values from the dictionary after checking\n",
        "for repeats using **set**."
      ],
      "metadata": {
        "id": "9gYIrK5vx665"
      }
    },
    {
      "cell_type": "code",
      "source": [
        "favorite_languages = {\n",
        "    'Ryan':'java',\n",
        "    'Eirfan': 'c++',\n",
        "    'Alex': 'ruby',\n",
        "    'Mathew': 'python',\n",
        "    'Farhan': 'java'\n",
        "}\n",
        "\n",
        "print(\"These are the languages mentioned: \")\n",
        "#set removes duplicate items\n",
        "for language in set(favorite_languages.values()):\n",
        "    print( language )"
      ],
      "metadata": {
        "colab": {
          "base_uri": "https://localhost:8080/"
        },
        "id": "Zvf6dXgFxqW5",
        "outputId": "0eb13fd4-a848-44e3-eacf-09decc22a8a6"
      },
      "execution_count": 25,
      "outputs": [
        {
          "output_type": "stream",
          "name": "stdout",
          "text": [
            "These are the languages mentioned: \n",
            "java\n",
            "c++\n",
            "ruby\n",
            "python\n"
          ]
        }
      ]
    },
    {
      "cell_type": "markdown",
      "source": [
        "Sometimes you’ll want to store a set of dictionaries in a list or a list of\n",
        "items as a value in a dictionary. This is called nesting. You can nest a set\n",
        "of dictionaries inside a list, a list of items inside a dictionary, or even a\n",
        "dictionary inside another dictionary."
      ],
      "metadata": {
        "id": "Gk_ipjM9y578"
      }
    },
    {
      "cell_type": "code",
      "source": [
        "#Nesting\n",
        "\n",
        "alien1 = {'color': 'red', 'points': 20}\n",
        "alien2 = {'color': 'green', 'points': 10}\n",
        "alien3 = {'color': 'blue', 'points': 15}\n",
        "\n",
        "#A list of Dictionaries\n",
        "aliens = [alien1, alien2, alien3]\n",
        "\n",
        "for alien in aliens:\n",
        "    print(alien)"
      ],
      "metadata": {
        "colab": {
          "base_uri": "https://localhost:8080/"
        },
        "id": "0r79PPZ2yzrV",
        "outputId": "a045bb44-50e7-4495-c5e5-a1e1ae344f8d"
      },
      "execution_count": 29,
      "outputs": [
        {
          "output_type": "stream",
          "name": "stdout",
          "text": [
            "{'color': 'red', 'points': 20}\n",
            "{'color': 'green', 'points': 10}\n",
            "{'color': 'blue', 'points': 15}\n"
          ]
        }
      ]
    },
    {
      "cell_type": "code",
      "source": [
        "#Storing dictionary in a list\n",
        "#Empty list to store aliens\n",
        "\n",
        "aliens = []\n",
        "\n",
        "# Make 30 red aliens\n",
        "for alien_number in range(30):\n",
        "    new_alien = {'color': 'red', 'points': 20, 'speed': 'fast'}\n",
        "    aliens.append(new_alien)\n",
        "\n",
        "# Show the first 5 aliens\n",
        "for alien in aliens[:5]:\n",
        "    print(alien)\n",
        "\n",
        "print(\"...\")\n",
        "\n",
        "# Show how many aliens have been created\n",
        "print(\"Total number of aliens: \" + str(len(aliens)))"
      ],
      "metadata": {
        "colab": {
          "base_uri": "https://localhost:8080/"
        },
        "id": "txP-c9fmzfBh",
        "outputId": "e3acc32f-30ff-4a69-fde0-a73171697550"
      },
      "execution_count": 30,
      "outputs": [
        {
          "output_type": "stream",
          "name": "stdout",
          "text": [
            "{'color': 'red', 'points': 20, 'speed': 'fast'}\n",
            "{'color': 'red', 'points': 20, 'speed': 'fast'}\n",
            "{'color': 'red', 'points': 20, 'speed': 'fast'}\n",
            "{'color': 'red', 'points': 20, 'speed': 'fast'}\n",
            "{'color': 'red', 'points': 20, 'speed': 'fast'}\n",
            "...\n",
            "Total number of aliens: 30\n"
          ]
        }
      ]
    },
    {
      "cell_type": "code",
      "source": [
        "#change first 3 aliens\n",
        "\n",
        "aliens = []\n",
        "\n",
        "# Make 30 red aliens\n",
        "for alien_number in range(0,30):\n",
        "    new_alien = {'color': 'red', 'points': 20, 'speed': 'fast'}\n",
        "    aliens.append(new_alien)\n",
        "\n",
        "# Change the properties of the first three aliens\n",
        "for alien in aliens[0:3]:\n",
        "    if alien['color'] == 'red':\n",
        "        alien['color'] = 'green'\n",
        "        alien['speed'] = 'medium'\n",
        "        alien['points'] = 10\n",
        "\n",
        "# Show the first 5 aliens\n",
        "for alien in aliens[0:5]:\n",
        "    print(alien)\n",
        "\n",
        "print(\"...\")"
      ],
      "metadata": {
        "colab": {
          "base_uri": "https://localhost:8080/"
        },
        "id": "82_OCnoHz07h",
        "outputId": "5b64e53e-b25a-4858-ecb3-ab8890248b67"
      },
      "execution_count": 31,
      "outputs": [
        {
          "output_type": "stream",
          "name": "stdout",
          "text": [
            "{'color': 'green', 'points': 10, 'speed': 'medium'}\n",
            "{'color': 'green', 'points': 10, 'speed': 'medium'}\n",
            "{'color': 'green', 'points': 10, 'speed': 'medium'}\n",
            "{'color': 'red', 'points': 20, 'speed': 'fast'}\n",
            "{'color': 'red', 'points': 20, 'speed': 'fast'}\n",
            "...\n"
          ]
        }
      ]
    },
    {
      "cell_type": "code",
      "source": [
        "#Nesting a list inside dictionary\n",
        "#store information about pizza being ordered\n",
        "\n",
        "pizza = {\n",
        "    'crust': 'thick',\n",
        "    'toppings': ['mushrooms','extra cheese'],\n",
        "}\n",
        "#summarize the order\n",
        "print(\"You orderd a \" + pizza['crust'] + \"-crust pizza \" +\n",
        "    \"with the following toppnings:\")\n",
        "for topping in pizza['toppings']:\n",
        "    print(\"\\t\" + topping)\n"
      ],
      "metadata": {
        "colab": {
          "base_uri": "https://localhost:8080/"
        },
        "id": "Zrg3KtSTz-Go",
        "outputId": "9a8304f9-16ec-401a-9e61-950ee3940b66"
      },
      "execution_count": 34,
      "outputs": [
        {
          "output_type": "stream",
          "name": "stdout",
          "text": [
            "You orderd a thick-crust pizza with the following toppnings:\n",
            "\tmushrooms\n",
            "\textra cheese\n"
          ]
        }
      ]
    },
    {
      "cell_type": "code",
      "source": [
        "\n",
        "favorite_languages = {\n",
        "    'Ryan':['java','c++'],\n",
        "    'Eirfan': ['c++'],\n",
        "    'Mathew': ['python','c++'],\n",
        "    'Sarah': ['html','css','javascript']\n",
        "}\n",
        "\n",
        "for name, languages in favorite_languages.items():\n",
        "    print(\"\\n\" + name + \"'s favorite languages are:\")\n",
        "    for language in languages:\n",
        "        print(\"\\t\" + language.title())"
      ],
      "metadata": {
        "colab": {
          "base_uri": "https://localhost:8080/"
        },
        "id": "s413Ylcg0lCo",
        "outputId": "f444d01d-6223-485a-cabb-aaf6e77e5676"
      },
      "execution_count": 35,
      "outputs": [
        {
          "output_type": "stream",
          "name": "stdout",
          "text": [
            "\n",
            "Ryan's favorite languages are:\n",
            "\tJava\n",
            "\tC++\n",
            "\n",
            "Eirfan's favorite languages are:\n",
            "\tC++\n",
            "\n",
            "Mathew's favorite languages are:\n",
            "\tPython\n",
            "\tC++\n",
            "\n",
            "Sarah's favorite languages are:\n",
            "\tHtml\n",
            "\tCss\n",
            "\tJavascript\n"
          ]
        }
      ]
    },
    {
      "cell_type": "code",
      "source": [
        "#A dictionary in a dictionary\n",
        "users = {\n",
        "    'Bigbrains':{\n",
        "        'first': 'albert',\n",
        "        'last': 'einstein',\n",
        "        'location': 'princeton',\n",
        "    },\n",
        "    'IronMike':{\n",
        "        'first': 'mike',\n",
        "        'last': 'tyson',\n",
        "        'location': 'new york',\n",
        "    },\n",
        "}\n",
        "\n",
        "for username, user_info in users.items():\n",
        "    print(\"\\nUsername: \" + username)\n",
        "    full_name = user_info['first'] + \" \" + user_info['last']\n",
        "    location = user_info['location']\n",
        "\n",
        "    print(\"\\tFull name:\" + full_name.title())\n",
        "    print(\"\\tLocation: \" + location.title())"
      ],
      "metadata": {
        "colab": {
          "base_uri": "https://localhost:8080/"
        },
        "id": "oQIg3Ab50CFo",
        "outputId": "1f3897a0-32aa-45fc-855d-ed29f39e8836"
      },
      "execution_count": 33,
      "outputs": [
        {
          "output_type": "stream",
          "name": "stdout",
          "text": [
            "\n",
            "Username: Bigbrains\n",
            "\tFull name:Albert Einstein\n",
            "\tLocation: Princeton\n",
            "\n",
            "Username: IronMike\n",
            "\tFull name:Mike Tyson\n",
            "\tLocation: New York\n"
          ]
        }
      ]
    }
  ]
}